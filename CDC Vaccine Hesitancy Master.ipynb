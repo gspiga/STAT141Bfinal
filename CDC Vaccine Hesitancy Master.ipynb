{
 "cells": [
  {
   "cell_type": "markdown",
   "id": "b913ec9c",
   "metadata": {},
   "source": [
    "# 141B Final Project: Vaccine Hesitancy in the United States\n",
    "## by Antonio Pelayo, Gianni Spiga, and Sharon Vien\n",
    "\n",
    "In this notebook, we explore data provided by the CDC in regards to the hesistancy of adults in the United States in hopes to find any patterns or trends that might help better prepare for more efficient vaccine rollout on a nationwide and statewide scale in the future. **We will provide preliminary results in this main notebook and dive deeper into each research question in our respective notebooks in the notebook folder.**\n",
    "\n",
    "\n",
    "## Grading Criteria \n",
    "1. Project organization, writeup readability, and overall conclusions\n",
    "2. Code quality, readability, and efficiency \n",
    "3. Data Munging\n",
    "4. Data Visualizations\n",
    "5. Data Extraction\n",
    "\n",
    "## Table of Contents\n",
    "* [Data Extraction](#data-extraction)\n",
    "* [Variable Descriptions](#variable-description)\n",
    "* [Data Munging and Cleaning](#data-munging)\n",
    "* [Data Visualization](#data-visualization)\n",
    "* [Conclusions](#conclusions)"
   ]
  },
  {
   "cell_type": "code",
   "execution_count": 8,
   "id": "71483042",
   "metadata": {},
   "outputs": [
    {
     "data": {
      "application/javascript": [
       "\n",
       "            setTimeout(function() {\n",
       "                var nbb_cell_id = 8;\n",
       "                var nbb_unformatted_code = \"#AutoFormatting for all code\\n%load_ext nb_black\";\n",
       "                var nbb_formatted_code = \"# AutoFormatting for all code\\n%load_ext nb_black\";\n",
       "                var nbb_cells = Jupyter.notebook.get_cells();\n",
       "                for (var i = 0; i < nbb_cells.length; ++i) {\n",
       "                    if (nbb_cells[i].input_prompt_number == nbb_cell_id) {\n",
       "                        if (nbb_cells[i].get_text() == nbb_unformatted_code) {\n",
       "                             nbb_cells[i].set_text(nbb_formatted_code);\n",
       "                        }\n",
       "                        break;\n",
       "                    }\n",
       "                }\n",
       "            }, 500);\n",
       "            "
      ],
      "text/plain": [
       "<IPython.core.display.Javascript object>"
      ]
     },
     "metadata": {},
     "output_type": "display_data"
    }
   ],
   "source": [
    "# AutoFormatting for all code\n",
    "%load_ext nb_black"
   ]
  },
  {
   "cell_type": "code",
   "execution_count": 30,
   "id": "c18415da",
   "metadata": {},
   "outputs": [
    {
     "data": {
      "application/javascript": [
       "\n",
       "            setTimeout(function() {\n",
       "                var nbb_cell_id = 30;\n",
       "                var nbb_unformatted_code = \"# Libraries\\nimport datetime\\nimport requests\\nimport matplotlib.pyplot as plt\\nimport numpy as np\\nimport pandas as pd\\nimport seaborn as sns\\nimport sqlalchemy as sqla\\nimport plotnine as p9\\nimport statsmodels.api as sm\\nimport statsmodels.formula.api as smf\\nimport matplotlib.pyplot as plt\\nfrom bioinfokit.analys import stat\\nimport scipy.stats as stats\\n\\n# Other data used in the analysis\\ncounty_deaths_df = pd.read_csv(\\\"data/cdc-deaths-by-county-and-race.csv\\\")\\nstate_abbreviations_df = pd.read_csv(\\\"data/state-abbreviations.csv\\\")\\nstate_parties_df = pd.read_csv(\\\"data/state-political-parties.csv\\\")\\nstate_populations_df = pd.read_csv(\\\"data/census-2020-county-population-totals.csv\\\")\";\n",
       "                var nbb_formatted_code = \"# Libraries\\nimport datetime\\nimport requests\\nimport matplotlib.pyplot as plt\\nimport numpy as np\\nimport pandas as pd\\nimport seaborn as sns\\nimport sqlalchemy as sqla\\nimport plotnine as p9\\nimport statsmodels.api as sm\\nimport statsmodels.formula.api as smf\\nimport matplotlib.pyplot as plt\\nfrom bioinfokit.analys import stat\\nimport scipy.stats as stats\\n\\n# Other data used in the analysis\\ncounty_deaths_df = pd.read_csv(\\\"data/cdc-deaths-by-county-and-race.csv\\\")\\nstate_abbreviations_df = pd.read_csv(\\\"data/state-abbreviations.csv\\\")\\nstate_parties_df = pd.read_csv(\\\"data/state-political-parties.csv\\\")\\nstate_populations_df = pd.read_csv(\\\"data/census-2020-county-population-totals.csv\\\")\";\n",
       "                var nbb_cells = Jupyter.notebook.get_cells();\n",
       "                for (var i = 0; i < nbb_cells.length; ++i) {\n",
       "                    if (nbb_cells[i].input_prompt_number == nbb_cell_id) {\n",
       "                        if (nbb_cells[i].get_text() == nbb_unformatted_code) {\n",
       "                             nbb_cells[i].set_text(nbb_formatted_code);\n",
       "                        }\n",
       "                        break;\n",
       "                    }\n",
       "                }\n",
       "            }, 500);\n",
       "            "
      ],
      "text/plain": [
       "<IPython.core.display.Javascript object>"
      ]
     },
     "metadata": {},
     "output_type": "display_data"
    }
   ],
   "source": [
    "# Libraries\n",
    "import datetime\n",
    "import requests\n",
    "import matplotlib.pyplot as plt\n",
    "import numpy as np\n",
    "import pandas as pd\n",
    "import seaborn as sns\n",
    "import sqlalchemy as sqla\n",
    "import plotnine as p9\n",
    "import statsmodels.api as sm\n",
    "import statsmodels.formula.api as smf\n",
    "import matplotlib.pyplot as plt\n",
    "from bioinfokit.analys import stat\n",
    "import scipy.stats as stats\n",
    "\n",
    "# Other data used in the analysis\n",
    "county_deaths_df = pd.read_csv(\"data/cdc-deaths-by-county-and-race.csv\")\n",
    "state_abbreviations_df = pd.read_csv(\"data/state-abbreviations.csv\")\n",
    "state_parties_df = pd.read_csv(\"data/state-political-parties.csv\")\n",
    "state_populations_df = pd.read_csv(\"data/census-2020-county-population-totals.csv\")"
   ]
  },
  {
   "cell_type": "markdown",
   "id": "e24e21e7",
   "metadata": {},
   "source": [
    "<a id=\"data-extraction\"></a>\n",
    "### Extracting the Data"
   ]
  },
  {
   "cell_type": "code",
   "execution_count": 10,
   "id": "fcb1e30e",
   "metadata": {},
   "outputs": [
    {
     "data": {
      "text/html": [
       "<div>\n",
       "<style scoped>\n",
       "    .dataframe tbody tr th:only-of-type {\n",
       "        vertical-align: middle;\n",
       "    }\n",
       "\n",
       "    .dataframe tbody tr th {\n",
       "        vertical-align: top;\n",
       "    }\n",
       "\n",
       "    .dataframe thead th {\n",
       "        text-align: right;\n",
       "    }\n",
       "</style>\n",
       "<table border=\"1\" class=\"dataframe\">\n",
       "  <thead>\n",
       "    <tr style=\"text-align: right;\">\n",
       "      <th></th>\n",
       "      <th>fips_code</th>\n",
       "      <th>county_name</th>\n",
       "      <th>state</th>\n",
       "      <th>estimated_hesitant</th>\n",
       "      <th>estimated_hesitant_or_unsure</th>\n",
       "      <th>estimated_strongly_hesitant</th>\n",
       "      <th>social_vulnerability_index</th>\n",
       "      <th>svi_category</th>\n",
       "      <th>ability_to_handle_a_covid</th>\n",
       "      <th>cvac_category</th>\n",
       "      <th>...</th>\n",
       "      <th>percent_non_hispanic_asian</th>\n",
       "      <th>percent_non_hispanic_black</th>\n",
       "      <th>percent_non_hispanic_native</th>\n",
       "      <th>percent_non_hispanic_white</th>\n",
       "      <th>geographical_point</th>\n",
       "      <th>state_code</th>\n",
       "      <th>county_boundary</th>\n",
       "      <th>state_boundary</th>\n",
       "      <th>:@computed_region_hjsp_umg2</th>\n",
       "      <th>:@computed_region_skr5_azej</th>\n",
       "    </tr>\n",
       "  </thead>\n",
       "  <tbody>\n",
       "    <tr>\n",
       "      <th>0</th>\n",
       "      <td>1123</td>\n",
       "      <td>Tallapoosa County, Alabama</td>\n",
       "      <td>ALABAMA</td>\n",
       "      <td>0.1806</td>\n",
       "      <td>0.24</td>\n",
       "      <td>0.1383</td>\n",
       "      <td>0.89</td>\n",
       "      <td>Very High Vulnerability</td>\n",
       "      <td>0.64</td>\n",
       "      <td>High Concern</td>\n",
       "      <td>...</td>\n",
       "      <td>0.0036</td>\n",
       "      <td>0.2697</td>\n",
       "      <td>0</td>\n",
       "      <td>0.6887</td>\n",
       "      <td>{'type': 'Point', 'coordinates': [-86.844516, ...</td>\n",
       "      <td>AL</td>\n",
       "      <td>{'type': 'MultiPolygon', 'coordinates': [[[[-8...</td>\n",
       "      <td>{'type': 'MultiPolygon', 'coordinates': [[[[-8...</td>\n",
       "      <td>29</td>\n",
       "      <td>94</td>\n",
       "    </tr>\n",
       "    <tr>\n",
       "      <th>1</th>\n",
       "      <td>1121</td>\n",
       "      <td>Talladega County, Alabama</td>\n",
       "      <td>ALABAMA</td>\n",
       "      <td>0.1783</td>\n",
       "      <td>0.235</td>\n",
       "      <td>0.1368</td>\n",
       "      <td>0.87</td>\n",
       "      <td>Very High Vulnerability</td>\n",
       "      <td>0.84</td>\n",
       "      <td>Very High Concern</td>\n",
       "      <td>...</td>\n",
       "      <td>0.0061</td>\n",
       "      <td>0.3237</td>\n",
       "      <td>0.0003</td>\n",
       "      <td>0.6263</td>\n",
       "      <td>{'type': 'Point', 'coordinates': [-86.844516, ...</td>\n",
       "      <td>AL</td>\n",
       "      <td>{'type': 'MultiPolygon', 'coordinates': [[[[-8...</td>\n",
       "      <td>{'type': 'MultiPolygon', 'coordinates': [[[[-8...</td>\n",
       "      <td>29</td>\n",
       "      <td>94</td>\n",
       "    </tr>\n",
       "    <tr>\n",
       "      <th>2</th>\n",
       "      <td>1131</td>\n",
       "      <td>Wilcox County, Alabama</td>\n",
       "      <td>ALABAMA</td>\n",
       "      <td>0.1735</td>\n",
       "      <td>0.2357</td>\n",
       "      <td>0.1337</td>\n",
       "      <td>0.93</td>\n",
       "      <td>Very High Vulnerability</td>\n",
       "      <td>0.94</td>\n",
       "      <td>Very High Concern</td>\n",
       "      <td>...</td>\n",
       "      <td>0.0003</td>\n",
       "      <td>0.6938</td>\n",
       "      <td>0</td>\n",
       "      <td>0.2684</td>\n",
       "      <td>{'type': 'Point', 'coordinates': [-86.844516, ...</td>\n",
       "      <td>AL</td>\n",
       "      <td>{'type': 'MultiPolygon', 'coordinates': [[[[-8...</td>\n",
       "      <td>{'type': 'MultiPolygon', 'coordinates': [[[[-8...</td>\n",
       "      <td>29</td>\n",
       "      <td>94</td>\n",
       "    </tr>\n",
       "    <tr>\n",
       "      <th>3</th>\n",
       "      <td>1129</td>\n",
       "      <td>Washington County, Alabama</td>\n",
       "      <td>ALABAMA</td>\n",
       "      <td>0.1735</td>\n",
       "      <td>0.2357</td>\n",
       "      <td>0.1337</td>\n",
       "      <td>0.73</td>\n",
       "      <td>High Vulnerability</td>\n",
       "      <td>0.82</td>\n",
       "      <td>Very High Concern</td>\n",
       "      <td>...</td>\n",
       "      <td>0.0025</td>\n",
       "      <td>0.2354</td>\n",
       "      <td>0</td>\n",
       "      <td>0.6495</td>\n",
       "      <td>{'type': 'Point', 'coordinates': [-86.844516, ...</td>\n",
       "      <td>AL</td>\n",
       "      <td>{'type': 'MultiPolygon', 'coordinates': [[[[-8...</td>\n",
       "      <td>{'type': 'MultiPolygon', 'coordinates': [[[[-8...</td>\n",
       "      <td>29</td>\n",
       "      <td>94</td>\n",
       "    </tr>\n",
       "    <tr>\n",
       "      <th>4</th>\n",
       "      <td>1133</td>\n",
       "      <td>Winston County, Alabama</td>\n",
       "      <td>ALABAMA</td>\n",
       "      <td>0.1805</td>\n",
       "      <td>0.2313</td>\n",
       "      <td>0.1379</td>\n",
       "      <td>0.7</td>\n",
       "      <td>High Vulnerability</td>\n",
       "      <td>0.8</td>\n",
       "      <td>High Concern</td>\n",
       "      <td>...</td>\n",
       "      <td>0.0016</td>\n",
       "      <td>0.0073</td>\n",
       "      <td>0.0005</td>\n",
       "      <td>0.937</td>\n",
       "      <td>{'type': 'Point', 'coordinates': [-86.844516, ...</td>\n",
       "      <td>AL</td>\n",
       "      <td>{'type': 'MultiPolygon', 'coordinates': [[[[-8...</td>\n",
       "      <td>{'type': 'MultiPolygon', 'coordinates': [[[[-8...</td>\n",
       "      <td>29</td>\n",
       "      <td>94</td>\n",
       "    </tr>\n",
       "  </tbody>\n",
       "</table>\n",
       "<p>5 rows × 23 columns</p>\n",
       "</div>"
      ],
      "text/plain": [
       "  fips_code                 county_name    state estimated_hesitant  \\\n",
       "0      1123  Tallapoosa County, Alabama  ALABAMA             0.1806   \n",
       "1      1121   Talladega County, Alabama  ALABAMA             0.1783   \n",
       "2      1131      Wilcox County, Alabama  ALABAMA             0.1735   \n",
       "3      1129  Washington County, Alabama  ALABAMA             0.1735   \n",
       "4      1133     Winston County, Alabama  ALABAMA             0.1805   \n",
       "\n",
       "  estimated_hesitant_or_unsure estimated_strongly_hesitant  \\\n",
       "0                         0.24                      0.1383   \n",
       "1                        0.235                      0.1368   \n",
       "2                       0.2357                      0.1337   \n",
       "3                       0.2357                      0.1337   \n",
       "4                       0.2313                      0.1379   \n",
       "\n",
       "  social_vulnerability_index             svi_category  \\\n",
       "0                       0.89  Very High Vulnerability   \n",
       "1                       0.87  Very High Vulnerability   \n",
       "2                       0.93  Very High Vulnerability   \n",
       "3                       0.73       High Vulnerability   \n",
       "4                        0.7       High Vulnerability   \n",
       "\n",
       "  ability_to_handle_a_covid      cvac_category  ...  \\\n",
       "0                      0.64       High Concern  ...   \n",
       "1                      0.84  Very High Concern  ...   \n",
       "2                      0.94  Very High Concern  ...   \n",
       "3                      0.82  Very High Concern  ...   \n",
       "4                       0.8       High Concern  ...   \n",
       "\n",
       "  percent_non_hispanic_asian percent_non_hispanic_black  \\\n",
       "0                     0.0036                     0.2697   \n",
       "1                     0.0061                     0.3237   \n",
       "2                     0.0003                     0.6938   \n",
       "3                     0.0025                     0.2354   \n",
       "4                     0.0016                     0.0073   \n",
       "\n",
       "  percent_non_hispanic_native percent_non_hispanic_white  \\\n",
       "0                           0                     0.6887   \n",
       "1                      0.0003                     0.6263   \n",
       "2                           0                     0.2684   \n",
       "3                           0                     0.6495   \n",
       "4                      0.0005                      0.937   \n",
       "\n",
       "                                  geographical_point state_code  \\\n",
       "0  {'type': 'Point', 'coordinates': [-86.844516, ...         AL   \n",
       "1  {'type': 'Point', 'coordinates': [-86.844516, ...         AL   \n",
       "2  {'type': 'Point', 'coordinates': [-86.844516, ...         AL   \n",
       "3  {'type': 'Point', 'coordinates': [-86.844516, ...         AL   \n",
       "4  {'type': 'Point', 'coordinates': [-86.844516, ...         AL   \n",
       "\n",
       "                                     county_boundary  \\\n",
       "0  {'type': 'MultiPolygon', 'coordinates': [[[[-8...   \n",
       "1  {'type': 'MultiPolygon', 'coordinates': [[[[-8...   \n",
       "2  {'type': 'MultiPolygon', 'coordinates': [[[[-8...   \n",
       "3  {'type': 'MultiPolygon', 'coordinates': [[[[-8...   \n",
       "4  {'type': 'MultiPolygon', 'coordinates': [[[[-8...   \n",
       "\n",
       "                                      state_boundary  \\\n",
       "0  {'type': 'MultiPolygon', 'coordinates': [[[[-8...   \n",
       "1  {'type': 'MultiPolygon', 'coordinates': [[[[-8...   \n",
       "2  {'type': 'MultiPolygon', 'coordinates': [[[[-8...   \n",
       "3  {'type': 'MultiPolygon', 'coordinates': [[[[-8...   \n",
       "4  {'type': 'MultiPolygon', 'coordinates': [[[[-8...   \n",
       "\n",
       "  :@computed_region_hjsp_umg2 :@computed_region_skr5_azej  \n",
       "0                          29                          94  \n",
       "1                          29                          94  \n",
       "2                          29                          94  \n",
       "3                          29                          94  \n",
       "4                          29                          94  \n",
       "\n",
       "[5 rows x 23 columns]"
      ]
     },
     "execution_count": 10,
     "metadata": {},
     "output_type": "execute_result"
    },
    {
     "data": {
      "application/javascript": [
       "\n",
       "            setTimeout(function() {\n",
       "                var nbb_cell_id = 10;\n",
       "                var nbb_unformatted_code = \"# Request hesitancy data\\nhesitancy_endpoint = 'https://data.cdc.gov/resource/q9mh-h2tw.json?$limit=4000'\\n\\nr = requests.get(hesitancy_endpoint)\\nhesitancy_df = pd.DataFrame(r.json())\\nhesitancy_df.head()\";\n",
       "                var nbb_formatted_code = \"# Request hesitancy data\\nhesitancy_endpoint = \\\"https://data.cdc.gov/resource/q9mh-h2tw.json?$limit=4000\\\"\\n\\nr = requests.get(hesitancy_endpoint)\\nhesitancy_df = pd.DataFrame(r.json())\\nhesitancy_df.head()\";\n",
       "                var nbb_cells = Jupyter.notebook.get_cells();\n",
       "                for (var i = 0; i < nbb_cells.length; ++i) {\n",
       "                    if (nbb_cells[i].input_prompt_number == nbb_cell_id) {\n",
       "                        if (nbb_cells[i].get_text() == nbb_unformatted_code) {\n",
       "                             nbb_cells[i].set_text(nbb_formatted_code);\n",
       "                        }\n",
       "                        break;\n",
       "                    }\n",
       "                }\n",
       "            }, 500);\n",
       "            "
      ],
      "text/plain": [
       "<IPython.core.display.Javascript object>"
      ]
     },
     "metadata": {},
     "output_type": "display_data"
    }
   ],
   "source": [
    "# Request hesitancy data\n",
    "hesitancy_endpoint = \"https://data.cdc.gov/resource/q9mh-h2tw.json?$limit=4000\"\n",
    "\n",
    "r = requests.get(hesitancy_endpoint)\n",
    "hesitancy_df = pd.DataFrame(r.json())\n",
    "hesitancy_df.head()"
   ]
  },
  {
   "cell_type": "code",
   "execution_count": 11,
   "id": "d13b9134",
   "metadata": {},
   "outputs": [
    {
     "data": {
      "text/html": [
       "<div>\n",
       "<style scoped>\n",
       "    .dataframe tbody tr th:only-of-type {\n",
       "        vertical-align: middle;\n",
       "    }\n",
       "\n",
       "    .dataframe tbody tr th {\n",
       "        vertical-align: top;\n",
       "    }\n",
       "\n",
       "    .dataframe thead th {\n",
       "        text-align: right;\n",
       "    }\n",
       "</style>\n",
       "<table border=\"1\" class=\"dataframe\">\n",
       "  <thead>\n",
       "    <tr style=\"text-align: right;\">\n",
       "      <th></th>\n",
       "      <th>series_complete_yes</th>\n",
       "    </tr>\n",
       "    <tr>\n",
       "      <th>State Abbreviation</th>\n",
       "      <th></th>\n",
       "    </tr>\n",
       "  </thead>\n",
       "  <tbody>\n",
       "    <tr>\n",
       "      <th>AK</th>\n",
       "      <td>404199</td>\n",
       "    </tr>\n",
       "    <tr>\n",
       "      <th>AL</th>\n",
       "      <td>2288180</td>\n",
       "    </tr>\n",
       "    <tr>\n",
       "      <th>AR</th>\n",
       "      <td>1510981</td>\n",
       "    </tr>\n",
       "    <tr>\n",
       "      <th>AS</th>\n",
       "      <td>31594</td>\n",
       "    </tr>\n",
       "    <tr>\n",
       "      <th>AZ</th>\n",
       "      <td>4043529</td>\n",
       "    </tr>\n",
       "  </tbody>\n",
       "</table>\n",
       "</div>"
      ],
      "text/plain": [
       "                    series_complete_yes\n",
       "State Abbreviation                     \n",
       "AK                               404199\n",
       "AL                              2288180\n",
       "AR                              1510981\n",
       "AS                                31594\n",
       "AZ                              4043529"
      ]
     },
     "execution_count": 11,
     "metadata": {},
     "output_type": "execute_result"
    },
    {
     "data": {
      "application/javascript": [
       "\n",
       "            setTimeout(function() {\n",
       "                var nbb_cell_id = 11;\n",
       "                var nbb_unformatted_code = \"# Request vaccination data\\ncdc_completed_vaccinations_endpoint = 'https://data.cdc.gov/resource/8xkx-amqh.json?$limit=5000'\\nr = requests.get(cdc_completed_vaccinations_endpoint)\\ncounty_vaccination_counts_df = pd.DataFrame(r.json())\\n# county_vaccination_counts_df.head()\\ncounty_vaccination_counts_df = county_vaccination_counts_df.filter(\\n    [\\n        'date',\\n        'recip_state',\\n        'series_complete_yes'\\n    ]\\n)\\n\\n# Filter by today's date in format YYYY-MM-DD\\ntoday = datetime.datetime(2021, 12, 9).strftime('%Y-%m-%d')\\ntoday = today + 'T00:00:00.000'\\ncounty_vaccination_counts_df = county_vaccination_counts_df[\\n    county_vaccination_counts_df['date'] == today\\n]\\n\\n# Turn completed vaccination counts into integers\\ncounty_vaccination_counts_df['series_complete_yes'] = county_vaccination_counts_df['series_complete_yes'].astype(int)\\ncounty_vaccination_counts_df['State Abbreviation'] = county_vaccination_counts_df['recip_state'].str.upper()\\n\\n# Group counts by state\\nstate_vaccinations_df = county_vaccination_counts_df.groupby('State Abbreviation').sum()\\nstate_vaccinations_df.head()\";\n",
       "                var nbb_formatted_code = \"# Request vaccination data\\ncdc_completed_vaccinations_endpoint = (\\n    \\\"https://data.cdc.gov/resource/8xkx-amqh.json?$limit=5000\\\"\\n)\\nr = requests.get(cdc_completed_vaccinations_endpoint)\\ncounty_vaccination_counts_df = pd.DataFrame(r.json())\\n# county_vaccination_counts_df.head()\\ncounty_vaccination_counts_df = county_vaccination_counts_df.filter(\\n    [\\\"date\\\", \\\"recip_state\\\", \\\"series_complete_yes\\\"]\\n)\\n\\n# Filter by today's date in format YYYY-MM-DD\\ntoday = datetime.datetime(2021, 12, 9).strftime(\\\"%Y-%m-%d\\\")\\ntoday = today + \\\"T00:00:00.000\\\"\\ncounty_vaccination_counts_df = county_vaccination_counts_df[\\n    county_vaccination_counts_df[\\\"date\\\"] == today\\n]\\n\\n# Turn completed vaccination counts into integers\\ncounty_vaccination_counts_df[\\\"series_complete_yes\\\"] = county_vaccination_counts_df[\\n    \\\"series_complete_yes\\\"\\n].astype(int)\\ncounty_vaccination_counts_df[\\\"State Abbreviation\\\"] = county_vaccination_counts_df[\\n    \\\"recip_state\\\"\\n].str.upper()\\n\\n# Group counts by state\\nstate_vaccinations_df = county_vaccination_counts_df.groupby(\\\"State Abbreviation\\\").sum()\\nstate_vaccinations_df.head()\";\n",
       "                var nbb_cells = Jupyter.notebook.get_cells();\n",
       "                for (var i = 0; i < nbb_cells.length; ++i) {\n",
       "                    if (nbb_cells[i].input_prompt_number == nbb_cell_id) {\n",
       "                        if (nbb_cells[i].get_text() == nbb_unformatted_code) {\n",
       "                             nbb_cells[i].set_text(nbb_formatted_code);\n",
       "                        }\n",
       "                        break;\n",
       "                    }\n",
       "                }\n",
       "            }, 500);\n",
       "            "
      ],
      "text/plain": [
       "<IPython.core.display.Javascript object>"
      ]
     },
     "metadata": {},
     "output_type": "display_data"
    }
   ],
   "source": [
    "# Request vaccination data\n",
    "cdc_completed_vaccinations_endpoint = (\n",
    "    \"https://data.cdc.gov/resource/8xkx-amqh.json?$limit=5000\"\n",
    ")\n",
    "r = requests.get(cdc_completed_vaccinations_endpoint)\n",
    "county_vaccination_counts_df = pd.DataFrame(r.json())\n",
    "# county_vaccination_counts_df.head()\n",
    "county_vaccination_counts_df = county_vaccination_counts_df.filter(\n",
    "    [\"date\", \"recip_state\", \"series_complete_yes\"]\n",
    ")\n",
    "\n",
    "# Filter by today's date in format YYYY-MM-DD\n",
    "today = datetime.datetime(2021, 12, 9).strftime(\"%Y-%m-%d\")\n",
    "today = today + \"T00:00:00.000\"\n",
    "county_vaccination_counts_df = county_vaccination_counts_df[\n",
    "    county_vaccination_counts_df[\"date\"] == today\n",
    "]\n",
    "\n",
    "# Turn completed vaccination counts into integers\n",
    "county_vaccination_counts_df[\"series_complete_yes\"] = county_vaccination_counts_df[\n",
    "    \"series_complete_yes\"\n",
    "].astype(int)\n",
    "county_vaccination_counts_df[\"State Abbreviation\"] = county_vaccination_counts_df[\n",
    "    \"recip_state\"\n",
    "].str.upper()\n",
    "\n",
    "# Group counts by state\n",
    "state_vaccinations_df = county_vaccination_counts_df.groupby(\"State Abbreviation\").sum()\n",
    "state_vaccinations_df.head()"
   ]
  },
  {
   "cell_type": "markdown",
   "id": "8e13de58",
   "metadata": {},
   "source": [
    "<a id=\"variable-description\"></a>\n",
    "### Addressing and Understanding our Variables"
   ]
  },
  {
   "cell_type": "code",
   "execution_count": 12,
   "id": "a8e62120",
   "metadata": {},
   "outputs": [
    {
     "name": "stdout",
     "output_type": "stream",
     "text": [
      "<class 'pandas.core.frame.DataFrame'>\n",
      "RangeIndex: 3142 entries, 0 to 3141\n",
      "Data columns (total 23 columns):\n",
      " #   Column                         Non-Null Count  Dtype \n",
      "---  ------                         --------------  ----- \n",
      " 0   fips_code                      3142 non-null   object\n",
      " 1   county_name                    3142 non-null   object\n",
      " 2   state                          3142 non-null   object\n",
      " 3   estimated_hesitant             3142 non-null   object\n",
      " 4   estimated_hesitant_or_unsure   3142 non-null   object\n",
      " 5   estimated_strongly_hesitant    3142 non-null   object\n",
      " 6   social_vulnerability_index     3141 non-null   object\n",
      " 7   svi_category                   3141 non-null   object\n",
      " 8   ability_to_handle_a_covid      3142 non-null   object\n",
      " 9   cvac_category                  3142 non-null   object\n",
      " 10  percent_adults_fully           2864 non-null   object\n",
      " 11  percent_hispanic               3142 non-null   object\n",
      " 12  percent_non_hispanic_american  3142 non-null   object\n",
      " 13  percent_non_hispanic_asian     3142 non-null   object\n",
      " 14  percent_non_hispanic_black     3142 non-null   object\n",
      " 15  percent_non_hispanic_native    3142 non-null   object\n",
      " 16  percent_non_hispanic_white     3142 non-null   object\n",
      " 17  geographical_point             3142 non-null   object\n",
      " 18  state_code                     3142 non-null   object\n",
      " 19  county_boundary                3141 non-null   object\n",
      " 20  state_boundary                 3141 non-null   object\n",
      " 21  :@computed_region_hjsp_umg2    3142 non-null   object\n",
      " 22  :@computed_region_skr5_azej    3142 non-null   object\n",
      "dtypes: object(23)\n",
      "memory usage: 564.7+ KB\n"
     ]
    },
    {
     "data": {
      "application/javascript": [
       "\n",
       "            setTimeout(function() {\n",
       "                var nbb_cell_id = 12;\n",
       "                var nbb_unformatted_code = \"hesitancy_df.info()\";\n",
       "                var nbb_formatted_code = \"hesitancy_df.info()\";\n",
       "                var nbb_cells = Jupyter.notebook.get_cells();\n",
       "                for (var i = 0; i < nbb_cells.length; ++i) {\n",
       "                    if (nbb_cells[i].input_prompt_number == nbb_cell_id) {\n",
       "                        if (nbb_cells[i].get_text() == nbb_unformatted_code) {\n",
       "                             nbb_cells[i].set_text(nbb_formatted_code);\n",
       "                        }\n",
       "                        break;\n",
       "                    }\n",
       "                }\n",
       "            }, 500);\n",
       "            "
      ],
      "text/plain": [
       "<IPython.core.display.Javascript object>"
      ]
     },
     "metadata": {},
     "output_type": "display_data"
    }
   ],
   "source": [
    "hesitancy_df.info()"
   ]
  },
  {
   "cell_type": "markdown",
   "id": "ff53db0d",
   "metadata": {},
   "source": [
    "#### Variable Definitions\n",
    "1. fips_code = numbers that uniquely identify geographic areas  \n",
    "2. county_name = name of county  \n",
    "3. state = name of state  \n",
    "4. estimated_hesitant = percent of population that indicated they would \"probably not\" or \"definitely not\" receive a COVID-19 vaccine when available  \n",
    "5. estimated_hesitant_or_unsure = percent of population that indicated they would \"probably not\" or \"unsure\" or \"definitely not\" receive a COVID-19 vaccine when available  \n",
    "6. estimated_strongly_hesitant = percent of population that indicated they would \"definitely not\" receive a COVID-19 vaccine when available  \n",
    "7. social_vulnerability_index = the extent to which a community is socially vulnerable to disaster. The factors considered in developing the SVI include economic data as well as data regarding education, family characteristics, housing language ability, ethnicity, and vehicle access.   \n",
    "8. svi_category = low, moderate, high, very high vulnerability   \n",
    "9. ability_to_handle_a_covid = ability to handle Covid-19 outbreak in percent  \n",
    "10. cvac_category = level of concern for vaccine rollout   \n",
    "11. percent_adults_fully = percent of adults fully vaccinated  \n",
    "12. percent_hispanic = percent of hispanic adults fully vaccinated   \n",
    "13. percent_non_hispanic_american = percent of non hispanic american adults fully vaccinated    \n",
    "14. percent_non_hispanic_asian = percent of non hispanic asian adults fully vaccinated  \n",
    "15. percent_non_hispanic_black = percent of non hispanic black adults fully vaccinated  \n",
    "16. percent_non_hispanic_native = percent of non hispanic native adults fully vaccinated  \n",
    "17. percent_non_hispanic_white = percent of non hispanic white adults fully vaccinated  \n",
    "18. geographical point = where the county lies  \n",
    "19. state_code = code of the state  \n",
    "20. county_boundary = coordinates of boundary  \n",
    "21. state_boundary = coordinate of state boundary"
   ]
  },
  {
   "cell_type": "markdown",
   "id": "4efbf362",
   "metadata": {},
   "source": [
    "<a id=\"data-munging\"></a>\n",
    "### Data Munging and Cleaning"
   ]
  },
  {
   "cell_type": "markdown",
   "id": "c149b170",
   "metadata": {},
   "source": [
    "#### Hesitancy of vaccines by political parties in the US"
   ]
  },
  {
   "cell_type": "code",
   "execution_count": 13,
   "id": "188dfd3d",
   "metadata": {},
   "outputs": [
    {
     "data": {
      "text/html": [
       "<div>\n",
       "<style scoped>\n",
       "    .dataframe tbody tr th:only-of-type {\n",
       "        vertical-align: middle;\n",
       "    }\n",
       "\n",
       "    .dataframe tbody tr th {\n",
       "        vertical-align: top;\n",
       "    }\n",
       "\n",
       "    .dataframe thead th {\n",
       "        text-align: right;\n",
       "    }\n",
       "</style>\n",
       "<table border=\"1\" class=\"dataframe\">\n",
       "  <thead>\n",
       "    <tr style=\"text-align: right;\">\n",
       "      <th></th>\n",
       "      <th>estimated_hesitant</th>\n",
       "      <th>estimated_hesitant_or_unsure</th>\n",
       "      <th>estimated_strongly_hesitant</th>\n",
       "      <th>estimated_not_hesitant</th>\n",
       "      <th>Governor Political Affiliation</th>\n",
       "    </tr>\n",
       "    <tr>\n",
       "      <th>state</th>\n",
       "      <th></th>\n",
       "      <th></th>\n",
       "      <th></th>\n",
       "      <th></th>\n",
       "      <th></th>\n",
       "    </tr>\n",
       "  </thead>\n",
       "  <tbody>\n",
       "    <tr>\n",
       "      <th>ALABAMA</th>\n",
       "      <td>0.173507</td>\n",
       "      <td>0.231512</td>\n",
       "      <td>0.132409</td>\n",
       "      <td>0.462572</td>\n",
       "      <td>Republican</td>\n",
       "    </tr>\n",
       "    <tr>\n",
       "      <th>ALASKA</th>\n",
       "      <td>0.217386</td>\n",
       "      <td>0.264245</td>\n",
       "      <td>0.156907</td>\n",
       "      <td>0.361462</td>\n",
       "      <td>Republican</td>\n",
       "    </tr>\n",
       "    <tr>\n",
       "      <th>ARIZONA</th>\n",
       "      <td>0.159240</td>\n",
       "      <td>0.242547</td>\n",
       "      <td>0.121353</td>\n",
       "      <td>0.476860</td>\n",
       "      <td>Republican</td>\n",
       "    </tr>\n",
       "    <tr>\n",
       "      <th>ARKANSAS</th>\n",
       "      <td>0.212123</td>\n",
       "      <td>0.261232</td>\n",
       "      <td>0.139901</td>\n",
       "      <td>0.386744</td>\n",
       "      <td>Republican</td>\n",
       "    </tr>\n",
       "    <tr>\n",
       "      <th>CALIFORNIA</th>\n",
       "      <td>0.072274</td>\n",
       "      <td>0.111041</td>\n",
       "      <td>0.035807</td>\n",
       "      <td>0.780878</td>\n",
       "      <td>Democrat</td>\n",
       "    </tr>\n",
       "  </tbody>\n",
       "</table>\n",
       "</div>"
      ],
      "text/plain": [
       "            estimated_hesitant  estimated_hesitant_or_unsure  \\\n",
       "state                                                          \n",
       "ALABAMA               0.173507                      0.231512   \n",
       "ALASKA                0.217386                      0.264245   \n",
       "ARIZONA               0.159240                      0.242547   \n",
       "ARKANSAS              0.212123                      0.261232   \n",
       "CALIFORNIA            0.072274                      0.111041   \n",
       "\n",
       "            estimated_strongly_hesitant  estimated_not_hesitant  \\\n",
       "state                                                             \n",
       "ALABAMA                        0.132409                0.462572   \n",
       "ALASKA                         0.156907                0.361462   \n",
       "ARIZONA                        0.121353                0.476860   \n",
       "ARKANSAS                       0.139901                0.386744   \n",
       "CALIFORNIA                     0.035807                0.780878   \n",
       "\n",
       "           Governor Political Affiliation  \n",
       "state                                      \n",
       "ALABAMA                        Republican  \n",
       "ALASKA                         Republican  \n",
       "ARIZONA                        Republican  \n",
       "ARKANSAS                       Republican  \n",
       "CALIFORNIA                       Democrat  "
      ]
     },
     "execution_count": 13,
     "metadata": {},
     "output_type": "execute_result"
    },
    {
     "data": {
      "application/javascript": [
       "\n",
       "            setTimeout(function() {\n",
       "                var nbb_cell_id = 13;\n",
       "                var nbb_unformatted_code = \"# Filter hesitancy data\\nhesitancy_by_state_df = hesitancy_df.filter(\\n    [\\n        'state', \\n        'estimated_hesitant',\\n        'estimated_hesitant_or_unsure',\\n        'estimated_strongly_hesitant'\\n    ]\\n)\\n\\n# Set values to numeric\\nhesitancy_by_state_df['estimated_hesitant'] = hesitancy_by_state_df['estimated_hesitant'].astype(float)\\nhesitancy_by_state_df['estimated_hesitant_or_unsure'] = hesitancy_by_state_df['estimated_hesitant_or_unsure'].astype(float)\\nhesitancy_by_state_df['estimated_strongly_hesitant'] = hesitancy_by_state_df['estimated_strongly_hesitant'].astype(float)\\n\\n# Calculate non-hesitant proportion\\nhesitancy_by_state_df['estimated_not_hesitant'] = 1 - (\\n    hesitancy_by_state_df['estimated_hesitant'] + hesitancy_by_state_df['estimated_hesitant_or_unsure'] + hesitancy_by_state_df['estimated_strongly_hesitant']\\n)\\n\\n# Gropu by state\\nhesitancy_by_state_df = hesitancy_by_state_df.groupby('state').mean()\\n\\n# Attatch state Governer's party affiliaition\\nstate_parties_df['State'] = state_parties_df['Location'].apply(\\n    lambda x: x.upper() # Uppercase all state names\\n)\\nstate_parties_df.drop(columns=['Location'], inplace=True) \\nstate_parties_df.set_index('State', inplace=True)\\n\\nhesitancy_by_state_df = hesitancy_by_state_df.merge(state_parties_df, left_index=True, right_index=True)\\nhesitancy_by_state_df.head()\";\n",
       "                var nbb_formatted_code = \"# Filter hesitancy data\\nhesitancy_by_state_df = hesitancy_df.filter(\\n    [\\n        \\\"state\\\",\\n        \\\"estimated_hesitant\\\",\\n        \\\"estimated_hesitant_or_unsure\\\",\\n        \\\"estimated_strongly_hesitant\\\",\\n    ]\\n)\\n\\n# Set values to numeric\\nhesitancy_by_state_df[\\\"estimated_hesitant\\\"] = hesitancy_by_state_df[\\n    \\\"estimated_hesitant\\\"\\n].astype(float)\\nhesitancy_by_state_df[\\\"estimated_hesitant_or_unsure\\\"] = hesitancy_by_state_df[\\n    \\\"estimated_hesitant_or_unsure\\\"\\n].astype(float)\\nhesitancy_by_state_df[\\\"estimated_strongly_hesitant\\\"] = hesitancy_by_state_df[\\n    \\\"estimated_strongly_hesitant\\\"\\n].astype(float)\\n\\n# Calculate non-hesitant proportion\\nhesitancy_by_state_df[\\\"estimated_not_hesitant\\\"] = 1 - (\\n    hesitancy_by_state_df[\\\"estimated_hesitant\\\"]\\n    + hesitancy_by_state_df[\\\"estimated_hesitant_or_unsure\\\"]\\n    + hesitancy_by_state_df[\\\"estimated_strongly_hesitant\\\"]\\n)\\n\\n# Gropu by state\\nhesitancy_by_state_df = hesitancy_by_state_df.groupby(\\\"state\\\").mean()\\n\\n# Attatch state Governer's party affiliaition\\nstate_parties_df[\\\"State\\\"] = state_parties_df[\\\"Location\\\"].apply(\\n    lambda x: x.upper()  # Uppercase all state names\\n)\\nstate_parties_df.drop(columns=[\\\"Location\\\"], inplace=True)\\nstate_parties_df.set_index(\\\"State\\\", inplace=True)\\n\\nhesitancy_by_state_df = hesitancy_by_state_df.merge(\\n    state_parties_df, left_index=True, right_index=True\\n)\\nhesitancy_by_state_df.head()\";\n",
       "                var nbb_cells = Jupyter.notebook.get_cells();\n",
       "                for (var i = 0; i < nbb_cells.length; ++i) {\n",
       "                    if (nbb_cells[i].input_prompt_number == nbb_cell_id) {\n",
       "                        if (nbb_cells[i].get_text() == nbb_unformatted_code) {\n",
       "                             nbb_cells[i].set_text(nbb_formatted_code);\n",
       "                        }\n",
       "                        break;\n",
       "                    }\n",
       "                }\n",
       "            }, 500);\n",
       "            "
      ],
      "text/plain": [
       "<IPython.core.display.Javascript object>"
      ]
     },
     "metadata": {},
     "output_type": "display_data"
    }
   ],
   "source": [
    "# Filter hesitancy data\n",
    "hesitancy_by_state_df = hesitancy_df.filter(\n",
    "    [\n",
    "        'state', \n",
    "        'estimated_hesitant',\n",
    "        'estimated_hesitant_or_unsure',\n",
    "        'estimated_strongly_hesitant'\n",
    "    ]\n",
    ")\n",
    "\n",
    "# Set values to numeric\n",
    "hesitancy_by_state_df['estimated_hesitant'] = hesitancy_by_state_df['estimated_hesitant'].astype(float)\n",
    "hesitancy_by_state_df['estimated_hesitant_or_unsure'] = hesitancy_by_state_df['estimated_hesitant_or_unsure'].astype(float)\n",
    "hesitancy_by_state_df['estimated_strongly_hesitant'] = hesitancy_by_state_df['estimated_strongly_hesitant'].astype(float)\n",
    "\n",
    "# Calculate non-hesitant proportion\n",
    "hesitancy_by_state_df['estimated_not_hesitant'] = 1 - (\n",
    "    hesitancy_by_state_df['estimated_hesitant'] + hesitancy_by_state_df['estimated_hesitant_or_unsure'] + hesitancy_by_state_df['estimated_strongly_hesitant']\n",
    ")\n",
    "\n",
    "# Gropu by state\n",
    "hesitancy_by_state_df = hesitancy_by_state_df.groupby('state').mean()\n",
    "\n",
    "# Attatch state Governer's party affiliaition\n",
    "state_parties_df['State'] = state_parties_df['Location'].apply(\n",
    "    lambda x: x.upper() # Uppercase all state names\n",
    ")\n",
    "state_parties_df.drop(columns=['Location'], inplace=True) \n",
    "state_parties_df.set_index('State', inplace=True)\n",
    "\n",
    "hesitancy_by_state_df = hesitancy_by_state_df.merge(state_parties_df, left_index=True, right_index=True)\n",
    "hesitancy_by_state_df.head()\n"
   ]
  },
  {
   "cell_type": "markdown",
   "id": "68e051b7",
   "metadata": {},
   "source": [
    "#### Proportions of COVID-19 deaths vs proportion of state population vaccinated"
   ]
  },
  {
   "cell_type": "code",
   "execution_count": 14,
   "id": "2db1a851",
   "metadata": {},
   "outputs": [
    {
     "data": {
      "text/html": [
       "<div>\n",
       "<style scoped>\n",
       "    .dataframe tbody tr th:only-of-type {\n",
       "        vertical-align: middle;\n",
       "    }\n",
       "\n",
       "    .dataframe tbody tr th {\n",
       "        vertical-align: top;\n",
       "    }\n",
       "\n",
       "    .dataframe thead th {\n",
       "        text-align: right;\n",
       "    }\n",
       "</style>\n",
       "<table border=\"1\" class=\"dataframe\">\n",
       "  <thead>\n",
       "    <tr style=\"text-align: right;\">\n",
       "      <th></th>\n",
       "      <th>State Name</th>\n",
       "      <th>series_complete_yes</th>\n",
       "      <th>POPESTIMATE2020</th>\n",
       "      <th>Vaccine Proportion</th>\n",
       "      <th>COVID-19 Deaths</th>\n",
       "      <th>Total deaths</th>\n",
       "      <th>COVID-19 Death Proportion</th>\n",
       "    </tr>\n",
       "    <tr>\n",
       "      <th>State Abbreviation</th>\n",
       "      <th></th>\n",
       "      <th></th>\n",
       "      <th></th>\n",
       "      <th></th>\n",
       "      <th></th>\n",
       "      <th></th>\n",
       "      <th></th>\n",
       "    </tr>\n",
       "  </thead>\n",
       "  <tbody>\n",
       "    <tr>\n",
       "      <th>AK</th>\n",
       "      <td>ALASKA</td>\n",
       "      <td>404199</td>\n",
       "      <td>731158.0</td>\n",
       "      <td>0.552820</td>\n",
       "      <td>764</td>\n",
       "      <td>7025</td>\n",
       "      <td>0.108754</td>\n",
       "    </tr>\n",
       "    <tr>\n",
       "      <th>AL</th>\n",
       "      <td>ALABAMA</td>\n",
       "      <td>2288180</td>\n",
       "      <td>4921532.0</td>\n",
       "      <td>0.464932</td>\n",
       "      <td>14461</td>\n",
       "      <td>104758</td>\n",
       "      <td>0.138042</td>\n",
       "    </tr>\n",
       "    <tr>\n",
       "      <th>AR</th>\n",
       "      <td>ARKANSAS</td>\n",
       "      <td>1510981</td>\n",
       "      <td>3030522.0</td>\n",
       "      <td>0.498588</td>\n",
       "      <td>7338</td>\n",
       "      <td>51752</td>\n",
       "      <td>0.141792</td>\n",
       "    </tr>\n",
       "    <tr>\n",
       "      <th>AZ</th>\n",
       "      <td>ARIZONA</td>\n",
       "      <td>4043529</td>\n",
       "      <td>7421401.0</td>\n",
       "      <td>0.544847</td>\n",
       "      <td>20202</td>\n",
       "      <td>145717</td>\n",
       "      <td>0.138639</td>\n",
       "    </tr>\n",
       "    <tr>\n",
       "      <th>CA</th>\n",
       "      <td>CALIFORNIA</td>\n",
       "      <td>25429366</td>\n",
       "      <td>39368078.0</td>\n",
       "      <td>0.645939</td>\n",
       "      <td>77073</td>\n",
       "      <td>600256</td>\n",
       "      <td>0.128400</td>\n",
       "    </tr>\n",
       "  </tbody>\n",
       "</table>\n",
       "</div>"
      ],
      "text/plain": [
       "                    State Name  series_complete_yes  POPESTIMATE2020  \\\n",
       "State Abbreviation                                                     \n",
       "AK                      ALASKA               404199         731158.0   \n",
       "AL                     ALABAMA              2288180        4921532.0   \n",
       "AR                    ARKANSAS              1510981        3030522.0   \n",
       "AZ                     ARIZONA              4043529        7421401.0   \n",
       "CA                  CALIFORNIA             25429366       39368078.0   \n",
       "\n",
       "                    Vaccine Proportion  COVID-19 Deaths  Total deaths  \\\n",
       "State Abbreviation                                                      \n",
       "AK                            0.552820              764          7025   \n",
       "AL                            0.464932            14461        104758   \n",
       "AR                            0.498588             7338         51752   \n",
       "AZ                            0.544847            20202        145717   \n",
       "CA                            0.645939            77073        600256   \n",
       "\n",
       "                    COVID-19 Death Proportion  \n",
       "State Abbreviation                             \n",
       "AK                                   0.108754  \n",
       "AL                                   0.138042  \n",
       "AR                                   0.141792  \n",
       "AZ                                   0.138639  \n",
       "CA                                   0.128400  "
      ]
     },
     "execution_count": 14,
     "metadata": {},
     "output_type": "execute_result"
    },
    {
     "data": {
      "application/javascript": [
       "\n",
       "            setTimeout(function() {\n",
       "                var nbb_cell_id = 14;\n",
       "                var nbb_unformatted_code = \"# Filter for states with at least 100 completed vaccinations\\nstate_vaccinations_df = state_vaccinations_df[\\n    state_vaccinations_df['series_complete_yes'] >= 100\\n]\\n\\n# Join with population data for each state\\nstate_populations_df = state_populations_df[\\n    state_populations_df['STNAME'] == state_populations_df['CTYNAME']\\n]\\n\\n# Filter columns \\nstate_populations_df['State Name'] = state_populations_df['STNAME'].str.upper()\\nstate_populations_df = state_populations_df.filter(\\n    ['State Name', 'POPESTIMATE2020']\\n)\\n\\n# Sum county populations\\nstate_populations_df = state_populations_df.groupby('State Name').sum()   \\n\\n# Merge vaccination counts with population data on state abbreviations\\nstate_populations_df = state_populations_df.join(\\n    state_abbreviations_df.set_index('State Name'), \\n    on='State Name'\\n)\\n\\n# Join\\nstate_vaccinations_df = state_vaccinations_df.join(\\n    state_populations_df.reset_index().set_index('State Abbreviation'),\\n).dropna(how='any')\\n\\n# # Calculate vaccinated proportion\\nstate_vaccinations_df['Vaccine Proportion'] = state_vaccinations_df['series_complete_yes'] / state_vaccinations_df['POPESTIMATE2020']\\n\\n# Calculate proportion of COVID-19 deaths\\ncounty_deaths_df = county_deaths_df.iloc[::3]\\n\\nstate_deaths_df = county_deaths_df.groupby('State').sum()\\nstate_deaths_df = state_deaths_df.filter(['Total deaths', 'COVID-19 Deaths'])\\n\\nstate_deaths_df['COVID-19 Death Proportion'] = state_deaths_df['COVID-19 Deaths'] / state_deaths_df['Total deaths']\\nstate_deaths_df.index.rename('State Abbreviation', inplace=True)\\n\\nstate_vaccinations_df = state_vaccinations_df.join(\\n    state_deaths_df\\n)\\n\\nstate_vaccinations_df = state_vaccinations_df.filter(\\n    [\\n        'State Name', \\n        'series_complete_yes', \\n        'POPESTIMATE2020', \\n        'Vaccine Proportion', \\n        'COVID-19 Deaths', \\n        'Total deaths',\\n        'COVID-19 Death Proportion'\\n    ]\\n)\\nstate_vaccinations_df.head()\";\n",
       "                var nbb_formatted_code = \"# Filter for states with at least 100 completed vaccinations\\nstate_vaccinations_df = state_vaccinations_df[\\n    state_vaccinations_df[\\\"series_complete_yes\\\"] >= 100\\n]\\n\\n# Join with population data for each state\\nstate_populations_df = state_populations_df[\\n    state_populations_df[\\\"STNAME\\\"] == state_populations_df[\\\"CTYNAME\\\"]\\n]\\n\\n# Filter columns\\nstate_populations_df[\\\"State Name\\\"] = state_populations_df[\\\"STNAME\\\"].str.upper()\\nstate_populations_df = state_populations_df.filter([\\\"State Name\\\", \\\"POPESTIMATE2020\\\"])\\n\\n# Sum county populations\\nstate_populations_df = state_populations_df.groupby(\\\"State Name\\\").sum()\\n\\n# Merge vaccination counts with population data on state abbreviations\\nstate_populations_df = state_populations_df.join(\\n    state_abbreviations_df.set_index(\\\"State Name\\\"), on=\\\"State Name\\\"\\n)\\n\\n# Join\\nstate_vaccinations_df = state_vaccinations_df.join(\\n    state_populations_df.reset_index().set_index(\\\"State Abbreviation\\\"),\\n).dropna(how=\\\"any\\\")\\n\\n# # Calculate vaccinated proportion\\nstate_vaccinations_df[\\\"Vaccine Proportion\\\"] = (\\n    state_vaccinations_df[\\\"series_complete_yes\\\"]\\n    / state_vaccinations_df[\\\"POPESTIMATE2020\\\"]\\n)\\n\\n# Calculate proportion of COVID-19 deaths\\ncounty_deaths_df = county_deaths_df.iloc[::3]\\n\\nstate_deaths_df = county_deaths_df.groupby(\\\"State\\\").sum()\\nstate_deaths_df = state_deaths_df.filter([\\\"Total deaths\\\", \\\"COVID-19 Deaths\\\"])\\n\\nstate_deaths_df[\\\"COVID-19 Death Proportion\\\"] = (\\n    state_deaths_df[\\\"COVID-19 Deaths\\\"] / state_deaths_df[\\\"Total deaths\\\"]\\n)\\nstate_deaths_df.index.rename(\\\"State Abbreviation\\\", inplace=True)\\n\\nstate_vaccinations_df = state_vaccinations_df.join(state_deaths_df)\\n\\nstate_vaccinations_df = state_vaccinations_df.filter(\\n    [\\n        \\\"State Name\\\",\\n        \\\"series_complete_yes\\\",\\n        \\\"POPESTIMATE2020\\\",\\n        \\\"Vaccine Proportion\\\",\\n        \\\"COVID-19 Deaths\\\",\\n        \\\"Total deaths\\\",\\n        \\\"COVID-19 Death Proportion\\\",\\n    ]\\n)\\nstate_vaccinations_df.head()\";\n",
       "                var nbb_cells = Jupyter.notebook.get_cells();\n",
       "                for (var i = 0; i < nbb_cells.length; ++i) {\n",
       "                    if (nbb_cells[i].input_prompt_number == nbb_cell_id) {\n",
       "                        if (nbb_cells[i].get_text() == nbb_unformatted_code) {\n",
       "                             nbb_cells[i].set_text(nbb_formatted_code);\n",
       "                        }\n",
       "                        break;\n",
       "                    }\n",
       "                }\n",
       "            }, 500);\n",
       "            "
      ],
      "text/plain": [
       "<IPython.core.display.Javascript object>"
      ]
     },
     "metadata": {},
     "output_type": "display_data"
    }
   ],
   "source": [
    "# Filter for states with at least 100 completed vaccinations\n",
    "state_vaccinations_df = state_vaccinations_df[\n",
    "    state_vaccinations_df[\"series_complete_yes\"] >= 100\n",
    "]\n",
    "\n",
    "# Join with population data for each state\n",
    "state_populations_df = state_populations_df[\n",
    "    state_populations_df[\"STNAME\"] == state_populations_df[\"CTYNAME\"]\n",
    "]\n",
    "\n",
    "# Filter columns\n",
    "state_populations_df[\"State Name\"] = state_populations_df[\"STNAME\"].str.upper()\n",
    "state_populations_df = state_populations_df.filter([\"State Name\", \"POPESTIMATE2020\"])\n",
    "\n",
    "# Sum county populations\n",
    "state_populations_df = state_populations_df.groupby(\"State Name\").sum()\n",
    "\n",
    "# Merge vaccination counts with population data on state abbreviations\n",
    "state_populations_df = state_populations_df.join(\n",
    "    state_abbreviations_df.set_index(\"State Name\"), on=\"State Name\"\n",
    ")\n",
    "\n",
    "# Join\n",
    "state_vaccinations_df = state_vaccinations_df.join(\n",
    "    state_populations_df.reset_index().set_index(\"State Abbreviation\"),\n",
    ").dropna(how=\"any\")\n",
    "\n",
    "# # Calculate vaccinated proportion\n",
    "state_vaccinations_df[\"Vaccine Proportion\"] = (\n",
    "    state_vaccinations_df[\"series_complete_yes\"]\n",
    "    / state_vaccinations_df[\"POPESTIMATE2020\"]\n",
    ")\n",
    "\n",
    "# Calculate proportion of COVID-19 deaths\n",
    "county_deaths_df = county_deaths_df.iloc[::3]\n",
    "\n",
    "state_deaths_df = county_deaths_df.groupby(\"State\").sum()\n",
    "state_deaths_df = state_deaths_df.filter([\"Total deaths\", \"COVID-19 Deaths\"])\n",
    "\n",
    "state_deaths_df[\"COVID-19 Death Proportion\"] = (\n",
    "    state_deaths_df[\"COVID-19 Deaths\"] / state_deaths_df[\"Total deaths\"]\n",
    ")\n",
    "state_deaths_df.index.rename(\"State Abbreviation\", inplace=True)\n",
    "\n",
    "state_vaccinations_df = state_vaccinations_df.join(state_deaths_df)\n",
    "\n",
    "state_vaccinations_df = state_vaccinations_df.filter(\n",
    "    [\n",
    "        \"State Name\",\n",
    "        \"series_complete_yes\",\n",
    "        \"POPESTIMATE2020\",\n",
    "        \"Vaccine Proportion\",\n",
    "        \"COVID-19 Deaths\",\n",
    "        \"Total deaths\",\n",
    "        \"COVID-19 Death Proportion\",\n",
    "    ]\n",
    ")\n",
    "state_vaccinations_df.head()"
   ]
  },
  {
   "cell_type": "markdown",
   "id": "fd357598",
   "metadata": {},
   "source": [
    "#### Vaccine Hesitancy and Vaccination Rate "
   ]
  },
  {
   "cell_type": "code",
   "execution_count": 15,
   "id": "aec5bf52",
   "metadata": {},
   "outputs": [
    {
     "data": {
      "application/javascript": [
       "\n",
       "            setTimeout(function() {\n",
       "                var nbb_cell_id = 15;\n",
       "                var nbb_unformatted_code = \"import warnings\\nwarnings.filterwarnings(\\\"ignore\\\")\\n\\n#Create new dataframe for vaccine hesitancy in states\\nhesitancy_vaccination = hesitancy_df[\\n    [\\n        \\\"fips_code\\\",\\n        \\\"county_name\\\",\\n        \\\"state\\\",\\n        \\\"ability_to_handle_a_covid\\\",\\n        \\\"social_vulnerability_index\\\",\\n        \\\"cvac_category\\\",\\n        \\\"estimated_hesitant\\\",\\n        \\\"estimated_hesitant_or_unsure\\\",\\n        \\\"estimated_strongly_hesitant\\\",\\n        \\\"percent_adults_fully\\\",\\n    ]\\n]\\n#Change to numeric\\nhesitancy_vaccination[\\\"ability_to_handle_a_covid\\\"] = hesitancy_vaccination[\\\"ability_to_handle_a_covid\\\"].astype(float)\\nhesitancy_vaccination[\\\"social_vulnerability_index\\\"] = hesitancy_vaccination[\\\"social_vulnerability_index\\\"].astype(float)\\nhesitancy_vaccination[\\\"estimated_hesitant\\\"] = hesitancy_vaccination[\\\"estimated_hesitant\\\"].astype(float)\\nhesitancy_vaccination[\\\"estimated_hesitant_or_unsure\\\"] = hesitancy_vaccination[\\\"estimated_hesitant_or_unsure\\\"].astype(float)\\nhesitancy_vaccination[\\\"estimated_strongly_hesitant\\\"] = hesitancy_vaccination[\\\"estimated_strongly_hesitant\\\"].astype(float)\\nhesitancy_vaccination[\\\"percent_adults_fully\\\"] = hesitancy_vaccination[\\\"percent_adults_fully\\\"].astype(float)\\nhesitancy_vaccination_state_df = hesitancy_vaccination.groupby('state').mean()\\nhesitancy_vaccination_state_df = hesitancy_vaccination_state_df.reset_index()\\nhesitancy_vaccination_state_df['not_hesitant'] = 1 - (hesitancy_vaccination_state_df[\\\"estimated_strongly_hesitant\\\"] + hesitancy_vaccination_state_df[\\\"estimated_hesitant_or_unsure\\\"] + hesitancy_vaccination_state_df[\\\"estimated_hesitant\\\"])\\nhesitancy_vaccination_state_df['total_hesitancy'] = hesitancy_vaccination_state_df[\\\"estimated_strongly_hesitant\\\"] + hesitancy_vaccination_state_df[\\\"estimated_hesitant_or_unsure\\\"] + hesitancy_vaccination_state_df[\\\"estimated_hesitant\\\"]\";\n",
       "                var nbb_formatted_code = \"import warnings\\n\\nwarnings.filterwarnings(\\\"ignore\\\")\\n\\n# Create new dataframe for vaccine hesitancy in states\\nhesitancy_vaccination = hesitancy_df[\\n    [\\n        \\\"fips_code\\\",\\n        \\\"county_name\\\",\\n        \\\"state\\\",\\n        \\\"ability_to_handle_a_covid\\\",\\n        \\\"social_vulnerability_index\\\",\\n        \\\"cvac_category\\\",\\n        \\\"estimated_hesitant\\\",\\n        \\\"estimated_hesitant_or_unsure\\\",\\n        \\\"estimated_strongly_hesitant\\\",\\n        \\\"percent_adults_fully\\\",\\n    ]\\n]\\n# Change to numeric\\nhesitancy_vaccination[\\\"ability_to_handle_a_covid\\\"] = hesitancy_vaccination[\\n    \\\"ability_to_handle_a_covid\\\"\\n].astype(float)\\nhesitancy_vaccination[\\\"social_vulnerability_index\\\"] = hesitancy_vaccination[\\n    \\\"social_vulnerability_index\\\"\\n].astype(float)\\nhesitancy_vaccination[\\\"estimated_hesitant\\\"] = hesitancy_vaccination[\\n    \\\"estimated_hesitant\\\"\\n].astype(float)\\nhesitancy_vaccination[\\\"estimated_hesitant_or_unsure\\\"] = hesitancy_vaccination[\\n    \\\"estimated_hesitant_or_unsure\\\"\\n].astype(float)\\nhesitancy_vaccination[\\\"estimated_strongly_hesitant\\\"] = hesitancy_vaccination[\\n    \\\"estimated_strongly_hesitant\\\"\\n].astype(float)\\nhesitancy_vaccination[\\\"percent_adults_fully\\\"] = hesitancy_vaccination[\\n    \\\"percent_adults_fully\\\"\\n].astype(float)\\nhesitancy_vaccination_state_df = hesitancy_vaccination.groupby(\\\"state\\\").mean()\\nhesitancy_vaccination_state_df = hesitancy_vaccination_state_df.reset_index()\\nhesitancy_vaccination_state_df[\\\"not_hesitant\\\"] = 1 - (\\n    hesitancy_vaccination_state_df[\\\"estimated_strongly_hesitant\\\"]\\n    + hesitancy_vaccination_state_df[\\\"estimated_hesitant_or_unsure\\\"]\\n    + hesitancy_vaccination_state_df[\\\"estimated_hesitant\\\"]\\n)\\nhesitancy_vaccination_state_df[\\\"total_hesitancy\\\"] = (\\n    hesitancy_vaccination_state_df[\\\"estimated_strongly_hesitant\\\"]\\n    + hesitancy_vaccination_state_df[\\\"estimated_hesitant_or_unsure\\\"]\\n    + hesitancy_vaccination_state_df[\\\"estimated_hesitant\\\"]\\n)\";\n",
       "                var nbb_cells = Jupyter.notebook.get_cells();\n",
       "                for (var i = 0; i < nbb_cells.length; ++i) {\n",
       "                    if (nbb_cells[i].input_prompt_number == nbb_cell_id) {\n",
       "                        if (nbb_cells[i].get_text() == nbb_unformatted_code) {\n",
       "                             nbb_cells[i].set_text(nbb_formatted_code);\n",
       "                        }\n",
       "                        break;\n",
       "                    }\n",
       "                }\n",
       "            }, 500);\n",
       "            "
      ],
      "text/plain": [
       "<IPython.core.display.Javascript object>"
      ]
     },
     "metadata": {},
     "output_type": "display_data"
    }
   ],
   "source": [
    "import warnings\n",
    "warnings.filterwarnings(\"ignore\")\n",
    "\n",
    "#Create new dataframe for vaccine hesitancy in states\n",
    "hesitancy_vaccination = hesitancy_df[\n",
    "    [\n",
    "        \"fips_code\",\n",
    "        \"county_name\",\n",
    "        \"state\",\n",
    "        \"ability_to_handle_a_covid\",\n",
    "        \"social_vulnerability_index\",\n",
    "        \"cvac_category\",\n",
    "        \"estimated_hesitant\",\n",
    "        \"estimated_hesitant_or_unsure\",\n",
    "        \"estimated_strongly_hesitant\",\n",
    "        \"percent_adults_fully\",\n",
    "    ]\n",
    "]\n",
    "#Change to numeric\n",
    "hesitancy_vaccination[\"ability_to_handle_a_covid\"] = hesitancy_vaccination[\"ability_to_handle_a_covid\"].astype(float)\n",
    "hesitancy_vaccination[\"social_vulnerability_index\"] = hesitancy_vaccination[\"social_vulnerability_index\"].astype(float)\n",
    "hesitancy_vaccination[\"estimated_hesitant\"] = hesitancy_vaccination[\"estimated_hesitant\"].astype(float)\n",
    "hesitancy_vaccination[\"estimated_hesitant_or_unsure\"] = hesitancy_vaccination[\"estimated_hesitant_or_unsure\"].astype(float)\n",
    "hesitancy_vaccination[\"estimated_strongly_hesitant\"] = hesitancy_vaccination[\"estimated_strongly_hesitant\"].astype(float)\n",
    "hesitancy_vaccination[\"percent_adults_fully\"] = hesitancy_vaccination[\"percent_adults_fully\"].astype(float)\n",
    "hesitancy_vaccination_state_df = hesitancy_vaccination.groupby('state').mean()\n",
    "hesitancy_vaccination_state_df = hesitancy_vaccination_state_df.reset_index()\n",
    "hesitancy_vaccination_state_df['not_hesitant'] = 1 - (hesitancy_vaccination_state_df[\"estimated_strongly_hesitant\"] + hesitancy_vaccination_state_df[\"estimated_hesitant_or_unsure\"] + hesitancy_vaccination_state_df[\"estimated_hesitant\"])\n",
    "hesitancy_vaccination_state_df['total_hesitancy'] = hesitancy_vaccination_state_df[\"estimated_strongly_hesitant\"] + hesitancy_vaccination_state_df[\"estimated_hesitant_or_unsure\"] + hesitancy_vaccination_state_df[\"estimated_hesitant\"]\n"
   ]
  },
  {
   "cell_type": "markdown",
   "id": "130e4922",
   "metadata": {},
   "source": [
    "<a id=\"data-visualization\"></a>\n",
    "### Visualizing the Data\n",
    "\n",
    "We will explore numerous visualizations such as scatterplots, boxplots, and density graphs to better understand the data. "
   ]
  },
  {
   "cell_type": "markdown",
   "id": "f3f073c8",
   "metadata": {},
   "source": [
    "#### Boxplot of hesitancy estimates by political party"
   ]
  },
  {
   "cell_type": "code",
   "execution_count": 16,
   "id": "a617c930",
   "metadata": {},
   "outputs": [
    {
     "data": {
      "text/plain": [
       "array([[<AxesSubplot:title={'center':'estimated_hesitant'}, xlabel='Governor Political Affiliation'>,\n",
       "        <AxesSubplot:title={'center':'estimated_hesitant_or_unsure'}, xlabel='Governor Political Affiliation'>],\n",
       "       [<AxesSubplot:title={'center':'estimated_strongly_hesitant'}, xlabel='Governor Political Affiliation'>,\n",
       "        <AxesSubplot:title={'center':'estimated_not_hesitant'}, xlabel='Governor Political Affiliation'>]],\n",
       "      dtype=object)"
      ]
     },
     "execution_count": 16,
     "metadata": {},
     "output_type": "execute_result"
    },
    {
     "data": {
      "image/png": "[encoded data removed]",
      "text/plain": [
       "<Figure size 720x432 with 4 Axes>"
      ]
     },
     "metadata": {
      "needs_background": "light"
     },
     "output_type": "display_data"
    },
    {
     "data": {
      "application/javascript": [
       "\n",
       "            setTimeout(function() {\n",
       "                var nbb_cell_id = 16;\n",
       "                var nbb_unformatted_code = \"# Boxplot of hesitancy estimates by political party \\nhesitancy_by_state_df.boxplot(\\n    column=[\\n        'estimated_hesitant', \\n        'estimated_hesitant_or_unsure', \\n        'estimated_strongly_hesitant',\\n        'estimated_not_hesitant'\\n    ], \\n    by='Governor Political Affiliation',\\n    figsize=(10, 6)\\n)\";\n",
       "                var nbb_formatted_code = \"# Boxplot of hesitancy estimates by political party\\nhesitancy_by_state_df.boxplot(\\n    column=[\\n        \\\"estimated_hesitant\\\",\\n        \\\"estimated_hesitant_or_unsure\\\",\\n        \\\"estimated_strongly_hesitant\\\",\\n        \\\"estimated_not_hesitant\\\",\\n    ],\\n    by=\\\"Governor Political Affiliation\\\",\\n    figsize=(10, 6),\\n)\";\n",
       "                var nbb_cells = Jupyter.notebook.get_cells();\n",
       "                for (var i = 0; i < nbb_cells.length; ++i) {\n",
       "                    if (nbb_cells[i].input_prompt_number == nbb_cell_id) {\n",
       "                        if (nbb_cells[i].get_text() == nbb_unformatted_code) {\n",
       "                             nbb_cells[i].set_text(nbb_formatted_code);\n",
       "                        }\n",
       "                        break;\n",
       "                    }\n",
       "                }\n",
       "            }, 500);\n",
       "            "
      ],
      "text/plain": [
       "<IPython.core.display.Javascript object>"
      ]
     },
     "metadata": {},
     "output_type": "display_data"
    }
   ],
   "source": [
    "# Boxplot of hesitancy estimates by political party\n",
    "hesitancy_by_state_df.boxplot(\n",
    "    column=[\n",
    "        \"estimated_hesitant\",\n",
    "        \"estimated_hesitant_or_unsure\",\n",
    "        \"estimated_strongly_hesitant\",\n",
    "        \"estimated_not_hesitant\",\n",
    "    ],\n",
    "    by=\"Governor Political Affiliation\",\n",
    "    figsize=(10, 6),\n",
    ")"
   ]
  },
  {
   "cell_type": "markdown",
   "id": "ab9a3c72",
   "metadata": {},
   "source": [
    "These boxplots show that Republicans are much more likely to be hesitant towards the COVID-19 vaccine than Democrats.\n",
    "In other notebooks we look into death proportions by state and political party to see if there is a difference in proportion of deaths due to COVID-19. It would make sense to see a higher proportion of COVID-19 deaths in Republican governed states due to the hesitancy and lack of vaccinations."
   ]
  },
  {
   "cell_type": "markdown",
   "id": "4934a076",
   "metadata": {},
   "source": [
    "#### Boxplot of COVID-19 Death proportions vs Vaccine proportions by state"
   ]
  },
  {
   "cell_type": "code",
   "execution_count": 17,
   "id": "fcc037d7",
   "metadata": {},
   "outputs": [
    {
     "data": {
      "image/png": "[encoded data removed]",
      "text/plain": [
       "<Figure size 720x432 with 1 Axes>"
      ]
     },
     "metadata": {
      "needs_background": "light"
     },
     "output_type": "display_data"
    },
    {
     "data": {
      "application/javascript": [
       "\n",
       "            setTimeout(function() {\n",
       "                var nbb_cell_id = 17;\n",
       "                var nbb_unformatted_code = \"# Plot boxplot\\nstate_vaccinations_df.plot(\\n    x='Vaccine Proportion',\\n    y='COVID-19 Death Proportion',\\n    kind='scatter',\\n    title='COVID-19 Death Proportions by Vaccine Proportion',\\n    figsize=(10, 6)\\n)\\n\\n# Annotate points\\nfor idx, row in state_vaccinations_df.iterrows(): \\n    plt.text(row['Vaccine Proportion'], row['COVID-19 Death Proportion'], idx)\";\n",
       "                var nbb_formatted_code = \"# Plot boxplot\\nstate_vaccinations_df.plot(\\n    x=\\\"Vaccine Proportion\\\",\\n    y=\\\"COVID-19 Death Proportion\\\",\\n    kind=\\\"scatter\\\",\\n    title=\\\"COVID-19 Death Proportions by Vaccine Proportion\\\",\\n    figsize=(10, 6),\\n)\\n\\n# Annotate points\\nfor idx, row in state_vaccinations_df.iterrows():\\n    plt.text(row[\\\"Vaccine Proportion\\\"], row[\\\"COVID-19 Death Proportion\\\"], idx)\";\n",
       "                var nbb_cells = Jupyter.notebook.get_cells();\n",
       "                for (var i = 0; i < nbb_cells.length; ++i) {\n",
       "                    if (nbb_cells[i].input_prompt_number == nbb_cell_id) {\n",
       "                        if (nbb_cells[i].get_text() == nbb_unformatted_code) {\n",
       "                             nbb_cells[i].set_text(nbb_formatted_code);\n",
       "                        }\n",
       "                        break;\n",
       "                    }\n",
       "                }\n",
       "            }, 500);\n",
       "            "
      ],
      "text/plain": [
       "<IPython.core.display.Javascript object>"
      ]
     },
     "metadata": {},
     "output_type": "display_data"
    }
   ],
   "source": [
    "# Plot boxplot\n",
    "state_vaccinations_df.plot(\n",
    "    x=\"Vaccine Proportion\",\n",
    "    y=\"COVID-19 Death Proportion\",\n",
    "    kind=\"scatter\",\n",
    "    title=\"COVID-19 Death Proportions by Vaccine Proportion\",\n",
    "    figsize=(10, 6),\n",
    ")\n",
    "\n",
    "# Annotate points\n",
    "for idx, row in state_vaccinations_df.iterrows():\n",
    "    plt.text(row[\"Vaccine Proportion\"], row[\"COVID-19 Death Proportion\"], idx)"
   ]
  },
  {
   "cell_type": "markdown",
   "id": "53e68b32",
   "metadata": {},
   "source": [
    "#### Scatterplot of Vaccine Hesitancy and Vaccine Rate by States"
   ]
  },
  {
   "cell_type": "code",
   "execution_count": 18,
   "id": "3af00930",
   "metadata": {
    "scrolled": true
   },
   "outputs": [
    {
     "data": {
      "image/png": "[encoded data removed]",
      "text/plain": [
       "<Figure size 640x480 with 1 Axes>"
      ]
     },
     "metadata": {},
     "output_type": "display_data"
    },
    {
     "data": {
      "text/plain": [
       "<ggplot: (112743405686)>"
      ]
     },
     "execution_count": 18,
     "metadata": {},
     "output_type": "execute_result"
    },
    {
     "data": {
      "application/javascript": [
       "\n",
       "            setTimeout(function() {\n",
       "                var nbb_cell_id = 18;\n",
       "                var nbb_unformatted_code = \"import plotnine as p9\\n    \\ngg = p9.ggplot(hesitancy_vaccination_state_df)\\ngg += p9.aes(\\n    x=\\\"percent_adults_fully\\\", y=\\\"total_hesitancy\\\", color=\\\"state\\\"\\n)  # add color mapping by State\\ngg += p9.geom_point()\\ngg\";\n",
       "                var nbb_formatted_code = \"import plotnine as p9\\n\\ngg = p9.ggplot(hesitancy_vaccination_state_df)\\ngg += p9.aes(\\n    x=\\\"percent_adults_fully\\\", y=\\\"total_hesitancy\\\", color=\\\"state\\\"\\n)  # add color mapping by State\\ngg += p9.geom_point()\\ngg\";\n",
       "                var nbb_cells = Jupyter.notebook.get_cells();\n",
       "                for (var i = 0; i < nbb_cells.length; ++i) {\n",
       "                    if (nbb_cells[i].input_prompt_number == nbb_cell_id) {\n",
       "                        if (nbb_cells[i].get_text() == nbb_unformatted_code) {\n",
       "                             nbb_cells[i].set_text(nbb_formatted_code);\n",
       "                        }\n",
       "                        break;\n",
       "                    }\n",
       "                }\n",
       "            }, 500);\n",
       "            "
      ],
      "text/plain": [
       "<IPython.core.display.Javascript object>"
      ]
     },
     "metadata": {},
     "output_type": "display_data"
    }
   ],
   "source": [
    "import plotnine as p9\n",
    "\n",
    "gg = p9.ggplot(hesitancy_vaccination_state_df)\n",
    "gg += p9.aes(\n",
    "    x=\"percent_adults_fully\", y=\"total_hesitancy\", color=\"state\"\n",
    ")  # add color mapping by State\n",
    "gg += p9.geom_point()\n",
    "gg"
   ]
  },
  {
   "cell_type": "code",
   "execution_count": 19,
   "id": "3ae514bb",
   "metadata": {},
   "outputs": [
    {
     "name": "stdout",
     "output_type": "stream",
     "text": [
      "Correlation coefficient: -0.4002944976189329\n"
     ]
    },
    {
     "data": {
      "application/javascript": [
       "\n",
       "            setTimeout(function() {\n",
       "                var nbb_cell_id = 19;\n",
       "                var nbb_unformatted_code = \"# Compute correlation coefficient\\ndeath_vax_correlation = state_vaccinations_df['Vaccine Proportion'].corr(state_vaccinations_df['COVID-19 Death Proportion'])\\nprint(f'Correlation coefficient: {death_vax_correlation}')\";\n",
       "                var nbb_formatted_code = \"# Compute correlation coefficient\\ndeath_vax_correlation = state_vaccinations_df[\\\"Vaccine Proportion\\\"].corr(\\n    state_vaccinations_df[\\\"COVID-19 Death Proportion\\\"]\\n)\\nprint(f\\\"Correlation coefficient: {death_vax_correlation}\\\")\";\n",
       "                var nbb_cells = Jupyter.notebook.get_cells();\n",
       "                for (var i = 0; i < nbb_cells.length; ++i) {\n",
       "                    if (nbb_cells[i].input_prompt_number == nbb_cell_id) {\n",
       "                        if (nbb_cells[i].get_text() == nbb_unformatted_code) {\n",
       "                             nbb_cells[i].set_text(nbb_formatted_code);\n",
       "                        }\n",
       "                        break;\n",
       "                    }\n",
       "                }\n",
       "            }, 500);\n",
       "            "
      ],
      "text/plain": [
       "<IPython.core.display.Javascript object>"
      ]
     },
     "metadata": {},
     "output_type": "display_data"
    }
   ],
   "source": [
    "# Compute correlation coefficient\n",
    "death_vax_correlation = state_vaccinations_df[\"Vaccine Proportion\"].corr(\n",
    "    state_vaccinations_df[\"COVID-19 Death Proportion\"]\n",
    ")\n",
    "print(f\"Correlation coefficient: {death_vax_correlation}\")"
   ]
  },
  {
   "cell_type": "markdown",
   "id": "fa03f6fb",
   "metadata": {},
   "source": [
    "This scatter plot and negative correlation coeffifient indicates that the proportion of COVID-19 deaths decreases as the proportion of people vaccinated increases. This is a good indication on the benefits of vaccination.\n",
    "\n",
    "Hawaii was the only state ommited from the analysis due to the lack of vaccination data. "
   ]
  },
  {
   "cell_type": "code",
   "execution_count": 20,
   "id": "65d78dc5",
   "metadata": {},
   "outputs": [
    {
     "name": "stdout",
     "output_type": "stream",
     "text": [
      "Correlation coefficient: -0.42307141739365106\n"
     ]
    },
    {
     "data": {
      "application/javascript": [
       "\n",
       "            setTimeout(function() {\n",
       "                var nbb_cell_id = 20;\n",
       "                var nbb_unformatted_code = \"# Compute correlation coefficient between Vaccine Hesitancy and Vaccination Rate \\nhesitancy_vax_correlation = hesitancy_vaccination_state_df['percent_adults_fully'].corr(hesitancy_vaccination_state_df['total_hesitancy'])\\nprint(f'Correlation coefficient: {hesitancy_vax_correlation}')\";\n",
       "                var nbb_formatted_code = \"# Compute correlation coefficient between Vaccine Hesitancy and Vaccination Rate\\nhesitancy_vax_correlation = hesitancy_vaccination_state_df[\\\"percent_adults_fully\\\"].corr(\\n    hesitancy_vaccination_state_df[\\\"total_hesitancy\\\"]\\n)\\nprint(f\\\"Correlation coefficient: {hesitancy_vax_correlation}\\\")\";\n",
       "                var nbb_cells = Jupyter.notebook.get_cells();\n",
       "                for (var i = 0; i < nbb_cells.length; ++i) {\n",
       "                    if (nbb_cells[i].input_prompt_number == nbb_cell_id) {\n",
       "                        if (nbb_cells[i].get_text() == nbb_unformatted_code) {\n",
       "                             nbb_cells[i].set_text(nbb_formatted_code);\n",
       "                        }\n",
       "                        break;\n",
       "                    }\n",
       "                }\n",
       "            }, 500);\n",
       "            "
      ],
      "text/plain": [
       "<IPython.core.display.Javascript object>"
      ]
     },
     "metadata": {},
     "output_type": "display_data"
    }
   ],
   "source": [
    "# Compute correlation coefficient between Vaccine Hesitancy and Vaccination Rate\n",
    "hesitancy_vax_correlation = hesitancy_vaccination_state_df[\"percent_adults_fully\"].corr(\n",
    "    hesitancy_vaccination_state_df[\"total_hesitancy\"]\n",
    ")\n",
    "print(f\"Correlation coefficient: {hesitancy_vax_correlation}\")"
   ]
  },
  {
   "cell_type": "markdown",
   "id": "cacddbcf",
   "metadata": {},
   "source": [
    "This scatter plot and negative correlation coeffifient indicates as vaccine hesitancy increases, the percentage of adults fully vaccinated decreases. However, in the hesitancy and actually vaccination rate notebook, we will dive deeper into this question to find whether other variables influence vaccine hesitancy and vaccination rate."
   ]
  },
  {
   "cell_type": "markdown",
   "id": "7102a84a",
   "metadata": {},
   "source": [
    "### Data Analysis"
   ]
  },
  {
   "cell_type": "markdown",
   "id": "b18c3d4e",
   "metadata": {},
   "source": [
    "#### Vaccine Hesitancy based on Governor's Political Affliation"
   ]
  },
  {
   "cell_type": "code",
   "execution_count": 21,
   "id": "2f2cc76c",
   "metadata": {},
   "outputs": [
    {
     "data": {
      "text/html": [
       "<div>\n",
       "<style scoped>\n",
       "    .dataframe tbody tr th:only-of-type {\n",
       "        vertical-align: middle;\n",
       "    }\n",
       "\n",
       "    .dataframe tbody tr th {\n",
       "        vertical-align: top;\n",
       "    }\n",
       "\n",
       "    .dataframe thead th {\n",
       "        text-align: right;\n",
       "    }\n",
       "</style>\n",
       "<table border=\"1\" class=\"dataframe\">\n",
       "  <thead>\n",
       "    <tr style=\"text-align: right;\">\n",
       "      <th></th>\n",
       "      <th>Location</th>\n",
       "      <th>Governor Political Affiliation</th>\n",
       "      <th>State Senate Majority Political Affiliation</th>\n",
       "      <th>State House Majority Political Affiliation</th>\n",
       "      <th>State Attorney General Political Affiliation</th>\n",
       "      <th>State Insurance Commissioner Political Affiliation</th>\n",
       "      <th>Footnotes</th>\n",
       "    </tr>\n",
       "  </thead>\n",
       "  <tbody>\n",
       "    <tr>\n",
       "      <th>0</th>\n",
       "      <td>Alabama</td>\n",
       "      <td>Republican</td>\n",
       "      <td>Republican</td>\n",
       "      <td>Republican</td>\n",
       "      <td>Republican</td>\n",
       "      <td>Appointed</td>\n",
       "      <td>NaN</td>\n",
       "    </tr>\n",
       "    <tr>\n",
       "      <th>1</th>\n",
       "      <td>Alaska</td>\n",
       "      <td>Republican</td>\n",
       "      <td>Republican</td>\n",
       "      <td>Republican</td>\n",
       "      <td>Appointed</td>\n",
       "      <td>Appointed</td>\n",
       "      <td>NaN</td>\n",
       "    </tr>\n",
       "    <tr>\n",
       "      <th>2</th>\n",
       "      <td>Arizona</td>\n",
       "      <td>Republican</td>\n",
       "      <td>Republican</td>\n",
       "      <td>Republican</td>\n",
       "      <td>Republican</td>\n",
       "      <td>Appointed</td>\n",
       "      <td>NaN</td>\n",
       "    </tr>\n",
       "    <tr>\n",
       "      <th>3</th>\n",
       "      <td>Arkansas</td>\n",
       "      <td>Republican</td>\n",
       "      <td>Republican</td>\n",
       "      <td>Republican</td>\n",
       "      <td>Republican</td>\n",
       "      <td>Appointed</td>\n",
       "      <td>NaN</td>\n",
       "    </tr>\n",
       "    <tr>\n",
       "      <th>4</th>\n",
       "      <td>California</td>\n",
       "      <td>Democrat</td>\n",
       "      <td>Democrat</td>\n",
       "      <td>Democrat</td>\n",
       "      <td>Democrat</td>\n",
       "      <td>Democrat</td>\n",
       "      <td>NaN</td>\n",
       "    </tr>\n",
       "  </tbody>\n",
       "</table>\n",
       "</div>"
      ],
      "text/plain": [
       "     Location Governor Political Affiliation  \\\n",
       "0     Alabama                     Republican   \n",
       "1      Alaska                     Republican   \n",
       "2     Arizona                     Republican   \n",
       "3    Arkansas                     Republican   \n",
       "4  California                       Democrat   \n",
       "\n",
       "  State Senate Majority Political Affiliation  \\\n",
       "0                                  Republican   \n",
       "1                                  Republican   \n",
       "2                                  Republican   \n",
       "3                                  Republican   \n",
       "4                                    Democrat   \n",
       "\n",
       "  State House Majority Political Affiliation  \\\n",
       "0                                 Republican   \n",
       "1                                 Republican   \n",
       "2                                 Republican   \n",
       "3                                 Republican   \n",
       "4                                   Democrat   \n",
       "\n",
       "  State Attorney General Political Affiliation  \\\n",
       "0                                   Republican   \n",
       "1                                    Appointed   \n",
       "2                                   Republican   \n",
       "3                                   Republican   \n",
       "4                                     Democrat   \n",
       "\n",
       "  State Insurance Commissioner Political Affiliation  Footnotes  \n",
       "0                                          Appointed        NaN  \n",
       "1                                          Appointed        NaN  \n",
       "2                                          Appointed        NaN  \n",
       "3                                          Appointed        NaN  \n",
       "4                                           Democrat        NaN  "
      ]
     },
     "execution_count": 21,
     "metadata": {},
     "output_type": "execute_result"
    },
    {
     "data": {
      "application/javascript": [
       "\n",
       "            setTimeout(function() {\n",
       "                var nbb_cell_id = 21;\n",
       "                var nbb_unformatted_code = \"# Extracting political party data from our public github\\nurl = \\\"https://raw.githubusercontent.com/gspiga/STAT141Bfinal/main/data/raw_data.csv\\\"\\npoli_df = pd.read_csv(url)\\npoli_df.head()\";\n",
       "                var nbb_formatted_code = \"# Extracting political party data from our public github\\nurl = \\\"https://raw.githubusercontent.com/gspiga/STAT141Bfinal/main/data/raw_data.csv\\\"\\npoli_df = pd.read_csv(url)\\npoli_df.head()\";\n",
       "                var nbb_cells = Jupyter.notebook.get_cells();\n",
       "                for (var i = 0; i < nbb_cells.length; ++i) {\n",
       "                    if (nbb_cells[i].input_prompt_number == nbb_cell_id) {\n",
       "                        if (nbb_cells[i].get_text() == nbb_unformatted_code) {\n",
       "                             nbb_cells[i].set_text(nbb_formatted_code);\n",
       "                        }\n",
       "                        break;\n",
       "                    }\n",
       "                }\n",
       "            }, 500);\n",
       "            "
      ],
      "text/plain": [
       "<IPython.core.display.Javascript object>"
      ]
     },
     "metadata": {},
     "output_type": "display_data"
    }
   ],
   "source": [
    "# Extracting political party data from our public github\n",
    "url = \"https://raw.githubusercontent.com/gspiga/STAT141Bfinal/main/data/raw_data.csv\"\n",
    "poli_df = pd.read_csv(url)\n",
    "poli_df.head()"
   ]
  },
  {
   "cell_type": "code",
   "execution_count": 22,
   "id": "fca7378d",
   "metadata": {},
   "outputs": [
    {
     "data": {
      "text/html": [
       "<div>\n",
       "<style scoped>\n",
       "    .dataframe tbody tr th:only-of-type {\n",
       "        vertical-align: middle;\n",
       "    }\n",
       "\n",
       "    .dataframe tbody tr th {\n",
       "        vertical-align: top;\n",
       "    }\n",
       "\n",
       "    .dataframe thead th {\n",
       "        text-align: right;\n",
       "    }\n",
       "</style>\n",
       "<table border=\"1\" class=\"dataframe\">\n",
       "  <thead>\n",
       "    <tr style=\"text-align: right;\">\n",
       "      <th></th>\n",
       "      <th>Location</th>\n",
       "      <th>Governor Political Affiliation</th>\n",
       "      <th>State Senate Majority Political Affiliation</th>\n",
       "      <th>State House Majority Political Affiliation</th>\n",
       "      <th>State Attorney General Political Affiliation</th>\n",
       "      <th>State Insurance Commissioner Political Affiliation</th>\n",
       "      <th>Footnotes</th>\n",
       "    </tr>\n",
       "  </thead>\n",
       "  <tbody>\n",
       "    <tr>\n",
       "      <th>0</th>\n",
       "      <td>ALABAMA</td>\n",
       "      <td>Republican</td>\n",
       "      <td>Republican</td>\n",
       "      <td>Republican</td>\n",
       "      <td>Republican</td>\n",
       "      <td>Appointed</td>\n",
       "      <td>NaN</td>\n",
       "    </tr>\n",
       "    <tr>\n",
       "      <th>1</th>\n",
       "      <td>ALASKA</td>\n",
       "      <td>Republican</td>\n",
       "      <td>Republican</td>\n",
       "      <td>Republican</td>\n",
       "      <td>Appointed</td>\n",
       "      <td>Appointed</td>\n",
       "      <td>NaN</td>\n",
       "    </tr>\n",
       "    <tr>\n",
       "      <th>2</th>\n",
       "      <td>ARIZONA</td>\n",
       "      <td>Republican</td>\n",
       "      <td>Republican</td>\n",
       "      <td>Republican</td>\n",
       "      <td>Republican</td>\n",
       "      <td>Appointed</td>\n",
       "      <td>NaN</td>\n",
       "    </tr>\n",
       "    <tr>\n",
       "      <th>3</th>\n",
       "      <td>ARKANSAS</td>\n",
       "      <td>Republican</td>\n",
       "      <td>Republican</td>\n",
       "      <td>Republican</td>\n",
       "      <td>Republican</td>\n",
       "      <td>Appointed</td>\n",
       "      <td>NaN</td>\n",
       "    </tr>\n",
       "    <tr>\n",
       "      <th>4</th>\n",
       "      <td>CALIFORNIA</td>\n",
       "      <td>Democrat</td>\n",
       "      <td>Democrat</td>\n",
       "      <td>Democrat</td>\n",
       "      <td>Democrat</td>\n",
       "      <td>Democrat</td>\n",
       "      <td>NaN</td>\n",
       "    </tr>\n",
       "  </tbody>\n",
       "</table>\n",
       "</div>"
      ],
      "text/plain": [
       "     Location Governor Political Affiliation  \\\n",
       "0     ALABAMA                     Republican   \n",
       "1      ALASKA                     Republican   \n",
       "2     ARIZONA                     Republican   \n",
       "3    ARKANSAS                     Republican   \n",
       "4  CALIFORNIA                       Democrat   \n",
       "\n",
       "  State Senate Majority Political Affiliation  \\\n",
       "0                                  Republican   \n",
       "1                                  Republican   \n",
       "2                                  Republican   \n",
       "3                                  Republican   \n",
       "4                                    Democrat   \n",
       "\n",
       "  State House Majority Political Affiliation  \\\n",
       "0                                 Republican   \n",
       "1                                 Republican   \n",
       "2                                 Republican   \n",
       "3                                 Republican   \n",
       "4                                   Democrat   \n",
       "\n",
       "  State Attorney General Political Affiliation  \\\n",
       "0                                   Republican   \n",
       "1                                    Appointed   \n",
       "2                                   Republican   \n",
       "3                                   Republican   \n",
       "4                                     Democrat   \n",
       "\n",
       "  State Insurance Commissioner Political Affiliation  Footnotes  \n",
       "0                                          Appointed        NaN  \n",
       "1                                          Appointed        NaN  \n",
       "2                                          Appointed        NaN  \n",
       "3                                          Appointed        NaN  \n",
       "4                                           Democrat        NaN  "
      ]
     },
     "execution_count": 22,
     "metadata": {},
     "output_type": "execute_result"
    },
    {
     "data": {
      "application/javascript": [
       "\n",
       "            setTimeout(function() {\n",
       "                var nbb_cell_id = 22;\n",
       "                var nbb_unformatted_code = \"# Changing one column in poli_df to upper case so that we may join them (pandas is case sensitive).\\npoli_df[\\\"Location\\\"] = poli_df[\\\"Location\\\"].apply(\\n    lambda x: x.upper()  # Uppercase all state names\\n)\\npoli_df.head()\";\n",
       "                var nbb_formatted_code = \"# Changing one column in poli_df to upper case so that we may join them (pandas is case sensitive).\\npoli_df[\\\"Location\\\"] = poli_df[\\\"Location\\\"].apply(\\n    lambda x: x.upper()  # Uppercase all state names\\n)\\npoli_df.head()\";\n",
       "                var nbb_cells = Jupyter.notebook.get_cells();\n",
       "                for (var i = 0; i < nbb_cells.length; ++i) {\n",
       "                    if (nbb_cells[i].input_prompt_number == nbb_cell_id) {\n",
       "                        if (nbb_cells[i].get_text() == nbb_unformatted_code) {\n",
       "                             nbb_cells[i].set_text(nbb_formatted_code);\n",
       "                        }\n",
       "                        break;\n",
       "                    }\n",
       "                }\n",
       "            }, 500);\n",
       "            "
      ],
      "text/plain": [
       "<IPython.core.display.Javascript object>"
      ]
     },
     "metadata": {},
     "output_type": "display_data"
    }
   ],
   "source": [
    "# Changing one column in poli_df to upper case so that we may join them (pandas is case sensitive).\n",
    "poli_df[\"Location\"] = poli_df[\"Location\"].apply(\n",
    "    lambda x: x.upper()  # Uppercase all state names\n",
    ")\n",
    "poli_df.head()"
   ]
  },
  {
   "cell_type": "code",
   "execution_count": 24,
   "id": "604191e3",
   "metadata": {},
   "outputs": [
    {
     "data": {
      "application/javascript": [
       "\n",
       "            setTimeout(function() {\n",
       "                var nbb_cell_id = 24;\n",
       "                var nbb_unformatted_code = \"# We join the dataframe\\npolihes_df = hesitancy_df.merge(poli_df, left_on=\\\"state\\\", right_on=\\\"Location\\\")\\n\\n# Have to change decimal values from string to numeric\\ncols = [\\n    \\\"estimated_hesitant\\\",\\n    \\\"estimated_hesitant_or_unsure\\\",\\n    \\\"estimated_strongly_hesitant\\\",\\n    \\\"estimated_strongly_hesitant\\\",\\n    \\\"social_vulnerability_index\\\",\\n    \\\"ability_to_handle_a_covid\\\",\\n    \\\"percent_hispanic\\\",\\n    \\\"percent_non_hispanic_asian\\\",\\n    \\\"percent_non_hispanic_black\\\",\\n    \\\"percent_non_hispanic_native\\\",\\n    \\\"percent_non_hispanic_white\\\",\\n]\\npolihes_df[cols] = polihes_df[cols].apply(pd.to_numeric, errors=\\\"coerce\\\", axis=1)\";\n",
       "                var nbb_formatted_code = \"# We join the dataframe\\npolihes_df = hesitancy_df.merge(poli_df, left_on=\\\"state\\\", right_on=\\\"Location\\\")\\n\\n# Have to change decimal values from string to numeric\\ncols = [\\n    \\\"estimated_hesitant\\\",\\n    \\\"estimated_hesitant_or_unsure\\\",\\n    \\\"estimated_strongly_hesitant\\\",\\n    \\\"estimated_strongly_hesitant\\\",\\n    \\\"social_vulnerability_index\\\",\\n    \\\"ability_to_handle_a_covid\\\",\\n    \\\"percent_hispanic\\\",\\n    \\\"percent_non_hispanic_asian\\\",\\n    \\\"percent_non_hispanic_black\\\",\\n    \\\"percent_non_hispanic_native\\\",\\n    \\\"percent_non_hispanic_white\\\",\\n]\\npolihes_df[cols] = polihes_df[cols].apply(pd.to_numeric, errors=\\\"coerce\\\", axis=1)\";\n",
       "                var nbb_cells = Jupyter.notebook.get_cells();\n",
       "                for (var i = 0; i < nbb_cells.length; ++i) {\n",
       "                    if (nbb_cells[i].input_prompt_number == nbb_cell_id) {\n",
       "                        if (nbb_cells[i].get_text() == nbb_unformatted_code) {\n",
       "                             nbb_cells[i].set_text(nbb_formatted_code);\n",
       "                        }\n",
       "                        break;\n",
       "                    }\n",
       "                }\n",
       "            }, 500);\n",
       "            "
      ],
      "text/plain": [
       "<IPython.core.display.Javascript object>"
      ]
     },
     "metadata": {},
     "output_type": "display_data"
    }
   ],
   "source": [
    "# We join the dataframe\n",
    "polihes_df = hesitancy_df.merge(poli_df, left_on=\"state\", right_on=\"Location\")\n",
    "\n",
    "# Have to change decimal values from string to numeric\n",
    "cols = [\n",
    "    \"estimated_hesitant\",\n",
    "    \"estimated_hesitant_or_unsure\",\n",
    "    \"estimated_strongly_hesitant\",\n",
    "    \"estimated_strongly_hesitant\",\n",
    "    \"social_vulnerability_index\",\n",
    "    \"ability_to_handle_a_covid\",\n",
    "    \"percent_hispanic\",\n",
    "    \"percent_non_hispanic_asian\",\n",
    "    \"percent_non_hispanic_black\",\n",
    "    \"percent_non_hispanic_native\",\n",
    "    \"percent_non_hispanic_white\",\n",
    "]\n",
    "polihes_df[cols] = polihes_df[cols].apply(pd.to_numeric, errors=\"coerce\", axis=1)"
   ]
  },
  {
   "cell_type": "code",
   "execution_count": 25,
   "id": "17037e88",
   "metadata": {},
   "outputs": [
    {
     "data": {
      "text/plain": [
       "<seaborn.axisgrid.FacetGrid at 0x1a4008ca640>"
      ]
     },
     "execution_count": 25,
     "metadata": {},
     "output_type": "execute_result"
    },
    {
     "data": {
      "image/png": "[encoded data removed]",
      "text/plain": [
       "<Figure size 506.75x360 with 1 Axes>"
      ]
     },
     "metadata": {
      "needs_background": "light"
     },
     "output_type": "display_data"
    },
    {
     "data": {
      "application/javascript": [
       "\n",
       "            setTimeout(function() {\n",
       "                var nbb_cell_id = 25;\n",
       "                var nbb_unformatted_code = \"# Lets look at the distributions of over all hesitancy\\n# p9.ggplot(polihes_df, p9.aes(x = 'estimated_hesitant', y = ..density.., fill = 'Governor Political Affiliation', color = 'Governor Political Affiliation' )) + p9.geom_density(alpha = 0.3)\\n# Creating custom color pallete\\ncolors = [\\\"#FF0B04\\\", \\\"#4374B3\\\"]\\nsns.set_palette(sns.color_palette(colors))\\n\\npoli_dens = sns.displot(\\n    data=polihes_df,\\n    x=\\\"estimated_hesitant\\\",\\n    hue=\\\"Governor Political Affiliation\\\",\\n    fill=True,\\n    kind=\\\"kde\\\",\\n)\\npoli_dens.set(xlabel=\\\"Estimated Hesitancy\\\")\";\n",
       "                var nbb_formatted_code = \"# Lets look at the distributions of over all hesitancy\\n# p9.ggplot(polihes_df, p9.aes(x = 'estimated_hesitant', y = ..density.., fill = 'Governor Political Affiliation', color = 'Governor Political Affiliation' )) + p9.geom_density(alpha = 0.3)\\n# Creating custom color pallete\\ncolors = [\\\"#FF0B04\\\", \\\"#4374B3\\\"]\\nsns.set_palette(sns.color_palette(colors))\\n\\npoli_dens = sns.displot(\\n    data=polihes_df,\\n    x=\\\"estimated_hesitant\\\",\\n    hue=\\\"Governor Political Affiliation\\\",\\n    fill=True,\\n    kind=\\\"kde\\\",\\n)\\npoli_dens.set(xlabel=\\\"Estimated Hesitancy\\\")\";\n",
       "                var nbb_cells = Jupyter.notebook.get_cells();\n",
       "                for (var i = 0; i < nbb_cells.length; ++i) {\n",
       "                    if (nbb_cells[i].input_prompt_number == nbb_cell_id) {\n",
       "                        if (nbb_cells[i].get_text() == nbb_unformatted_code) {\n",
       "                             nbb_cells[i].set_text(nbb_formatted_code);\n",
       "                        }\n",
       "                        break;\n",
       "                    }\n",
       "                }\n",
       "            }, 500);\n",
       "            "
      ],
      "text/plain": [
       "<IPython.core.display.Javascript object>"
      ]
     },
     "metadata": {},
     "output_type": "display_data"
    }
   ],
   "source": [
    "# Lets look at the distributions of over all hesitancy\n",
    "# p9.ggplot(polihes_df, p9.aes(x = 'estimated_hesitant', y = ..density.., fill = 'Governor Political Affiliation', color = 'Governor Political Affiliation' )) + p9.geom_density(alpha = 0.3)\n",
    "# Creating custom color pallete\n",
    "colors = [\"#FF0B04\", \"#4374B3\"]\n",
    "sns.set_palette(sns.color_palette(colors))\n",
    "\n",
    "poli_dens = sns.displot(\n",
    "    data=polihes_df,\n",
    "    x=\"estimated_hesitant\",\n",
    "    hue=\"Governor Political Affiliation\",\n",
    "    fill=True,\n",
    "    kind=\"kde\",\n",
    ")\n",
    "poli_dens.set(xlabel=\"Estimated Hesitancy\")"
   ]
  },
  {
   "cell_type": "code",
   "execution_count": 27,
   "id": "9c4ef7a8",
   "metadata": {},
   "outputs": [
    {
     "data": {
      "text/html": [
       "<div>\n",
       "<style scoped>\n",
       "    .dataframe tbody tr th:only-of-type {\n",
       "        vertical-align: middle;\n",
       "    }\n",
       "\n",
       "    .dataframe tbody tr th {\n",
       "        vertical-align: top;\n",
       "    }\n",
       "\n",
       "    .dataframe thead th {\n",
       "        text-align: right;\n",
       "    }\n",
       "</style>\n",
       "<table border=\"1\" class=\"dataframe\">\n",
       "  <thead>\n",
       "    <tr style=\"text-align: right;\">\n",
       "      <th></th>\n",
       "      <th>estimated_hesitant</th>\n",
       "      <th>estimated_hesitant_or_unsure</th>\n",
       "      <th>estimated_strongly_hesitant</th>\n",
       "      <th>social_vulnerability_index</th>\n",
       "      <th>ability_to_handle_a_covid</th>\n",
       "      <th>percent_hispanic</th>\n",
       "      <th>percent_non_hispanic_asian</th>\n",
       "      <th>percent_non_hispanic_black</th>\n",
       "      <th>percent_non_hispanic_native</th>\n",
       "      <th>percent_non_hispanic_white</th>\n",
       "      <th>Footnotes</th>\n",
       "    </tr>\n",
       "    <tr>\n",
       "      <th>Governor Political Affiliation</th>\n",
       "      <th></th>\n",
       "      <th></th>\n",
       "      <th></th>\n",
       "      <th></th>\n",
       "      <th></th>\n",
       "      <th></th>\n",
       "      <th></th>\n",
       "      <th></th>\n",
       "      <th></th>\n",
       "      <th></th>\n",
       "      <th></th>\n",
       "    </tr>\n",
       "  </thead>\n",
       "  <tbody>\n",
       "    <tr>\n",
       "      <th>Democrat</th>\n",
       "      <td>0.112877</td>\n",
       "      <td>0.169319</td>\n",
       "      <td>0.072663</td>\n",
       "      <td>0.469469</td>\n",
       "      <td>0.395411</td>\n",
       "      <td>0.091480</td>\n",
       "      <td>0.018552</td>\n",
       "      <td>0.074884</td>\n",
       "      <td>0.001201</td>\n",
       "      <td>0.780671</td>\n",
       "      <td>NaN</td>\n",
       "    </tr>\n",
       "    <tr>\n",
       "      <th>Republican</th>\n",
       "      <td>0.146538</td>\n",
       "      <td>0.207053</td>\n",
       "      <td>0.096539</td>\n",
       "      <td>0.521559</td>\n",
       "      <td>0.573851</td>\n",
       "      <td>0.096094</td>\n",
       "      <td>0.010136</td>\n",
       "      <td>0.099417</td>\n",
       "      <td>0.000720</td>\n",
       "      <td>0.749658</td>\n",
       "      <td>NaN</td>\n",
       "    </tr>\n",
       "  </tbody>\n",
       "</table>\n",
       "</div>"
      ],
      "text/plain": [
       "                                estimated_hesitant  \\\n",
       "Governor Political Affiliation                       \n",
       "Democrat                                  0.112877   \n",
       "Republican                                0.146538   \n",
       "\n",
       "                                estimated_hesitant_or_unsure  \\\n",
       "Governor Political Affiliation                                 \n",
       "Democrat                                            0.169319   \n",
       "Republican                                          0.207053   \n",
       "\n",
       "                                estimated_strongly_hesitant  \\\n",
       "Governor Political Affiliation                                \n",
       "Democrat                                           0.072663   \n",
       "Republican                                         0.096539   \n",
       "\n",
       "                                social_vulnerability_index  \\\n",
       "Governor Political Affiliation                               \n",
       "Democrat                                          0.469469   \n",
       "Republican                                        0.521559   \n",
       "\n",
       "                                ability_to_handle_a_covid  percent_hispanic  \\\n",
       "Governor Political Affiliation                                                \n",
       "Democrat                                         0.395411          0.091480   \n",
       "Republican                                       0.573851          0.096094   \n",
       "\n",
       "                                percent_non_hispanic_asian  \\\n",
       "Governor Political Affiliation                               \n",
       "Democrat                                          0.018552   \n",
       "Republican                                        0.010136   \n",
       "\n",
       "                                percent_non_hispanic_black  \\\n",
       "Governor Political Affiliation                               \n",
       "Democrat                                          0.074884   \n",
       "Republican                                        0.099417   \n",
       "\n",
       "                                percent_non_hispanic_native  \\\n",
       "Governor Political Affiliation                                \n",
       "Democrat                                           0.001201   \n",
       "Republican                                         0.000720   \n",
       "\n",
       "                                percent_non_hispanic_white  Footnotes  \n",
       "Governor Political Affiliation                                         \n",
       "Democrat                                          0.780671        NaN  \n",
       "Republican                                        0.749658        NaN  "
      ]
     },
     "execution_count": 27,
     "metadata": {},
     "output_type": "execute_result"
    },
    {
     "data": {
      "application/javascript": [
       "\n",
       "            setTimeout(function() {\n",
       "                var nbb_cell_id = 27;\n",
       "                var nbb_unformatted_code = \"polihes_df.groupby([\\\"Governor Political Affiliation\\\"]).mean()\";\n",
       "                var nbb_formatted_code = \"polihes_df.groupby([\\\"Governor Political Affiliation\\\"]).mean()\";\n",
       "                var nbb_cells = Jupyter.notebook.get_cells();\n",
       "                for (var i = 0; i < nbb_cells.length; ++i) {\n",
       "                    if (nbb_cells[i].input_prompt_number == nbb_cell_id) {\n",
       "                        if (nbb_cells[i].get_text() == nbb_unformatted_code) {\n",
       "                             nbb_cells[i].set_text(nbb_formatted_code);\n",
       "                        }\n",
       "                        break;\n",
       "                    }\n",
       "                }\n",
       "            }, 500);\n",
       "            "
      ],
      "text/plain": [
       "<IPython.core.display.Javascript object>"
      ]
     },
     "metadata": {},
     "output_type": "display_data"
    }
   ],
   "source": [
    "polihes_df.groupby([\"Governor Political Affiliation\"]).mean()"
   ]
  },
  {
   "cell_type": "code",
   "execution_count": 28,
   "id": "0a4bbfbc",
   "metadata": {},
   "outputs": [
    {
     "data": {
      "application/javascript": [
       "\n",
       "            setTimeout(function() {\n",
       "                var nbb_cell_id = 28;\n",
       "                var nbb_unformatted_code = \"# Pythonize column name\\npolihes_df.rename(\\n    columns={\\\"Governor Political Affiliation\\\": \\\"Governor_Political_Affiliation\\\"},\\n    inplace=True,\\n)\";\n",
       "                var nbb_formatted_code = \"# Pythonize column name\\npolihes_df.rename(\\n    columns={\\\"Governor Political Affiliation\\\": \\\"Governor_Political_Affiliation\\\"},\\n    inplace=True,\\n)\";\n",
       "                var nbb_cells = Jupyter.notebook.get_cells();\n",
       "                for (var i = 0; i < nbb_cells.length; ++i) {\n",
       "                    if (nbb_cells[i].input_prompt_number == nbb_cell_id) {\n",
       "                        if (nbb_cells[i].get_text() == nbb_unformatted_code) {\n",
       "                             nbb_cells[i].set_text(nbb_formatted_code);\n",
       "                        }\n",
       "                        break;\n",
       "                    }\n",
       "                }\n",
       "            }, 500);\n",
       "            "
      ],
      "text/plain": [
       "<IPython.core.display.Javascript object>"
      ]
     },
     "metadata": {},
     "output_type": "display_data"
    }
   ],
   "source": [
    "# Pythonize column name\n",
    "polihes_df.rename(\n",
    "    columns={\"Governor Political Affiliation\": \"Governor_Political_Affiliation\"},\n",
    "    inplace=True,\n",
    ")"
   ]
  },
  {
   "cell_type": "code",
   "execution_count": 31,
   "id": "8c0b2691",
   "metadata": {},
   "outputs": [
    {
     "data": {
      "text/plain": [
       "MannwhitneyuResult(statistic=690925.5, pvalue=5.521208427540638e-91)"
      ]
     },
     "execution_count": 31,
     "metadata": {},
     "output_type": "execute_result"
    },
    {
     "data": {
      "application/javascript": [
       "\n",
       "            setTimeout(function() {\n",
       "                var nbb_cell_id = 31;\n",
       "                var nbb_unformatted_code = \"# Lets compare the means of republican states and democratic states via a MannWhitneyU, lets check our assumptions\\ndf_dem = polihes_df[polihes_df[\\\"Governor_Political_Affiliation\\\"] == \\\"Democrat\\\"][\\n    \\\"estimated_hesitant\\\"\\n]\\ndf_rep = polihes_df[polihes_df[\\\"Governor_Political_Affiliation\\\"] == \\\"Republican\\\"][\\n    \\\"estimated_hesitant\\\"\\n]\\n\\nstats.mannwhitneyu(x=df_dem, y=df_rep, alternative=\\\"two-sided\\\")\";\n",
       "                var nbb_formatted_code = \"# Lets compare the means of republican states and democratic states via a MannWhitneyU, lets check our assumptions\\ndf_dem = polihes_df[polihes_df[\\\"Governor_Political_Affiliation\\\"] == \\\"Democrat\\\"][\\n    \\\"estimated_hesitant\\\"\\n]\\ndf_rep = polihes_df[polihes_df[\\\"Governor_Political_Affiliation\\\"] == \\\"Republican\\\"][\\n    \\\"estimated_hesitant\\\"\\n]\\n\\nstats.mannwhitneyu(x=df_dem, y=df_rep, alternative=\\\"two-sided\\\")\";\n",
       "                var nbb_cells = Jupyter.notebook.get_cells();\n",
       "                for (var i = 0; i < nbb_cells.length; ++i) {\n",
       "                    if (nbb_cells[i].input_prompt_number == nbb_cell_id) {\n",
       "                        if (nbb_cells[i].get_text() == nbb_unformatted_code) {\n",
       "                             nbb_cells[i].set_text(nbb_formatted_code);\n",
       "                        }\n",
       "                        break;\n",
       "                    }\n",
       "                }\n",
       "            }, 500);\n",
       "            "
      ],
      "text/plain": [
       "<IPython.core.display.Javascript object>"
      ]
     },
     "metadata": {},
     "output_type": "display_data"
    }
   ],
   "source": [
    "# Lets compare the means of republican states and democratic states via a MannWhitneyU, lets check our assumptions\n",
    "df_dem = polihes_df[polihes_df[\"Governor_Political_Affiliation\"] == \"Democrat\"][\n",
    "    \"estimated_hesitant\"\n",
    "]\n",
    "df_rep = polihes_df[polihes_df[\"Governor_Political_Affiliation\"] == \"Republican\"][\n",
    "    \"estimated_hesitant\"\n",
    "]\n",
    "\n",
    "stats.mannwhitneyu(x=df_dem, y=df_rep, alternative=\"two-sided\")"
   ]
  },
  {
   "cell_type": "markdown",
   "id": "6b7f059c",
   "metadata": {},
   "source": [
    "#### Influential Ethicity Populations on Estimated Vaccine Hesitancy in American Counties"
   ]
  },
  {
   "cell_type": "code",
   "execution_count": null,
   "id": "57cf19d6",
   "metadata": {},
   "outputs": [],
   "source": []
  },
  {
   "cell_type": "markdown",
   "id": "3f729197",
   "metadata": {},
   "source": [
    "<a id='conclusions'></a>\n",
    "### Conclusions "
   ]
  }
 ],
 "metadata": {
  "kernelspec": {
   "display_name": "Python 3",
   "language": "python",
   "name": "python3"
  },
  "language_info": {
   "codemirror_mode": {
    "name": "ipython",
    "version": 3
   },
   "file_extension": ".py",
   "mimetype": "text/x-python",
   "name": "python",
   "nbconvert_exporter": "python",
   "pygments_lexer": "ipython3",
   "version": "3.8.8"
  }
 },
 "nbformat": 4,
 "nbformat_minor": 5
}
