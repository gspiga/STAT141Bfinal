{
 "cells": [
  {
   "cell_type": "markdown",
   "id": "b913ec9c",
   "metadata": {},
   "source": [
    "# 141B Final Project: Vaccine Hesitancy in the United States\n",
    "## by Antonio Pelayo, Gianni Spiga, and Sharon Vien\n",
    "\n",
    "In this notebook, we explore data provided by the CDC in regards to the hesistancy of adults in the United States in hopes to find any patterns or trends that might help better prepare for more efficient vaccine rollout on a nationwide and statewide scale in the future.\n",
    "\n",
    "## Grading Criteria \n",
    "1. Project organization, writeup readability, and overall conclusions\n",
    "2. Code quality, readability, and efficiency \n",
    "3. Data Munging\n",
    "4. Data Visualizations\n",
    "5. Data Extraction\n",
    "\n",
    "## Table of Contents\n",
    "* [Data Extraction](#data-extraction)\n",
    "* [Variable Descriptions](#variable-description)\n",
    "* [Data Munging and Cleaning](#data-munging)\n",
    "* [Data Visualization](#data-visualization)\n",
    "* [Conclusions](#conclusions)"
   ]
  },
  {
   "cell_type": "code",
   "execution_count": 8,
   "id": "6271d0c1",
   "metadata": {},
   "outputs": [
    {
     "data": {
      "application/javascript": [
       "\n",
       "            setTimeout(function() {\n",
       "                var nbb_cell_id = 8;\n",
       "                var nbb_unformatted_code = \"#AutoFormatting for all code\\n%load_ext nb_black\";\n",
       "                var nbb_formatted_code = \"# AutoFormatting for all code\\n%load_ext nb_black\";\n",
       "                var nbb_cells = Jupyter.notebook.get_cells();\n",
       "                for (var i = 0; i < nbb_cells.length; ++i) {\n",
       "                    if (nbb_cells[i].input_prompt_number == nbb_cell_id) {\n",
       "                        if (nbb_cells[i].get_text() == nbb_unformatted_code) {\n",
       "                             nbb_cells[i].set_text(nbb_formatted_code);\n",
       "                        }\n",
       "                        break;\n",
       "                    }\n",
       "                }\n",
       "            }, 500);\n",
       "            "
      ],
      "text/plain": [
       "<IPython.core.display.Javascript object>"
      ]
     },
     "metadata": {},
     "output_type": "display_data"
    }
   ],
   "source": [
    "# AutoFormatting for all code\n",
    "%load_ext nb_black"
   ]
  },
  {
   "cell_type": "code",
   "execution_count": 9,
   "id": "c18415da",
   "metadata": {},
   "outputs": [
    {
     "data": {
      "application/javascript": [
       "\n",
       "            setTimeout(function() {\n",
       "                var nbb_cell_id = 9;\n",
       "                var nbb_unformatted_code = \"# Libraries\\nimport datetime\\nimport requests\\nimport matplotlib.pyplot as plt\\nimport numpy as np\\nimport pandas as pd\\nimport seaborn as sns\\nimport sqlalchemy as sqla\\nimport plotnine as p9\\nimport statsmodels.api as sm\\nimport statsmodels.formula.api as smf\\nimport matplotlib.pyplot as plt\\nfrom bioinfokit.analys import stat\\n\\n# Other data used in the analysis\\ncounty_deaths_df = pd.read_csv('data/cdc-deaths-by-county-and-race.csv')\\nstate_abbreviations_df = pd.read_csv('data/state-abbreviations.csv')\\nstate_parties_df = pd.read_csv('data/state-political-parties.csv')\\nstate_populations_df = pd.read_csv('data/census-2020-county-population-totals.csv')\";\n",
       "                var nbb_formatted_code = \"# Libraries\\nimport datetime\\nimport requests\\nimport matplotlib.pyplot as plt\\nimport numpy as np\\nimport pandas as pd\\nimport seaborn as sns\\nimport sqlalchemy as sqla\\nimport plotnine as p9\\nimport statsmodels.api as sm\\nimport statsmodels.formula.api as smf\\nimport matplotlib.pyplot as plt\\nfrom bioinfokit.analys import stat\\n\\n# Other data used in the analysis\\ncounty_deaths_df = pd.read_csv(\\\"data/cdc-deaths-by-county-and-race.csv\\\")\\nstate_abbreviations_df = pd.read_csv(\\\"data/state-abbreviations.csv\\\")\\nstate_parties_df = pd.read_csv(\\\"data/state-political-parties.csv\\\")\\nstate_populations_df = pd.read_csv(\\\"data/census-2020-county-population-totals.csv\\\")\";\n",
       "                var nbb_cells = Jupyter.notebook.get_cells();\n",
       "                for (var i = 0; i < nbb_cells.length; ++i) {\n",
       "                    if (nbb_cells[i].input_prompt_number == nbb_cell_id) {\n",
       "                        if (nbb_cells[i].get_text() == nbb_unformatted_code) {\n",
       "                             nbb_cells[i].set_text(nbb_formatted_code);\n",
       "                        }\n",
       "                        break;\n",
       "                    }\n",
       "                }\n",
       "            }, 500);\n",
       "            "
      ],
      "text/plain": [
       "<IPython.core.display.Javascript object>"
      ]
     },
     "metadata": {},
     "output_type": "display_data"
    }
   ],
   "source": [
    "# Libraries\n",
    "import datetime\n",
    "import requests\n",
    "import matplotlib.pyplot as plt\n",
    "import numpy as np\n",
    "import pandas as pd\n",
    "import seaborn as sns\n",
    "import sqlalchemy as sqla\n",
    "import plotnine as p9\n",
    "import statsmodels.api as sm\n",
    "import statsmodels.formula.api as smf\n",
    "import matplotlib.pyplot as plt\n",
    "from bioinfokit.analys import stat\n",
    "\n",
    "# Other data used in the analysis\n",
    "county_deaths_df = pd.read_csv(\"data/cdc-deaths-by-county-and-race.csv\")\n",
    "state_abbreviations_df = pd.read_csv(\"data/state-abbreviations.csv\")\n",
    "state_parties_df = pd.read_csv(\"data/state-political-parties.csv\")\n",
    "state_populations_df = pd.read_csv(\"data/census-2020-county-population-totals.csv\")"
   ]
  },
  {
   "cell_type": "markdown",
   "id": "e24e21e7",
   "metadata": {},
   "source": [
    "<a id=\"data-extraction\"></a>\n",
    "### Extracting the Data"
   ]
  },
  {
   "cell_type": "code",
   "execution_count": null,
   "id": "fcb1e30e",
   "metadata": {},
   "outputs": [],
   "source": [
    "# Request hesitancy data\n",
    "hesitancy_endpoint = 'https://data.cdc.gov/resource/q9mh-h2tw.json?$limit=4000'\n",
    "\n",
    "r = requests.get(hesitancy_endpoint)\n",
    "hesitancy_df = pd.DataFrame(r.json())\n",
    "hesitancy_df.head()"
   ]
  },
  {
   "cell_type": "code",
   "execution_count": null,
   "id": "d13b9134",
   "metadata": {},
   "outputs": [],
   "source": [
    "# Request vaccination data\n",
    "cdc_completed_vaccinations_endpoint = 'https://data.cdc.gov/resource/8xkx-amqh.json?$limit=5000'\n",
    "r = requests.get(cdc_completed_vaccinations_endpoint)\n",
    "county_vaccination_counts_df = pd.DataFrame(r.json())\n",
    "# county_vaccination_counts_df.head()\n",
    "county_vaccination_counts_df = county_vaccination_counts_df.filter(\n",
    "    [\n",
    "        'date',\n",
    "        'recip_state',\n",
    "        'series_complete_yes'\n",
    "    ]\n",
    ")\n",
    "\n",
    "# Filter by today's date in format YYYY-MM-DD\n",
    "today = datetime.datetime(2021, 12, 9).strftime('%Y-%m-%d')\n",
    "today = today + 'T00:00:00.000'\n",
    "county_vaccination_counts_df = county_vaccination_counts_df[\n",
    "    county_vaccination_counts_df['date'] == today\n",
    "]\n",
    "\n",
    "# Turn completed vaccination counts into integers\n",
    "county_vaccination_counts_df['series_complete_yes'] = county_vaccination_counts_df['series_complete_yes'].astype(int)\n",
    "county_vaccination_counts_df['State Abbreviation'] = county_vaccination_counts_df['recip_state'].str.upper()\n",
    "\n",
    "# Group counts by state\n",
    "state_vaccinations_df = county_vaccination_counts_df.groupby('State Abbreviation').sum()\n",
    "state_vaccinations_df.head()"
   ]
  },
  {
   "cell_type": "markdown",
   "id": "8e13de58",
   "metadata": {},
   "source": [
    "<a id=\"variable-description\"></a>\n",
    "### Addressing and Understanding our Variables"
   ]
  },
  {
   "cell_type": "code",
   "execution_count": null,
   "id": "a8e62120",
   "metadata": {},
   "outputs": [],
   "source": [
    "hesitancy_df.info()"
   ]
  },
  {
   "cell_type": "markdown",
   "id": "ff53db0d",
   "metadata": {},
   "source": [
    "#### Variable Definitions\n",
    "1. fips_code = numbers that uniquely identify geographic areas  \n",
    "2. county_name = name of county  \n",
    "3. state = name of state  \n",
    "4. estimated_hesitant = percent of population that indicated they would \"probably not\" or \"definitely not\" receive a COVID-19 vaccine when available  \n",
    "5. estimated_hesitant_or_unsure = percent of population that indicated they would \"probably not\" or \"unsure\" or \"definitely not\" receive a COVID-19 vaccine when available  \n",
    "6. estimated_strongly_hesitant = percent of population that indicated they would \"definitely not\" receive a COVID-19 vaccine when available  \n",
    "7. social_vulnerability_index = the extent to which a community is socially vulnerable to disaster. The factors considered in developing the SVI include economic data as well as data regarding education, family characteristics, housing language ability, ethnicity, and vehicle access.   \n",
    "8. svi_category = low, moderate, high, very high vulnerability   \n",
    "9. ability_to_handle_a_covid = ability to handle Covid-19 outbreak in percent  \n",
    "10. cvac_category = level of concern for vaccine rollout   \n",
    "11. percent_adults_fully = percent of adults fully vaccinated  \n",
    "12. percent_hispanic = percent of hispanic adults fully vaccinated   \n",
    "13. percent_non_hispanic_american = percent of non hispanic american adults fully vaccinated    \n",
    "14. percent_non_hispanic_asian = percent of non hispanic asian adults fully vaccinated  \n",
    "15. percent_non_hispanic_black = percent of non hispanic black adults fully vaccinated  \n",
    "16. percent_non_hispanic_native = percent of non hispanic native adults fully vaccinated  \n",
    "17. percent_non_hispanic_white = percent of non hispanic white adults fully vaccinated  \n",
    "18. geographical point = where the county lies  \n",
    "19. state_code = code of the state  \n",
    "20. county_boundary = coordinates of boundary  \n",
    "21. state_boundary = coordinate of state boundary"
   ]
  },
  {
   "cell_type": "markdown",
   "id": "4efbf362",
   "metadata": {},
   "source": [
    "<a id=\"data-munging\"></a>\n",
    "### Data Munging and Cleaning"
   ]
  },
  {
   "cell_type": "markdown",
   "id": "c149b170",
   "metadata": {},
   "source": [
    "#### Hesitancy of vaccines by political parties in the US"
   ]
  },
  {
   "cell_type": "code",
   "execution_count": null,
   "id": "188dfd3d",
   "metadata": {},
   "outputs": [],
   "source": [
    "# Filter hesitancy data\n",
    "hesitancy_by_state_df = hesitancy_df.filter(\n",
    "    [\n",
    "        'state', \n",
    "        'estimated_hesitant',\n",
    "        'estimated_hesitant_or_unsure',\n",
    "        'estimated_strongly_hesitant'\n",
    "    ]\n",
    ")\n",
    "\n",
    "# Set values to numeric\n",
    "hesitancy_by_state_df['estimated_hesitant'] = hesitancy_by_state_df['estimated_hesitant'].astype(float)\n",
    "hesitancy_by_state_df['estimated_hesitant_or_unsure'] = hesitancy_by_state_df['estimated_hesitant_or_unsure'].astype(float)\n",
    "hesitancy_by_state_df['estimated_strongly_hesitant'] = hesitancy_by_state_df['estimated_strongly_hesitant'].astype(float)\n",
    "\n",
    "# Calculate non-hesitant proportion\n",
    "hesitancy_by_state_df['estimated_not_hesitant'] = 1 - (\n",
    "    hesitancy_by_state_df['estimated_hesitant'] + hesitancy_by_state_df['estimated_hesitant_or_unsure'] + hesitancy_by_state_df['estimated_strongly_hesitant']\n",
    ")\n",
    "\n",
    "# Gropu by state\n",
    "hesitancy_by_state_df = hesitancy_by_state_df.groupby('state').mean()\n",
    "\n",
    "# Attatch state Governer's party affiliaition\n",
    "state_parties_df['State'] = state_parties_df['Location'].apply(\n",
    "    lambda x: x.upper() # Uppercase all state names\n",
    ")\n",
    "state_parties_df.drop(columns=['Location'], inplace=True) \n",
    "state_parties_df.set_index('State', inplace=True)\n",
    "\n",
    "hesitancy_by_state_df = hesitancy_by_state_df.merge(state_parties_df, left_index=True, right_index=True)\n",
    "hesitancy_by_state_df.head()\n"
   ]
  },
  {
   "cell_type": "markdown",
   "id": "68e051b7",
   "metadata": {},
   "source": [
    "#### Proportions of COVID-19 deaths vs proportion of state population vaccinated"
   ]
  },
  {
   "cell_type": "code",
   "execution_count": null,
   "id": "2db1a851",
   "metadata": {},
   "outputs": [],
   "source": [
    "# Filter for states with at least 100 completed vaccinations\n",
    "state_vaccinations_df = state_vaccinations_df[\n",
    "    state_vaccinations_df['series_complete_yes'] >= 100\n",
    "]\n",
    "\n",
    "# Join with population data for each state\n",
    "state_populations_df = state_populations_df[\n",
    "    state_populations_df['STNAME'] == state_populations_df['CTYNAME']\n",
    "]\n",
    "\n",
    "# Filter columns \n",
    "state_populations_df['State Name'] = state_populations_df['STNAME'].str.upper()\n",
    "state_populations_df = state_populations_df.filter(\n",
    "    ['State Name', 'POPESTIMATE2020']\n",
    ")\n",
    "\n",
    "# Sum county populations\n",
    "state_populations_df = state_populations_df.groupby('State Name').sum()   \n",
    "\n",
    "# Merge vaccination counts with population data on state abbreviations\n",
    "state_populations_df = state_populations_df.join(\n",
    "    state_abbreviations_df.set_index('State Name'), \n",
    "    on='State Name'\n",
    ")\n",
    "\n",
    "# Join\n",
    "state_vaccinations_df = state_vaccinations_df.join(\n",
    "    state_populations_df.reset_index().set_index('State Abbreviation'),\n",
    ").dropna(how='any')\n",
    "\n",
    "# # Calculate vaccinated proportion\n",
    "state_vaccinations_df['Vaccine Proportion'] = state_vaccinations_df['series_complete_yes'] / state_vaccinations_df['POPESTIMATE2020']\n",
    "\n",
    "# Calculate proportion of COVID-19 deaths\n",
    "county_deaths_df = county_deaths_df.iloc[::3]\n",
    "\n",
    "state_deaths_df = county_deaths_df.groupby('State').sum()\n",
    "state_deaths_df = state_deaths_df.filter(['Total deaths', 'COVID-19 Deaths'])\n",
    "\n",
    "state_deaths_df['COVID-19 Death Proportion'] = state_deaths_df['COVID-19 Deaths'] / state_deaths_df['Total deaths']\n",
    "state_deaths_df.index.rename('State Abbreviation', inplace=True)\n",
    "\n",
    "state_vaccinations_df = state_vaccinations_df.join(\n",
    "    state_deaths_df\n",
    ")\n",
    "\n",
    "state_vaccinations_df = state_vaccinations_df.filter(\n",
    "    [\n",
    "        'State Name', \n",
    "        'series_complete_yes', \n",
    "        'POPESTIMATE2020', \n",
    "        'Vaccine Proportion', \n",
    "        'COVID-19 Deaths', \n",
    "        'Total deaths',\n",
    "        'COVID-19 Death Proportion'\n",
    "    ]\n",
    ")\n",
    "state_vaccinations_df.head()"
   ]
  },
  {
   "cell_type": "markdown",
   "id": "fd357598",
   "metadata": {},
   "source": [
    "#### Vaccine Hesitancy and Vaccination Rate "
   ]
  },
  {
   "cell_type": "code",
   "execution_count": null,
   "id": "aec5bf52",
   "metadata": {},
   "outputs": [],
   "source": [
    "import warnings\n",
    "warnings.filterwarnings(\"ignore\")\n",
    "\n",
    "#Create new dataframe for vaccine hesitancy in states\n",
    "hesitancy_vaccination = hesitancy_df[\n",
    "    [\n",
    "        \"fips_code\",\n",
    "        \"county_name\",\n",
    "        \"state\",\n",
    "        \"ability_to_handle_a_covid\",\n",
    "        \"social_vulnerability_index\",\n",
    "        \"cvac_category\",\n",
    "        \"estimated_hesitant\",\n",
    "        \"estimated_hesitant_or_unsure\",\n",
    "        \"estimated_strongly_hesitant\",\n",
    "        \"percent_adults_fully\",\n",
    "    ]\n",
    "]\n",
    "#Change to numeric\n",
    "hesitancy_vaccination[\"ability_to_handle_a_covid\"] = hesitancy_vaccination[\"ability_to_handle_a_covid\"].astype(float)\n",
    "hesitancy_vaccination[\"social_vulnerability_index\"] = hesitancy_vaccination[\"social_vulnerability_index\"].astype(float)\n",
    "hesitancy_vaccination[\"estimated_hesitant\"] = hesitancy_vaccination[\"estimated_hesitant\"].astype(float)\n",
    "hesitancy_vaccination[\"estimated_hesitant_or_unsure\"] = hesitancy_vaccination[\"estimated_hesitant_or_unsure\"].astype(float)\n",
    "hesitancy_vaccination[\"estimated_strongly_hesitant\"] = hesitancy_vaccination[\"estimated_strongly_hesitant\"].astype(float)\n",
    "hesitancy_vaccination[\"percent_adults_fully\"] = hesitancy_vaccination[\"percent_adults_fully\"].astype(float)\n",
    "hesitancy_vaccination_state_df = hesitancy_vaccination.groupby('state').mean()\n",
    "hesitancy_vaccination_state_df = hesitancy_vaccination_state_df.reset_index()\n",
    "hesitancy_vaccination_state_df['not_hesitant'] = 1 - (hesitancy_vaccination_state_df[\"estimated_strongly_hesitant\"] + hesitancy_vaccination_state_df[\"estimated_hesitant_or_unsure\"] + hesitancy_vaccination_state_df[\"estimated_hesitant\"])\n",
    "hesitancy_vaccination_state_df['total_hesitancy'] = hesitancy_vaccination_state_df[\"estimated_strongly_hesitant\"] + hesitancy_vaccination_state_df[\"estimated_hesitant_or_unsure\"] + hesitancy_vaccination_state_df[\"estimated_hesitant\"]\n"
   ]
  },
  {
   "cell_type": "markdown",
   "id": "130e4922",
   "metadata": {},
   "source": [
    "<a id=\"data-visualization\"></a>\n",
    "### Visualizing the Data\n",
    "\n",
    "We will explore numerous visualizations such as scatterplots, boxplots, and density graphs to better understand the data. "
   ]
  },
  {
   "cell_type": "markdown",
   "id": "f3f073c8",
   "metadata": {},
   "source": [
    "#### Boxplot of hesitancy estimates by political party"
   ]
  },
  {
   "cell_type": "code",
   "execution_count": null,
   "id": "a617c930",
   "metadata": {},
   "outputs": [],
   "source": [
    "# Boxplot of hesitancy estimates by political party \n",
    "hesitancy_by_state_df.boxplot(\n",
    "    column=[\n",
    "        'estimated_hesitant', \n",
    "        'estimated_hesitant_or_unsure', \n",
    "        'estimated_strongly_hesitant',\n",
    "        'estimated_not_hesitant'\n",
    "    ], \n",
    "    by='Governor Political Affiliation',\n",
    "    figsize=(10, 6)\n",
    ")"
   ]
  },
  {
   "cell_type": "markdown",
   "id": "ab9a3c72",
   "metadata": {},
   "source": [
    "These boxplots show that Republicans are much more likely to be hesitant towards the COVID-19 vaccine than Democrats.\n",
    "In other notebooks we look into death proportions by state and political party to see if there is a difference in proportion of deaths due to COVID-19. It would make sense to see a higher proportion of COVID-19 deaths in Republican governed states due to the hesitancy and lack of vaccinations."
   ]
  },
  {
   "cell_type": "markdown",
   "id": "4934a076",
   "metadata": {},
   "source": [
    "#### Boxplot of COVID-19 Death proportions vs Vaccine proportions by state"
   ]
  },
  {
   "cell_type": "code",
   "execution_count": null,
   "id": "fcc037d7",
   "metadata": {},
   "outputs": [],
   "source": [
    "# Plot boxplot\n",
    "state_vaccinations_df.plot(\n",
    "    x='Vaccine Proportion',\n",
    "    y='COVID-19 Death Proportion',\n",
    "    kind='scatter',\n",
    "    title='COVID-19 Death Proportions by Vaccine Proportion',\n",
    "    figsize=(10, 6)\n",
    ")\n",
    "\n",
    "# Annotate points\n",
    "for idx, row in state_vaccinations_df.iterrows(): \n",
    "    plt.text(row['Vaccine Proportion'], row['COVID-19 Death Proportion'], idx)"
   ]
  },
  {
   "cell_type": "markdown",
   "id": "53e68b32",
   "metadata": {},
   "source": [
    "#### Scatterplot of Vaccine Hesitancy and Vaccine Rate by States"
   ]
  },
  {
   "cell_type": "code",
   "execution_count": null,
   "id": "3af00930",
   "metadata": {
    "scrolled": true
   },
   "outputs": [],
   "source": [
    "import plotnine as p9\n",
    "    \n",
    "gg = p9.ggplot(hesitancy_vaccination_state_df)\n",
    "gg += p9.aes(\n",
    "    x=\"percent_adults_fully\", y=\"total_hesitancy\", color=\"state\"\n",
    ")  # add color mapping by State\n",
    "gg += p9.geom_point()\n",
    "gg"
   ]
  },
  {
   "cell_type": "code",
   "execution_count": null,
   "id": "3ae514bb",
   "metadata": {},
   "outputs": [],
   "source": [
    "# Compute correlation coefficient\n",
    "death_vax_correlation = state_vaccinations_df['Vaccine Proportion'].corr(state_vaccinations_df['COVID-19 Death Proportion'])\n",
    "print(f'Correlation coefficient: {death_vax_correlation}')"
   ]
  },
  {
   "cell_type": "markdown",
   "id": "fa03f6fb",
   "metadata": {},
   "source": [
    "This scatter plot and negative correlation coeffifient indicates that the proportion of COVID-19 deaths decreases as the proportion of people vaccinated increases. This is a good indication on the benefits of vaccination.\n",
    "\n",
    "Hawaii was the only state ommited from the analysis due to the lack of vaccination data. "
   ]
  },
  {
   "cell_type": "code",
   "execution_count": null,
   "id": "65d78dc5",
   "metadata": {},
   "outputs": [],
   "source": [
    "# Compute correlation coefficient between Vaccine Hesitancy and Vaccination Rate \n",
    "hesitancy_vax_correlation = hesitancy_vaccination_state_df['percent_adults_fully'].corr(hesitancy_vaccination_state_df['total_hesitancy'])\n",
    "print(f'Correlation coefficient: {hesitancy_vax_correlation}')"
   ]
  },
  {
   "cell_type": "markdown",
   "id": "cacddbcf",
   "metadata": {},
   "source": [
    "This scatter plot and negative correlation coeffifient indicates as vaccine hesitancy increases, the percentage of adults fully vaccinated decreases. However, in the hesitancy and actually vaccination rate notebook, we will dive deeper into this question to find whether other variables influence vaccine hesitancy and vaccination rate."
   ]
  },
  {
   "cell_type": "markdown",
   "id": "56657fe9",
   "metadata": {},
   "source": [
    "### Data Analysis"
   ]
  },
  {
   "cell_type": "markdown",
   "id": "3bc2e034",
   "metadata": {},
   "source": [
    "#### Vaccine Hesitancy based on Governor's Political Affliation"
   ]
  },
  {
   "cell_type": "code",
   "execution_count": null,
   "id": "1c88069a",
   "metadata": {},
   "outputs": [],
   "source": [
    "# Extracting political party data from our public github\n",
    "url = \"https://raw.githubusercontent.com/gspiga/STAT141Bfinal/main/data/raw_data.csv\"\n",
    "poli_df = pd.read_csv(url)\n",
    "poli_df.head()"
   ]
  },
  {
   "cell_type": "markdown",
   "id": "3f729197",
   "metadata": {},
   "source": [
    "<a id='conclusions'></a>\n",
    "### Conclusions "
   ]
  }
 ],
 "metadata": {
  "kernelspec": {
   "display_name": "Python 3",
   "language": "python",
   "name": "python3"
  },
  "language_info": {
   "codemirror_mode": {
    "name": "ipython",
    "version": 3
   },
   "file_extension": ".py",
   "mimetype": "text/x-python",
   "name": "python",
   "nbconvert_exporter": "python",
   "pygments_lexer": "ipython3",
   "version": "3.8.8"
  }
 },
 "nbformat": 4,
 "nbformat_minor": 5
}
