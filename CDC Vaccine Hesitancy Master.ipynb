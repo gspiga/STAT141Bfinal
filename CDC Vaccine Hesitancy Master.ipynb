{
 "cells": [
  {
   "cell_type": "markdown",
   "id": "b913ec9c",
   "metadata": {},
   "source": [
    "# 141B Final Project: Vaccine Hesitancy in the United States\n",
    "## by Antonio Pelayo, Gianni Spiga, and Sharon Vien\n",
    "\n",
    "In this notebook, we explore data provided by the CDC in regards to the hesistancy of adults of different races in the United States in hopes to find any patterns or trends that might help better prepare for more efficient vaccine rollout on a nationwide and statewide scale in the future."
   ]
  },
  {
   "cell_type": "markdown",
   "id": "e24e21e7",
   "metadata": {},
   "source": [
    "### Extracting the Data"
   ]
  },
  {
   "cell_type": "markdown",
   "id": "8e13de58",
   "metadata": {},
   "source": [
    "### Addressing and Understanding our Variables"
   ]
  },
  {
   "cell_type": "code",
   "execution_count": null,
   "id": "b9894598",
   "metadata": {},
   "outputs": [],
   "source": []
  },
  {
   "cell_type": "markdown",
   "id": "130e4922",
   "metadata": {},
   "source": [
    "### Visualizing the Data"
   ]
  }
 ],
 "metadata": {
  "kernelspec": {
   "display_name": "Python 3",
   "language": "python",
   "name": "python3"
  },
  "language_info": {
   "codemirror_mode": {
    "name": "ipython",
    "version": 3
   },
   "file_extension": ".py",
   "mimetype": "text/x-python",
   "name": "python",
   "nbconvert_exporter": "python",
   "pygments_lexer": "ipython3",
   "version": "3.8.8"
  }
 },
 "nbformat": 4,
 "nbformat_minor": 5
}
