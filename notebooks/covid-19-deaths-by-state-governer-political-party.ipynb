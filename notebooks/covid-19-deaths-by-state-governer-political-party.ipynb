{
 "cells": [
  {
   "cell_type": "markdown",
   "metadata": {},
   "source": [
    "**Question:**\n",
    "Is there a significant difference between the number of deaths in states governed under different parties? (\"Democrat\" vs. \"Republican\")\n",
    "\n",
    "We explore this by a hypothesis test which compares the proportion of COVID-19 deaths in states governed by Democrat and Republican parties, with a significance level of $\\alpha = 0.05$.\n",
    "\n",
    "Let $\\pi_D$ and $\\pi_R$ be the proportion of deaths in Decmocratic and Republican governed states respectively.\n",
    "\n",
    "$$\n",
    "H_0: \\pi_D - \\pi_R = 0 \\\\\n",
    "H_a: \\pi_D - \\pi_R \\neq 0\n",
    "$$\n",
    "\n",
    "Our T test statistic is:\n",
    "$$\n",
    "T = \\frac{\\mu_D - \\mu_R}{SE}\n",
    "$$\n",
    "\n",
    "with standard error:\n",
    "$$\n",
    "SE = \\sqrt{\\frac{s_D^2}{n_D} + \\frac{s_R^2}{n_R}}\n",
    "$$\n",
    "\n",
    "We assume every death is random and independent.\n",
    "\n",
    "To explore this test we combine the following datasets:\n",
    "\n",
    "**Data:**\n",
    "\n",
    "`deaths-by-county-and-race.csv`\n",
    "\n",
    "`state-abbreviations.csv`\n",
    "\n",
    "`state-political-parties.csv`\n"
   ]
  },
  {
   "cell_type": "code",
   "execution_count": 1,
   "metadata": {},
   "outputs": [],
   "source": [
    "# Load libraries and data\n",
    "import numpy as np\n",
    "import pandas as pd\n",
    "\n",
    "county_deaths_df = pd.read_csv('../data/cdc-deaths-by-county-and-race.csv')\n",
    "state_parties_df = pd.read_csv('../data/state-political-parties.csv')\n",
    "state_abbreviations_df = pd.read_csv('../data/state-abbreviations.csv')"
   ]
  },
  {
   "cell_type": "code",
   "execution_count": 2,
   "metadata": {},
   "outputs": [
    {
     "data": {
      "text/html": [
       "<div>\n",
       "<style scoped>\n",
       "    .dataframe tbody tr th:only-of-type {\n",
       "        vertical-align: middle;\n",
       "    }\n",
       "\n",
       "    .dataframe tbody tr th {\n",
       "        vertical-align: top;\n",
       "    }\n",
       "\n",
       "    .dataframe thead th {\n",
       "        text-align: right;\n",
       "    }\n",
       "</style>\n",
       "<table border=\"1\" class=\"dataframe\">\n",
       "  <thead>\n",
       "    <tr style=\"text-align: right;\">\n",
       "      <th></th>\n",
       "      <th>Total deaths</th>\n",
       "      <th>COVID-19 Deaths</th>\n",
       "      <th>COVID-19 Death Proportion</th>\n",
       "    </tr>\n",
       "    <tr>\n",
       "      <th>State Abbreviation</th>\n",
       "      <th></th>\n",
       "      <th></th>\n",
       "      <th></th>\n",
       "    </tr>\n",
       "  </thead>\n",
       "  <tbody>\n",
       "    <tr>\n",
       "      <th>AK</th>\n",
       "      <td>7025</td>\n",
       "      <td>764</td>\n",
       "      <td>0.108754</td>\n",
       "    </tr>\n",
       "    <tr>\n",
       "      <th>AL</th>\n",
       "      <td>104758</td>\n",
       "      <td>14461</td>\n",
       "      <td>0.138042</td>\n",
       "    </tr>\n",
       "    <tr>\n",
       "      <th>AR</th>\n",
       "      <td>51752</td>\n",
       "      <td>7338</td>\n",
       "      <td>0.141792</td>\n",
       "    </tr>\n",
       "    <tr>\n",
       "      <th>AZ</th>\n",
       "      <td>145717</td>\n",
       "      <td>20202</td>\n",
       "      <td>0.138639</td>\n",
       "    </tr>\n",
       "    <tr>\n",
       "      <th>CA</th>\n",
       "      <td>600256</td>\n",
       "      <td>77073</td>\n",
       "      <td>0.128400</td>\n",
       "    </tr>\n",
       "  </tbody>\n",
       "</table>\n",
       "</div>"
      ],
      "text/plain": [
       "                    Total deaths  COVID-19 Deaths  COVID-19 Death Proportion\n",
       "State Abbreviation                                                          \n",
       "AK                          7025              764                   0.108754\n",
       "AL                        104758            14461                   0.138042\n",
       "AR                         51752             7338                   0.141792\n",
       "AZ                        145717            20202                   0.138639\n",
       "CA                        600256            77073                   0.128400"
      ]
     },
     "execution_count": 2,
     "metadata": {},
     "output_type": "execute_result"
    }
   ],
   "source": [
    "# Aggregate deaths by state\n",
    "# One note in the county_deaths_df is each county has 3 rows of the same count\n",
    "# We will keep every third row\n",
    "county_deaths_df = county_deaths_df.iloc[::3]\n",
    "\n",
    "state_deaths_df = county_deaths_df.groupby('State').sum()\n",
    "state_deaths_df = state_deaths_df.filter(['Total deaths', 'COVID-19 Deaths'])\n",
    "\n",
    "# Compute proportion of deaths by COVID-19 \n",
    "state_deaths_df['COVID-19 Death Proportion'] = state_deaths_df['COVID-19 Deaths'] / state_deaths_df['Total deaths']\n",
    "\n",
    "# Set index to state name for merging\n",
    "state_deaths_df.index.rename('State Abbreviation', inplace=True)\n",
    "state_deaths_df.head()"
   ]
  },
  {
   "cell_type": "code",
   "execution_count": 3,
   "metadata": {},
   "outputs": [
    {
     "data": {
      "text/html": [
       "<div>\n",
       "<style scoped>\n",
       "    .dataframe tbody tr th:only-of-type {\n",
       "        vertical-align: middle;\n",
       "    }\n",
       "\n",
       "    .dataframe tbody tr th {\n",
       "        vertical-align: top;\n",
       "    }\n",
       "\n",
       "    .dataframe thead th {\n",
       "        text-align: right;\n",
       "    }\n",
       "</style>\n",
       "<table border=\"1\" class=\"dataframe\">\n",
       "  <thead>\n",
       "    <tr style=\"text-align: right;\">\n",
       "      <th></th>\n",
       "      <th>Governor Political Affiliation</th>\n",
       "      <th>State Name</th>\n",
       "    </tr>\n",
       "  </thead>\n",
       "  <tbody>\n",
       "    <tr>\n",
       "      <th>0</th>\n",
       "      <td>Republican</td>\n",
       "      <td>ALABAMA</td>\n",
       "    </tr>\n",
       "    <tr>\n",
       "      <th>1</th>\n",
       "      <td>Republican</td>\n",
       "      <td>ALASKA</td>\n",
       "    </tr>\n",
       "    <tr>\n",
       "      <th>2</th>\n",
       "      <td>Republican</td>\n",
       "      <td>ARIZONA</td>\n",
       "    </tr>\n",
       "    <tr>\n",
       "      <th>3</th>\n",
       "      <td>Republican</td>\n",
       "      <td>ARKANSAS</td>\n",
       "    </tr>\n",
       "    <tr>\n",
       "      <th>4</th>\n",
       "      <td>Democrat</td>\n",
       "      <td>CALIFORNIA</td>\n",
       "    </tr>\n",
       "  </tbody>\n",
       "</table>\n",
       "</div>"
      ],
      "text/plain": [
       "  Governor Political Affiliation  State Name\n",
       "0                     Republican     ALABAMA\n",
       "1                     Republican      ALASKA\n",
       "2                     Republican     ARIZONA\n",
       "3                     Republican    ARKANSAS\n",
       "4                       Democrat  CALIFORNIA"
      ]
     },
     "execution_count": 3,
     "metadata": {},
     "output_type": "execute_result"
    }
   ],
   "source": [
    "# Attatch state Governer's party\n",
    "state_parties_df['State Name'] = state_parties_df['Location'].apply(\n",
    "    lambda x: x.upper() # Uppercase all state names\n",
    ")\n",
    "state_parties_df.drop(columns=['Location'], inplace=True) \n",
    "state_parties_df.head()"
   ]
  },
  {
   "cell_type": "code",
   "execution_count": 4,
   "metadata": {},
   "outputs": [
    {
     "data": {
      "text/html": [
       "<div>\n",
       "<style scoped>\n",
       "    .dataframe tbody tr th:only-of-type {\n",
       "        vertical-align: middle;\n",
       "    }\n",
       "\n",
       "    .dataframe tbody tr th {\n",
       "        vertical-align: top;\n",
       "    }\n",
       "\n",
       "    .dataframe thead th {\n",
       "        text-align: right;\n",
       "    }\n",
       "</style>\n",
       "<table border=\"1\" class=\"dataframe\">\n",
       "  <thead>\n",
       "    <tr style=\"text-align: right;\">\n",
       "      <th></th>\n",
       "      <th>Governor Political Affiliation</th>\n",
       "      <th>State Name</th>\n",
       "    </tr>\n",
       "    <tr>\n",
       "      <th>State Abbreviation</th>\n",
       "      <th></th>\n",
       "      <th></th>\n",
       "    </tr>\n",
       "  </thead>\n",
       "  <tbody>\n",
       "    <tr>\n",
       "      <th>AL</th>\n",
       "      <td>Republican</td>\n",
       "      <td>ALABAMA</td>\n",
       "    </tr>\n",
       "    <tr>\n",
       "      <th>AK</th>\n",
       "      <td>Republican</td>\n",
       "      <td>ALASKA</td>\n",
       "    </tr>\n",
       "    <tr>\n",
       "      <th>AZ</th>\n",
       "      <td>Republican</td>\n",
       "      <td>ARIZONA</td>\n",
       "    </tr>\n",
       "    <tr>\n",
       "      <th>AR</th>\n",
       "      <td>Republican</td>\n",
       "      <td>ARKANSAS</td>\n",
       "    </tr>\n",
       "    <tr>\n",
       "      <th>CA</th>\n",
       "      <td>Democrat</td>\n",
       "      <td>CALIFORNIA</td>\n",
       "    </tr>\n",
       "  </tbody>\n",
       "</table>\n",
       "</div>"
      ],
      "text/plain": [
       "                   Governor Political Affiliation  State Name\n",
       "State Abbreviation                                           \n",
       "AL                                     Republican     ALABAMA\n",
       "AK                                     Republican      ALASKA\n",
       "AZ                                     Republican     ARIZONA\n",
       "AR                                     Republican    ARKANSAS\n",
       "CA                                       Democrat  CALIFORNIA"
      ]
     },
     "execution_count": 4,
     "metadata": {},
     "output_type": "execute_result"
    }
   ],
   "source": [
    "# Add state abbreviations to parties dataframe and set as index\n",
    "state_parties_df = state_parties_df.merge(state_abbreviations_df, on='State Name')\n",
    "state_parties_df.set_index('State Abbreviation', inplace=True)\n",
    "state_parties_df.head()"
   ]
  },
  {
   "cell_type": "code",
   "execution_count": 5,
   "metadata": {},
   "outputs": [
    {
     "data": {
      "text/html": [
       "<div>\n",
       "<style scoped>\n",
       "    .dataframe tbody tr th:only-of-type {\n",
       "        vertical-align: middle;\n",
       "    }\n",
       "\n",
       "    .dataframe tbody tr th {\n",
       "        vertical-align: top;\n",
       "    }\n",
       "\n",
       "    .dataframe thead th {\n",
       "        text-align: right;\n",
       "    }\n",
       "</style>\n",
       "<table border=\"1\" class=\"dataframe\">\n",
       "  <thead>\n",
       "    <tr style=\"text-align: right;\">\n",
       "      <th></th>\n",
       "      <th>Total deaths</th>\n",
       "      <th>COVID-19 Deaths</th>\n",
       "      <th>COVID-19 Death Proportion</th>\n",
       "      <th>Governor Political Affiliation</th>\n",
       "      <th>State Name</th>\n",
       "    </tr>\n",
       "    <tr>\n",
       "      <th>State Abbreviation</th>\n",
       "      <th></th>\n",
       "      <th></th>\n",
       "      <th></th>\n",
       "      <th></th>\n",
       "      <th></th>\n",
       "    </tr>\n",
       "  </thead>\n",
       "  <tbody>\n",
       "    <tr>\n",
       "      <th>AK</th>\n",
       "      <td>7025</td>\n",
       "      <td>764</td>\n",
       "      <td>0.108754</td>\n",
       "      <td>Republican</td>\n",
       "      <td>ALASKA</td>\n",
       "    </tr>\n",
       "    <tr>\n",
       "      <th>AL</th>\n",
       "      <td>104758</td>\n",
       "      <td>14461</td>\n",
       "      <td>0.138042</td>\n",
       "      <td>Republican</td>\n",
       "      <td>ALABAMA</td>\n",
       "    </tr>\n",
       "    <tr>\n",
       "      <th>AR</th>\n",
       "      <td>51752</td>\n",
       "      <td>7338</td>\n",
       "      <td>0.141792</td>\n",
       "      <td>Republican</td>\n",
       "      <td>ARKANSAS</td>\n",
       "    </tr>\n",
       "    <tr>\n",
       "      <th>AZ</th>\n",
       "      <td>145717</td>\n",
       "      <td>20202</td>\n",
       "      <td>0.138639</td>\n",
       "      <td>Republican</td>\n",
       "      <td>ARIZONA</td>\n",
       "    </tr>\n",
       "    <tr>\n",
       "      <th>CA</th>\n",
       "      <td>600256</td>\n",
       "      <td>77073</td>\n",
       "      <td>0.128400</td>\n",
       "      <td>Democrat</td>\n",
       "      <td>CALIFORNIA</td>\n",
       "    </tr>\n",
       "  </tbody>\n",
       "</table>\n",
       "</div>"
      ],
      "text/plain": [
       "                    Total deaths  COVID-19 Deaths  COVID-19 Death Proportion  \\\n",
       "State Abbreviation                                                             \n",
       "AK                          7025              764                   0.108754   \n",
       "AL                        104758            14461                   0.138042   \n",
       "AR                         51752             7338                   0.141792   \n",
       "AZ                        145717            20202                   0.138639   \n",
       "CA                        600256            77073                   0.128400   \n",
       "\n",
       "                   Governor Political Affiliation  State Name  \n",
       "State Abbreviation                                             \n",
       "AK                                     Republican      ALASKA  \n",
       "AL                                     Republican     ALABAMA  \n",
       "AR                                     Republican    ARKANSAS  \n",
       "AZ                                     Republican     ARIZONA  \n",
       "CA                                       Democrat  CALIFORNIA  "
      ]
     },
     "execution_count": 5,
     "metadata": {},
     "output_type": "execute_result"
    }
   ],
   "source": [
    "# Merge state deaths and parties dataframes\n",
    "state_deaths_df = state_deaths_df.merge(state_parties_df, left_index=True, right_index=True)\n",
    "state_deaths_df.head()"
   ]
  },
  {
   "cell_type": "code",
   "execution_count": 6,
   "metadata": {},
   "outputs": [
    {
     "name": "stdout",
     "output_type": "stream",
     "text": [
      "The US proportion of COVID-19 deaths is 12.947%\n"
     ]
    }
   ],
   "source": [
    "# Calculate the proportion of COVID-19 deaths for the whole US\n",
    "US_COVID_19_deaths_proportion = state_deaths_df['COVID-19 Deaths'].sum() / state_deaths_df['Total deaths'].sum()\n",
    "print(f\"The US proportion of COVID-19 deaths is {US_COVID_19_deaths_proportion:.3%}\")"
   ]
  },
  {
   "cell_type": "code",
   "execution_count": 7,
   "metadata": {},
   "outputs": [
    {
     "data": {
      "text/plain": [
       "Governor Political Affiliation\n",
       "Democrat      0.030144\n",
       "Republican    0.025559\n",
       "Name: COVID-19 Death Proportion, dtype: float64"
      ]
     },
     "execution_count": 7,
     "metadata": {},
     "output_type": "execute_result"
    }
   ],
   "source": [
    "# Calculate state standard deviations of COVID-19 deaths by political party\n",
    "party_COVID_19_deaths_sd = state_deaths_df.groupby('Governor Political Affiliation')['COVID-19 Death Proportion'].std()\n",
    "party_COVID_19_deaths_sd.head()"
   ]
  },
  {
   "cell_type": "code",
   "execution_count": 8,
   "metadata": {},
   "outputs": [
    {
     "data": {
      "text/plain": [
       "Governor Political Affiliation\n",
       "Democrat      0.125156\n",
       "Republican    0.134201\n",
       "dtype: float64"
      ]
     },
     "execution_count": 8,
     "metadata": {},
     "output_type": "execute_result"
    }
   ],
   "source": [
    "# Calculate the proportion of COVID-19 deaths for each party\n",
    "party_COVID_19_deaths_proportion = state_deaths_df.groupby('Governor Political Affiliation').sum()['COVID-19 Deaths'] / state_deaths_df.groupby('Governor Political Affiliation').sum()['Total deaths']\n",
    "party_COVID_19_deaths_proportion.head()"
   ]
  },
  {
   "cell_type": "code",
   "execution_count": 9,
   "metadata": {},
   "outputs": [
    {
     "name": "stdout",
     "output_type": "stream",
     "text": [
      "\n",
      "The statistics for this test are:\n",
      "Democrat deaths: 365035\n",
      "Republican deaths: 356697\n",
      "Proportion difference: -0.009\n",
      "SE: 0.000066\n",
      "The t statistic is -137.606\n",
      "\n"
     ]
    }
   ],
   "source": [
    "# Calculate hypothesis test statistic\n",
    "proportion_difference = party_COVID_19_deaths_proportion['Democrat'] - party_COVID_19_deaths_proportion['Republican']\n",
    "democrat_deaths = state_deaths_df.groupby('Governor Political Affiliation').sum()['COVID-19 Deaths']['Democrat']\n",
    "republican_deaths = state_deaths_df.groupby('Governor Political Affiliation').sum()['COVID-19 Deaths']['Republican']\n",
    "SE = np.sqrt(\n",
    "    (\n",
    "        party_COVID_19_deaths_sd['Democrat']**2 / democrat_deaths\n",
    "    ) + (\n",
    "        party_COVID_19_deaths_sd['Republican']**2 / republican_deaths\n",
    "    )\n",
    ")\n",
    "t = proportion_difference / SE\n",
    "print(f\"\"\"\n",
    "The statistics for this test are:\n",
    "Democrat deaths: {democrat_deaths}\n",
    "Republican deaths: {republican_deaths}\n",
    "Proportion difference: {proportion_difference:.3f}\n",
    "SE: {SE:7f}\n",
    "The t statistic is {t:.3f}\n",
    "\"\"\")"
   ]
  },
  {
   "cell_type": "markdown",
   "metadata": {},
   "source": [
    "## Concluding remarks\n",
    "We see that the overall USA COVID-19 death proportion is 12.95%, there is a slight deviance from this death proportion between states governed by Democrat and Republican parties. \n",
    "\n",
    "The p-value for a t-statistic of -137.6 is less than 0.05, so we reject the null hypothesis and assume $H_a$ is true.\n",
    "\n",
    "We find that though the results seem marginally close, statistically there is a difference over the US population. \n",
    "\n",
    "Some points to take away are that there are many other factors that could explain the difference in COVID-19 death proportions such as vaccination mandates, social vulnerability, and other factors that are explored in other notebooks."
   ]
  }
 ],
 "metadata": {
  "interpreter": {
   "hash": "7ae0514691a5b49222545b101e2df06a3723addc9b601c1e00239e4c76c308f2"
  },
  "kernelspec": {
   "display_name": "Python 3",
   "language": "python",
   "name": "python3"
  },
  "language_info": {
   "codemirror_mode": {
    "name": "ipython",
    "version": 3
   },
   "file_extension": ".py",
   "mimetype": "text/x-python",
   "name": "python",
   "nbconvert_exporter": "python",
   "pygments_lexer": "ipython3",
   "version": "3.8.8"
  }
 },
 "nbformat": 4,
 "nbformat_minor": 2
}
