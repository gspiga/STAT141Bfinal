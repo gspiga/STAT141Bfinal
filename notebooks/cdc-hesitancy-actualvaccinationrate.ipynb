{
 "cells": [
  {
   "cell_type": "markdown",
   "id": "1b782fa2",
   "metadata": {},
   "source": [
    "### Vaccine Hesitancy and Vaccination Rate "
   ]
  },
  {
   "cell_type": "markdown",
   "id": "243f33e5",
   "metadata": {},
   "source": [
    "**Question**: Is there a relationship between vaccination rate and hesitancy?\n",
    "\n",
    "For this question, I will be utilizing data munging and data visualization techniques to explore this relationship. "
   ]
  },
  {
   "cell_type": "code",
   "execution_count": 1,
   "id": "e4622c1d",
   "metadata": {},
   "outputs": [
    {
     "data": {
      "application/javascript": [
       "\n",
       "            setTimeout(function() {\n",
       "                var nbb_cell_id = 1;\n",
       "                var nbb_unformatted_code = \"%load_ext nb_black\";\n",
       "                var nbb_formatted_code = \"%load_ext nb_black\";\n",
       "                var nbb_cells = Jupyter.notebook.get_cells();\n",
       "                for (var i = 0; i < nbb_cells.length; ++i) {\n",
       "                    if (nbb_cells[i].input_prompt_number == nbb_cell_id) {\n",
       "                        if (nbb_cells[i].get_text() == nbb_unformatted_code) {\n",
       "                             nbb_cells[i].set_text(nbb_formatted_code);\n",
       "                        }\n",
       "                        break;\n",
       "                    }\n",
       "                }\n",
       "            }, 500);\n",
       "            "
      ],
      "text/plain": [
       "<IPython.core.display.Javascript object>"
      ]
     },
     "metadata": {},
     "output_type": "display_data"
    }
   ],
   "source": [
    "%load_ext nb_black"
   ]
  },
  {
   "cell_type": "code",
   "execution_count": 2,
   "id": "c9a2f60d",
   "metadata": {},
   "outputs": [
    {
     "data": {
      "application/javascript": [
       "\n",
       "            setTimeout(function() {\n",
       "                var nbb_cell_id = 2;\n",
       "                var nbb_unformatted_code = \"import numpy as np\\nimport pandas as pd\\nimport requests\";\n",
       "                var nbb_formatted_code = \"import numpy as np\\nimport pandas as pd\\nimport requests\";\n",
       "                var nbb_cells = Jupyter.notebook.get_cells();\n",
       "                for (var i = 0; i < nbb_cells.length; ++i) {\n",
       "                    if (nbb_cells[i].input_prompt_number == nbb_cell_id) {\n",
       "                        if (nbb_cells[i].get_text() == nbb_unformatted_code) {\n",
       "                             nbb_cells[i].set_text(nbb_formatted_code);\n",
       "                        }\n",
       "                        break;\n",
       "                    }\n",
       "                }\n",
       "            }, 500);\n",
       "            "
      ],
      "text/plain": [
       "<IPython.core.display.Javascript object>"
      ]
     },
     "metadata": {},
     "output_type": "display_data"
    }
   ],
   "source": [
    "import numpy as np\n",
    "import pandas as pd\n",
    "import requests"
   ]
  },
  {
   "cell_type": "code",
   "execution_count": 19,
   "id": "b3cfb794",
   "metadata": {},
   "outputs": [
    {
     "data": {
      "application/javascript": [
       "\n",
       "            setTimeout(function() {\n",
       "                var nbb_cell_id = 19;\n",
       "                var nbb_unformatted_code = \"# Request hesitancy data\\nhesitancy_endpoint = \\\"https://data.cdc.gov/resource/q9mh-h2tw.json?$limit=4000\\\"\\nr = requests.get(hesitancy_endpoint)\\n\\nhesitancy_df = pd.DataFrame(r.json())\";\n",
       "                var nbb_formatted_code = \"# Request hesitancy data\\nhesitancy_endpoint = \\\"https://data.cdc.gov/resource/q9mh-h2tw.json?$limit=4000\\\"\\nr = requests.get(hesitancy_endpoint)\\n\\nhesitancy_df = pd.DataFrame(r.json())\";\n",
       "                var nbb_cells = Jupyter.notebook.get_cells();\n",
       "                for (var i = 0; i < nbb_cells.length; ++i) {\n",
       "                    if (nbb_cells[i].input_prompt_number == nbb_cell_id) {\n",
       "                        if (nbb_cells[i].get_text() == nbb_unformatted_code) {\n",
       "                             nbb_cells[i].set_text(nbb_formatted_code);\n",
       "                        }\n",
       "                        break;\n",
       "                    }\n",
       "                }\n",
       "            }, 500);\n",
       "            "
      ],
      "text/plain": [
       "<IPython.core.display.Javascript object>"
      ]
     },
     "metadata": {},
     "output_type": "display_data"
    }
   ],
   "source": [
    "# Request hesitancy data\n",
    "hesitancy_endpoint = \"https://data.cdc.gov/resource/q9mh-h2tw.json?$limit=4000\"\n",
    "r = requests.get(hesitancy_endpoint)\n",
    "\n",
    "hesitancy_df = pd.DataFrame(r.json())"
   ]
  },
  {
   "cell_type": "code",
   "execution_count": 59,
   "id": "16923598",
   "metadata": {},
   "outputs": [
    {
     "name": "stdout",
     "output_type": "stream",
     "text": [
      "\n",
      "Hesitancy statistics are:\n",
      "Average % of Population Who Are Hesitant: 0.13260022278803316\n",
      "Average % of Population Who Are Hesitant or Unsure: 0.19142889879057942\n",
      "Average % of Population Who Are Strongly Hesitant: 0.08665276893698283\n",
      "\n",
      "The Average Vaccination Rate is 0.399398393854748\n",
      "The Average SVI is 0.49999999999999956\n",
      "\n",
      "\n"
     ]
    },
    {
     "data": {
      "application/javascript": [
       "\n",
       "            setTimeout(function() {\n",
       "                var nbb_cell_id = 59;\n",
       "                var nbb_unformatted_code = \"import warnings\\n\\nwarnings.filterwarnings(\\\"ignore\\\")\\n\\n# Here, I delete the last two columns of the df as they're unecessary for this analysis\\nhesitancy_df = hesitancy_df.iloc[:, :-2]\\n\\n# Then, I change these columns from objects to float to compute arithmetic operations\\nhesitancy_df[\\\"social_vulnerability_index\\\"] = hesitancy_df[\\n    \\\"social_vulnerability_index\\\"\\n].astype(float)\\nhesitancy_df[\\\"estimated_hesitant\\\"] = hesitancy_df[\\\"estimated_hesitant\\\"].astype(float)\\nhesitancy_df[\\\"estimated_hesitant_or_unsure\\\"] = hesitancy_df[\\n    \\\"estimated_hesitant_or_unsure\\\"\\n].astype(float)\\nhesitancy_df[\\\"estimated_strongly_hesitant\\\"] = hesitancy_df[\\n    \\\"estimated_strongly_hesitant\\\"\\n].astype(float)\\nhesitancy_df[\\\"percent_adults_fully\\\"] = hesitancy_df[\\\"percent_adults_fully\\\"].astype(\\n    float\\n)\\n\\n# Here, I want to find the average hesitancy rate for the three levels and percent of adults fully vaccinated.\\navg_hesitant = hesitancy_df[\\\"estimated_hesitant\\\"].mean()\\navg_hesitant_unsure = hesitancy_df[\\\"estimated_hesitant_or_unsure\\\"].mean()\\navg_strongly_hesitant = hesitancy_df[\\\"estimated_strongly_hesitant\\\"].mean()\\navg_fully_vax = hesitancy_df[\\\"percent_adults_fully\\\"].mean()\\navg_svi = hesitancy_df[\\\"social_vulnerability_index\\\"].mean()\\nprint(\\n    f\\\"\\\"\\\"\\nHesitancy statistics are:\\nAverage % of Population Who Are Hesitant: {avg_hesitant}\\nAverage % of Population Who Are Hesitant or Unsure: {avg_hesitant_unsure}\\nAverage % of Population Who Are Strongly Hesitant: {avg_strongly_hesitant}\\n\\nThe Average Vaccination Rate is {avg_fully_vax}\\nThe Average SVI is {avg_svi}\\n\\n\\\"\\\"\\\"\\n)\";\n",
       "                var nbb_formatted_code = \"import warnings\\n\\nwarnings.filterwarnings(\\\"ignore\\\")\\n\\n# Here, I delete the last two columns of the df as they're unecessary for this analysis\\nhesitancy_df = hesitancy_df.iloc[:, :-2]\\n\\n# Then, I change these columns from objects to float to compute arithmetic operations\\nhesitancy_df[\\\"social_vulnerability_index\\\"] = hesitancy_df[\\n    \\\"social_vulnerability_index\\\"\\n].astype(float)\\nhesitancy_df[\\\"estimated_hesitant\\\"] = hesitancy_df[\\\"estimated_hesitant\\\"].astype(float)\\nhesitancy_df[\\\"estimated_hesitant_or_unsure\\\"] = hesitancy_df[\\n    \\\"estimated_hesitant_or_unsure\\\"\\n].astype(float)\\nhesitancy_df[\\\"estimated_strongly_hesitant\\\"] = hesitancy_df[\\n    \\\"estimated_strongly_hesitant\\\"\\n].astype(float)\\nhesitancy_df[\\\"percent_adults_fully\\\"] = hesitancy_df[\\\"percent_adults_fully\\\"].astype(\\n    float\\n)\\n\\n# Here, I want to find the average hesitancy rate for the three levels and percent of adults fully vaccinated.\\navg_hesitant = hesitancy_df[\\\"estimated_hesitant\\\"].mean()\\navg_hesitant_unsure = hesitancy_df[\\\"estimated_hesitant_or_unsure\\\"].mean()\\navg_strongly_hesitant = hesitancy_df[\\\"estimated_strongly_hesitant\\\"].mean()\\navg_fully_vax = hesitancy_df[\\\"percent_adults_fully\\\"].mean()\\navg_svi = hesitancy_df[\\\"social_vulnerability_index\\\"].mean()\\nprint(\\n    f\\\"\\\"\\\"\\nHesitancy statistics are:\\nAverage % of Population Who Are Hesitant: {avg_hesitant}\\nAverage % of Population Who Are Hesitant or Unsure: {avg_hesitant_unsure}\\nAverage % of Population Who Are Strongly Hesitant: {avg_strongly_hesitant}\\n\\nThe Average Vaccination Rate is {avg_fully_vax}\\nThe Average SVI is {avg_svi}\\n\\n\\\"\\\"\\\"\\n)\";\n",
       "                var nbb_cells = Jupyter.notebook.get_cells();\n",
       "                for (var i = 0; i < nbb_cells.length; ++i) {\n",
       "                    if (nbb_cells[i].input_prompt_number == nbb_cell_id) {\n",
       "                        if (nbb_cells[i].get_text() == nbb_unformatted_code) {\n",
       "                             nbb_cells[i].set_text(nbb_formatted_code);\n",
       "                        }\n",
       "                        break;\n",
       "                    }\n",
       "                }\n",
       "            }, 500);\n",
       "            "
      ],
      "text/plain": [
       "<IPython.core.display.Javascript object>"
      ]
     },
     "metadata": {},
     "output_type": "display_data"
    }
   ],
   "source": [
    "import warnings\n",
    "\n",
    "warnings.filterwarnings(\"ignore\")\n",
    "\n",
    "# Here, I delete the last two columns of the df as they're unecessary for this analysis\n",
    "hesitancy_df = hesitancy_df.iloc[:, :-2]\n",
    "\n",
    "# Then, I change these columns from objects to float to compute arithmetic operations\n",
    "hesitancy_df[\"social_vulnerability_index\"] = hesitancy_df[\n",
    "    \"social_vulnerability_index\"\n",
    "].astype(float)\n",
    "hesitancy_df[\"estimated_hesitant\"] = hesitancy_df[\"estimated_hesitant\"].astype(float)\n",
    "hesitancy_df[\"estimated_hesitant_or_unsure\"] = hesitancy_df[\n",
    "    \"estimated_hesitant_or_unsure\"\n",
    "].astype(float)\n",
    "hesitancy_df[\"estimated_strongly_hesitant\"] = hesitancy_df[\n",
    "    \"estimated_strongly_hesitant\"\n",
    "].astype(float)\n",
    "hesitancy_df[\"percent_adults_fully\"] = hesitancy_df[\"percent_adults_fully\"].astype(\n",
    "    float\n",
    ")\n",
    "\n",
    "# Here, I want to find the average hesitancy rate for the three levels and percent of adults fully vaccinated.\n",
    "avg_hesitant = hesitancy_df[\"estimated_hesitant\"].mean()\n",
    "avg_hesitant_unsure = hesitancy_df[\"estimated_hesitant_or_unsure\"].mean()\n",
    "avg_strongly_hesitant = hesitancy_df[\"estimated_strongly_hesitant\"].mean()\n",
    "avg_fully_vax = hesitancy_df[\"percent_adults_fully\"].mean()\n",
    "avg_svi = hesitancy_df[\"social_vulnerability_index\"].mean()\n",
    "print(\n",
    "    f\"\"\"\n",
    "Hesitancy statistics are:\n",
    "Average % of Population Who Are Hesitant: {avg_hesitant}\n",
    "Average % of Population Who Are Hesitant or Unsure: {avg_hesitant_unsure}\n",
    "Average % of Population Who Are Strongly Hesitant: {avg_strongly_hesitant}\n",
    "\n",
    "The Average Vaccination Rate is {avg_fully_vax}\n",
    "The Average SVI is {avg_svi}\n",
    "\n",
    "\"\"\"\n",
    ")"
   ]
  },
  {
   "cell_type": "code",
   "execution_count": 21,
   "id": "2921f4a1",
   "metadata": {},
   "outputs": [
    {
     "data": {
      "application/javascript": [
       "\n",
       "            setTimeout(function() {\n",
       "                var nbb_cell_id = 21;\n",
       "                var nbb_unformatted_code = \"# I create a sub dataset for the two variables of interest\\nhes_vax_rate = hesitancy_df[\\n    [\\n        \\\"fips_code\\\",\\n        \\\"county_name\\\",\\n        \\\"state\\\",\\n        \\\"social_vulnerability_index\\\",\\n        \\\"cvac_category\\\",\\n        \\\"estimated_hesitant\\\",\\n        \\\"estimated_hesitant_or_unsure\\\",\\n        \\\"estimated_strongly_hesitant\\\",\\n        \\\"percent_adults_fully\\\",\\n    ]\\n]\";\n",
       "                var nbb_formatted_code = \"# I create a sub dataset for the two variables of interest\\nhes_vax_rate = hesitancy_df[\\n    [\\n        \\\"fips_code\\\",\\n        \\\"county_name\\\",\\n        \\\"state\\\",\\n        \\\"social_vulnerability_index\\\",\\n        \\\"cvac_category\\\",\\n        \\\"estimated_hesitant\\\",\\n        \\\"estimated_hesitant_or_unsure\\\",\\n        \\\"estimated_strongly_hesitant\\\",\\n        \\\"percent_adults_fully\\\",\\n    ]\\n]\";\n",
       "                var nbb_cells = Jupyter.notebook.get_cells();\n",
       "                for (var i = 0; i < nbb_cells.length; ++i) {\n",
       "                    if (nbb_cells[i].input_prompt_number == nbb_cell_id) {\n",
       "                        if (nbb_cells[i].get_text() == nbb_unformatted_code) {\n",
       "                             nbb_cells[i].set_text(nbb_formatted_code);\n",
       "                        }\n",
       "                        break;\n",
       "                    }\n",
       "                }\n",
       "            }, 500);\n",
       "            "
      ],
      "text/plain": [
       "<IPython.core.display.Javascript object>"
      ]
     },
     "metadata": {},
     "output_type": "display_data"
    }
   ],
   "source": [
    "# I create a sub dataset for the variables of interest\n",
    "hes_vax_rate = hesitancy_df[\n",
    "    [\n",
    "        \"fips_code\",\n",
    "        \"county_name\",\n",
    "        \"state\",\n",
    "        \"social_vulnerability_index\",\n",
    "        \"cvac_category\",\n",
    "        \"estimated_hesitant\",\n",
    "        \"estimated_hesitant_or_unsure\",\n",
    "        \"estimated_strongly_hesitant\",\n",
    "        \"percent_adults_fully\",\n",
    "    ]\n",
    "]"
   ]
  },
  {
   "cell_type": "code",
   "execution_count": 34,
   "id": "ec6ef616",
   "metadata": {},
   "outputs": [
    {
     "data": {
      "text/html": [
       "<div>\n",
       "<style scoped>\n",
       "    .dataframe tbody tr th:only-of-type {\n",
       "        vertical-align: middle;\n",
       "    }\n",
       "\n",
       "    .dataframe tbody tr th {\n",
       "        vertical-align: top;\n",
       "    }\n",
       "\n",
       "    .dataframe thead th {\n",
       "        text-align: right;\n",
       "    }\n",
       "</style>\n",
       "<table border=\"1\" class=\"dataframe\">\n",
       "  <thead>\n",
       "    <tr style=\"text-align: right;\">\n",
       "      <th></th>\n",
       "      <th>social_vulnerability_index</th>\n",
       "      <th>estimated_hesitant</th>\n",
       "      <th>estimated_hesitant_or_unsure</th>\n",
       "      <th>estimated_strongly_hesitant</th>\n",
       "      <th>percent_adults_fully</th>\n",
       "    </tr>\n",
       "  </thead>\n",
       "  <tbody>\n",
       "    <tr>\n",
       "      <th>social_vulnerability_index</th>\n",
       "      <td>1.000000</td>\n",
       "      <td>0.300054</td>\n",
       "      <td>0.389959</td>\n",
       "      <td>0.326098</td>\n",
       "      <td>-0.306294</td>\n",
       "    </tr>\n",
       "    <tr>\n",
       "      <th>estimated_hesitant</th>\n",
       "      <td>0.300054</td>\n",
       "      <td>1.000000</td>\n",
       "      <td>0.971988</td>\n",
       "      <td>0.970170</td>\n",
       "      <td>-0.287178</td>\n",
       "    </tr>\n",
       "    <tr>\n",
       "      <th>estimated_hesitant_or_unsure</th>\n",
       "      <td>0.389959</td>\n",
       "      <td>0.971988</td>\n",
       "      <td>1.000000</td>\n",
       "      <td>0.943778</td>\n",
       "      <td>-0.344542</td>\n",
       "    </tr>\n",
       "    <tr>\n",
       "      <th>estimated_strongly_hesitant</th>\n",
       "      <td>0.326098</td>\n",
       "      <td>0.970170</td>\n",
       "      <td>0.943778</td>\n",
       "      <td>1.000000</td>\n",
       "      <td>-0.299400</td>\n",
       "    </tr>\n",
       "    <tr>\n",
       "      <th>percent_adults_fully</th>\n",
       "      <td>-0.306294</td>\n",
       "      <td>-0.287178</td>\n",
       "      <td>-0.344542</td>\n",
       "      <td>-0.299400</td>\n",
       "      <td>1.000000</td>\n",
       "    </tr>\n",
       "  </tbody>\n",
       "</table>\n",
       "</div>"
      ],
      "text/plain": [
       "                              social_vulnerability_index  estimated_hesitant  \\\n",
       "social_vulnerability_index                      1.000000            0.300054   \n",
       "estimated_hesitant                              0.300054            1.000000   \n",
       "estimated_hesitant_or_unsure                    0.389959            0.971988   \n",
       "estimated_strongly_hesitant                     0.326098            0.970170   \n",
       "percent_adults_fully                           -0.306294           -0.287178   \n",
       "\n",
       "                              estimated_hesitant_or_unsure  \\\n",
       "social_vulnerability_index                        0.389959   \n",
       "estimated_hesitant                                0.971988   \n",
       "estimated_hesitant_or_unsure                      1.000000   \n",
       "estimated_strongly_hesitant                       0.943778   \n",
       "percent_adults_fully                             -0.344542   \n",
       "\n",
       "                              estimated_strongly_hesitant  \\\n",
       "social_vulnerability_index                       0.326098   \n",
       "estimated_hesitant                               0.970170   \n",
       "estimated_hesitant_or_unsure                     0.943778   \n",
       "estimated_strongly_hesitant                      1.000000   \n",
       "percent_adults_fully                            -0.299400   \n",
       "\n",
       "                              percent_adults_fully  \n",
       "social_vulnerability_index               -0.306294  \n",
       "estimated_hesitant                       -0.287178  \n",
       "estimated_hesitant_or_unsure             -0.344542  \n",
       "estimated_strongly_hesitant              -0.299400  \n",
       "percent_adults_fully                      1.000000  "
      ]
     },
     "execution_count": 34,
     "metadata": {},
     "output_type": "execute_result"
    },
    {
     "data": {
      "application/javascript": [
       "\n",
       "            setTimeout(function() {\n",
       "                var nbb_cell_id = 34;\n",
       "                var nbb_unformatted_code = \"hes_vax_rate.corr(method=\\\"spearman\\\")\";\n",
       "                var nbb_formatted_code = \"hes_vax_rate.corr(method=\\\"spearman\\\")\";\n",
       "                var nbb_cells = Jupyter.notebook.get_cells();\n",
       "                for (var i = 0; i < nbb_cells.length; ++i) {\n",
       "                    if (nbb_cells[i].input_prompt_number == nbb_cell_id) {\n",
       "                        if (nbb_cells[i].get_text() == nbb_unformatted_code) {\n",
       "                             nbb_cells[i].set_text(nbb_formatted_code);\n",
       "                        }\n",
       "                        break;\n",
       "                    }\n",
       "                }\n",
       "            }, 500);\n",
       "            "
      ],
      "text/plain": [
       "<IPython.core.display.Javascript object>"
      ]
     },
     "metadata": {},
     "output_type": "display_data"
    }
   ],
   "source": [
    "hes_vax_rate.corr(method=\"spearman\")"
   ]
  },
  {
   "cell_type": "markdown",
   "id": "a3c7e146",
   "metadata": {},
   "source": [
    "#### Correlation Interpretation\n",
    "First, comparing the hesitancy variables and percent of adults fully vaccinated to social vulnerability index, we see that there's a positive correlation for all three levels of hesitancy while there is a negative correlation for percent of adults fully vaccinated. \n",
    "\n",
    "This result is not surprising. As there's an increase of social vulnerability, hesitancy increases slightly as well. Our social vulnerability index variable is the extent to which a community is socially vulnerable to disaster. The factors considered in developing the SVI include economic data as well as data regarding education, family characteristics, housing language ability, ethnicity, and vehicle access. All of these factors play a role into an individual's likelihood of trusting the vaccine. But, we do have to note that these correlation values aren't extremely large to note a strong relationship between the variables. \n",
    "\n",
    "Furthermore, we find that there's a negative correlation for all three levels of hesitancy with percent of adults fully vaccinated. As individuals are more hesitant, the percent of fully vaccinated individuals would decrease. \n",
    "\n",
    "But, let's look at how strong this finding is with the top 100 counties with the highest hesitancy rate of strongly hesitant. "
   ]
  },
  {
   "cell_type": "code",
   "execution_count": 22,
   "id": "88e9f7d2",
   "metadata": {},
   "outputs": [
    {
     "data": {
      "text/html": [
       "<div>\n",
       "<style scoped>\n",
       "    .dataframe tbody tr th:only-of-type {\n",
       "        vertical-align: middle;\n",
       "    }\n",
       "\n",
       "    .dataframe tbody tr th {\n",
       "        vertical-align: top;\n",
       "    }\n",
       "\n",
       "    .dataframe thead th {\n",
       "        text-align: right;\n",
       "    }\n",
       "</style>\n",
       "<table border=\"1\" class=\"dataframe\">\n",
       "  <thead>\n",
       "    <tr style=\"text-align: right;\">\n",
       "      <th></th>\n",
       "      <th>fips_code</th>\n",
       "      <th>county_name</th>\n",
       "      <th>state</th>\n",
       "      <th>social_vulnerability_index</th>\n",
       "      <th>cvac_category</th>\n",
       "      <th>estimated_hesitant</th>\n",
       "      <th>estimated_hesitant_or_unsure</th>\n",
       "      <th>estimated_strongly_hesitant</th>\n",
       "      <th>percent_adults_fully</th>\n",
       "    </tr>\n",
       "  </thead>\n",
       "  <tbody>\n",
       "    <tr>\n",
       "      <th>0</th>\n",
       "      <td>30073</td>\n",
       "      <td>Pondera County, Montana</td>\n",
       "      <td>MONTANA</td>\n",
       "      <td>0.83</td>\n",
       "      <td>Low Concern</td>\n",
       "      <td>0.2670</td>\n",
       "      <td>0.3233</td>\n",
       "      <td>0.1824</td>\n",
       "      <td>0.475</td>\n",
       "    </tr>\n",
       "    <tr>\n",
       "      <th>1</th>\n",
       "      <td>30041</td>\n",
       "      <td>Hill County, Montana</td>\n",
       "      <td>MONTANA</td>\n",
       "      <td>0.70</td>\n",
       "      <td>Low Concern</td>\n",
       "      <td>0.2670</td>\n",
       "      <td>0.3233</td>\n",
       "      <td>0.1824</td>\n",
       "      <td>0.515</td>\n",
       "    </tr>\n",
       "    <tr>\n",
       "      <th>2</th>\n",
       "      <td>30005</td>\n",
       "      <td>Blaine County, Montana</td>\n",
       "      <td>MONTANA</td>\n",
       "      <td>0.92</td>\n",
       "      <td>High Concern</td>\n",
       "      <td>0.2670</td>\n",
       "      <td>0.3233</td>\n",
       "      <td>0.1824</td>\n",
       "      <td>0.758</td>\n",
       "    </tr>\n",
       "    <tr>\n",
       "      <th>3</th>\n",
       "      <td>30015</td>\n",
       "      <td>Chouteau County, Montana</td>\n",
       "      <td>MONTANA</td>\n",
       "      <td>0.48</td>\n",
       "      <td>Moderate Concern</td>\n",
       "      <td>0.2670</td>\n",
       "      <td>0.3233</td>\n",
       "      <td>0.1824</td>\n",
       "      <td>0.284</td>\n",
       "    </tr>\n",
       "    <tr>\n",
       "      <th>4</th>\n",
       "      <td>30059</td>\n",
       "      <td>Meagher County, Montana</td>\n",
       "      <td>MONTANA</td>\n",
       "      <td>0.05</td>\n",
       "      <td>Low Concern</td>\n",
       "      <td>0.2670</td>\n",
       "      <td>0.3233</td>\n",
       "      <td>0.1824</td>\n",
       "      <td>0.476</td>\n",
       "    </tr>\n",
       "    <tr>\n",
       "      <th>...</th>\n",
       "      <td>...</td>\n",
       "      <td>...</td>\n",
       "      <td>...</td>\n",
       "      <td>...</td>\n",
       "      <td>...</td>\n",
       "      <td>...</td>\n",
       "      <td>...</td>\n",
       "      <td>...</td>\n",
       "      <td>...</td>\n",
       "    </tr>\n",
       "    <tr>\n",
       "      <th>95</th>\n",
       "      <td>5145</td>\n",
       "      <td>White County, Arkansas</td>\n",
       "      <td>ARKANSAS</td>\n",
       "      <td>0.74</td>\n",
       "      <td>Moderate Concern</td>\n",
       "      <td>0.2265</td>\n",
       "      <td>0.2777</td>\n",
       "      <td>0.1509</td>\n",
       "      <td>0.349</td>\n",
       "    </tr>\n",
       "    <tr>\n",
       "      <th>96</th>\n",
       "      <td>5147</td>\n",
       "      <td>Woodruff County, Arkansas</td>\n",
       "      <td>ARKANSAS</td>\n",
       "      <td>0.85</td>\n",
       "      <td>High Concern</td>\n",
       "      <td>0.2265</td>\n",
       "      <td>0.2777</td>\n",
       "      <td>0.1509</td>\n",
       "      <td>0.458</td>\n",
       "    </tr>\n",
       "    <tr>\n",
       "      <th>97</th>\n",
       "      <td>21051</td>\n",
       "      <td>Clay County, Kentucky</td>\n",
       "      <td>KENTUCKY</td>\n",
       "      <td>0.91</td>\n",
       "      <td>Moderate Concern</td>\n",
       "      <td>0.2210</td>\n",
       "      <td>0.2796</td>\n",
       "      <td>0.1503</td>\n",
       "      <td>0.336</td>\n",
       "    </tr>\n",
       "    <tr>\n",
       "      <th>98</th>\n",
       "      <td>21125</td>\n",
       "      <td>Laurel County, Kentucky</td>\n",
       "      <td>KENTUCKY</td>\n",
       "      <td>0.75</td>\n",
       "      <td>Low Concern</td>\n",
       "      <td>0.2210</td>\n",
       "      <td>0.2796</td>\n",
       "      <td>0.1503</td>\n",
       "      <td>0.331</td>\n",
       "    </tr>\n",
       "    <tr>\n",
       "      <th>99</th>\n",
       "      <td>21203</td>\n",
       "      <td>Rockcastle County, Kentucky</td>\n",
       "      <td>KENTUCKY</td>\n",
       "      <td>0.79</td>\n",
       "      <td>Low Concern</td>\n",
       "      <td>0.2210</td>\n",
       "      <td>0.2796</td>\n",
       "      <td>0.1503</td>\n",
       "      <td>0.317</td>\n",
       "    </tr>\n",
       "  </tbody>\n",
       "</table>\n",
       "<p>100 rows × 9 columns</p>\n",
       "</div>"
      ],
      "text/plain": [
       "   fips_code                  county_name     state  \\\n",
       "0      30073      Pondera County, Montana   MONTANA   \n",
       "1      30041         Hill County, Montana   MONTANA   \n",
       "2      30005       Blaine County, Montana   MONTANA   \n",
       "3      30015     Chouteau County, Montana   MONTANA   \n",
       "4      30059      Meagher County, Montana   MONTANA   \n",
       "..       ...                          ...       ...   \n",
       "95      5145       White County, Arkansas  ARKANSAS   \n",
       "96      5147    Woodruff County, Arkansas  ARKANSAS   \n",
       "97     21051        Clay County, Kentucky  KENTUCKY   \n",
       "98     21125      Laurel County, Kentucky  KENTUCKY   \n",
       "99     21203  Rockcastle County, Kentucky  KENTUCKY   \n",
       "\n",
       "    social_vulnerability_index     cvac_category  estimated_hesitant  \\\n",
       "0                         0.83       Low Concern              0.2670   \n",
       "1                         0.70       Low Concern              0.2670   \n",
       "2                         0.92      High Concern              0.2670   \n",
       "3                         0.48  Moderate Concern              0.2670   \n",
       "4                         0.05       Low Concern              0.2670   \n",
       "..                         ...               ...                 ...   \n",
       "95                        0.74  Moderate Concern              0.2265   \n",
       "96                        0.85      High Concern              0.2265   \n",
       "97                        0.91  Moderate Concern              0.2210   \n",
       "98                        0.75       Low Concern              0.2210   \n",
       "99                        0.79       Low Concern              0.2210   \n",
       "\n",
       "    estimated_hesitant_or_unsure  estimated_strongly_hesitant  \\\n",
       "0                         0.3233                       0.1824   \n",
       "1                         0.3233                       0.1824   \n",
       "2                         0.3233                       0.1824   \n",
       "3                         0.3233                       0.1824   \n",
       "4                         0.3233                       0.1824   \n",
       "..                           ...                          ...   \n",
       "95                        0.2777                       0.1509   \n",
       "96                        0.2777                       0.1509   \n",
       "97                        0.2796                       0.1503   \n",
       "98                        0.2796                       0.1503   \n",
       "99                        0.2796                       0.1503   \n",
       "\n",
       "    percent_adults_fully  \n",
       "0                  0.475  \n",
       "1                  0.515  \n",
       "2                  0.758  \n",
       "3                  0.284  \n",
       "4                  0.476  \n",
       "..                   ...  \n",
       "95                 0.349  \n",
       "96                 0.458  \n",
       "97                 0.336  \n",
       "98                 0.331  \n",
       "99                 0.317  \n",
       "\n",
       "[100 rows x 9 columns]"
      ]
     },
     "execution_count": 22,
     "metadata": {},
     "output_type": "execute_result"
    },
    {
     "data": {
      "application/javascript": [
       "\n",
       "            setTimeout(function() {\n",
       "                var nbb_cell_id = 22;\n",
       "                var nbb_unformatted_code = \"# Now, I want to find the top 100 counties with the highest hesistancy rate of strongly hesitant\\nstrongly_hes = hes_vax_rate.nlargest(100, \\\"estimated_strongly_hesitant\\\")\\nstrongly_hes = strongly_hes.reset_index(drop=True)\\nstrongly_hes\";\n",
       "                var nbb_formatted_code = \"# Now, I want to find the top 100 counties with the highest hesistancy rate of strongly hesitant\\nstrongly_hes = hes_vax_rate.nlargest(100, \\\"estimated_strongly_hesitant\\\")\\nstrongly_hes = strongly_hes.reset_index(drop=True)\\nstrongly_hes\";\n",
       "                var nbb_cells = Jupyter.notebook.get_cells();\n",
       "                for (var i = 0; i < nbb_cells.length; ++i) {\n",
       "                    if (nbb_cells[i].input_prompt_number == nbb_cell_id) {\n",
       "                        if (nbb_cells[i].get_text() == nbb_unformatted_code) {\n",
       "                             nbb_cells[i].set_text(nbb_formatted_code);\n",
       "                        }\n",
       "                        break;\n",
       "                    }\n",
       "                }\n",
       "            }, 500);\n",
       "            "
      ],
      "text/plain": [
       "<IPython.core.display.Javascript object>"
      ]
     },
     "metadata": {},
     "output_type": "display_data"
    }
   ],
   "source": [
    "# Now, I want to find the top 100 counties with the highest hesistancy rate of strongly hesitant\n",
    "strongly_hes = hes_vax_rate.nlargest(100, \"estimated_strongly_hesitant\")\n",
    "strongly_hes = strongly_hes.reset_index(drop=True)\n",
    "strongly_hes"
   ]
  },
  {
   "cell_type": "code",
   "execution_count": 51,
   "id": "3483ff73",
   "metadata": {},
   "outputs": [
    {
     "data": {
      "image/png": "[encoded data removed]",
      "text/plain": [
       "<Figure size 640x480 with 1 Axes>"
      ]
     },
     "metadata": {},
     "output_type": "display_data"
    },
    {
     "data": {
      "text/plain": [
       "<ggplot: (8762634427112)>"
      ]
     },
     "execution_count": 51,
     "metadata": {},
     "output_type": "execute_result"
    },
    {
     "data": {
      "application/javascript": [
       "\n",
       "            setTimeout(function() {\n",
       "                var nbb_cell_id = 51;\n",
       "                var nbb_unformatted_code = \"import plotnine as p9\\n\\ngg = p9.ggplot(strongly_hes)\\ngg += p9.aes(\\n    x=\\\"percent_adults_fully\\\", y=\\\"estimated_strongly_hesitant\\\", color=\\\"state\\\"\\n)  # add color mapping\\ngg += p9.geom_point()\\ngg\";\n",
       "                var nbb_formatted_code = \"import plotnine as p9\\n\\ngg = p9.ggplot(strongly_hes)\\ngg += p9.aes(\\n    x=\\\"percent_adults_fully\\\", y=\\\"estimated_strongly_hesitant\\\", color=\\\"state\\\"\\n)  # add color mapping\\ngg += p9.geom_point()\\ngg\";\n",
       "                var nbb_cells = Jupyter.notebook.get_cells();\n",
       "                for (var i = 0; i < nbb_cells.length; ++i) {\n",
       "                    if (nbb_cells[i].input_prompt_number == nbb_cell_id) {\n",
       "                        if (nbb_cells[i].get_text() == nbb_unformatted_code) {\n",
       "                             nbb_cells[i].set_text(nbb_formatted_code);\n",
       "                        }\n",
       "                        break;\n",
       "                    }\n",
       "                }\n",
       "            }, 500);\n",
       "            "
      ],
      "text/plain": [
       "<IPython.core.display.Javascript object>"
      ]
     },
     "metadata": {},
     "output_type": "display_data"
    }
   ],
   "source": [
    "import plotnine as p9\n",
    "\n",
    "gg = p9.ggplot(strongly_hes)\n",
    "gg += p9.aes(\n",
    "    x=\"percent_adults_fully\", y=\"estimated_strongly_hesitant\", color=\"state\"\n",
    ")  # add color mapping\n",
    "gg += p9.geom_point()\n",
    "gg"
   ]
  },
  {
   "cell_type": "code",
   "execution_count": 57,
   "id": "3517b1dd",
   "metadata": {},
   "outputs": [
    {
     "data": {
      "text/plain": [
       "(47, 9)"
      ]
     },
     "execution_count": 57,
     "metadata": {},
     "output_type": "execute_result"
    },
    {
     "data": {
      "application/javascript": [
       "\n",
       "            setTimeout(function() {\n",
       "                var nbb_cell_id = 57;\n",
       "                var nbb_unformatted_code = \"test = strongly_hes.loc[strongly_hes[\\\"percent_adults_fully\\\"] > 0.399]\\ntest.shape\";\n",
       "                var nbb_formatted_code = \"test = strongly_hes.loc[strongly_hes[\\\"percent_adults_fully\\\"] > 0.399]\\ntest.shape\";\n",
       "                var nbb_cells = Jupyter.notebook.get_cells();\n",
       "                for (var i = 0; i < nbb_cells.length; ++i) {\n",
       "                    if (nbb_cells[i].input_prompt_number == nbb_cell_id) {\n",
       "                        if (nbb_cells[i].get_text() == nbb_unformatted_code) {\n",
       "                             nbb_cells[i].set_text(nbb_formatted_code);\n",
       "                        }\n",
       "                        break;\n",
       "                    }\n",
       "                }\n",
       "            }, 500);\n",
       "            "
      ],
      "text/plain": [
       "<IPython.core.display.Javascript object>"
      ]
     },
     "metadata": {},
     "output_type": "display_data"
    }
   ],
   "source": [
    "higher_avg = strongly_hes.loc[strongly_hes[\"percent_adults_fully\"] > 0.399]\n",
    "higher_avg.shape"
   ]
  },
  {
   "cell_type": "markdown",
   "id": "6c4ef609",
   "metadata": {},
   "source": [
    "#### Plot Interpretation\n",
    "From this plot, we can see that the top 100 counties with the highest rate of strong hesitancy, come from Alaska, Arizona, Arkansas, Kentucky, Montana, and Wyoming. \n",
    "\n",
    "Noting that the average vaccination rate across the U.S. is 0.399398393854748, we see that although these counties have the highest rate of strong hesitancy, 47 counties have a higher vaccination rate than the average. \n",
    "\n",
    "We also notice that Montana is the state with some of the highest hesitancy rates across the U.S. \n",
    "\n",
    "So now, I'd like to explore some possible influences of vaccine hesitanty and vaccination rate. Is social vulnerabilty index or cvac category a large influence on vaccine hesitancy? Is vaccine distribution an issue in some counties? "
   ]
  },
  {
   "cell_type": "code",
   "execution_count": 58,
   "id": "ae69bac6",
   "metadata": {},
   "outputs": [
    {
     "data": {
      "text/plain": [
       "<AxesSubplot:title={'center':'Stacked Bar Graph of Hesitancy by State'}, xlabel='state'>"
      ]
     },
     "execution_count": 58,
     "metadata": {},
     "output_type": "execute_result"
    },
    {
     "data": {
      "image/png": "[encoded data removed]",
      "text/plain": [
       "<Figure size 432x288 with 1 Axes>"
      ]
     },
     "metadata": {
      "needs_background": "light"
     },
     "output_type": "display_data"
    },
    {
     "data": {
      "application/javascript": [
       "\n",
       "            setTimeout(function() {\n",
       "                var nbb_cell_id = 58;\n",
       "                var nbb_unformatted_code = \"strong_hes_state = strongly_hes.groupby([\\\"state\\\"]).mean()\\nstrong_hes_state = strong_hes_state.drop(\\n    columns=[\\\"social_vulnerability_index\\\", \\\"percent_adults_fully\\\"]\\n)\\nstrong_hes_state = strong_hes_state.reset_index()\\nstrong_hes_state.plot(\\n    x=\\\"state\\\", kind=\\\"bar\\\", stacked=True, title=\\\"Stacked Bar Graph of Hesitancy by State\\\"\\n)\";\n",
       "                var nbb_formatted_code = \"strong_hes_state = strongly_hes.groupby([\\\"state\\\"]).mean()\\nstrong_hes_state = strong_hes_state.drop(\\n    columns=[\\\"social_vulnerability_index\\\", \\\"percent_adults_fully\\\"]\\n)\\nstrong_hes_state = strong_hes_state.reset_index()\\nstrong_hes_state.plot(\\n    x=\\\"state\\\", kind=\\\"bar\\\", stacked=True, title=\\\"Stacked Bar Graph of Hesitancy by State\\\"\\n)\";\n",
       "                var nbb_cells = Jupyter.notebook.get_cells();\n",
       "                for (var i = 0; i < nbb_cells.length; ++i) {\n",
       "                    if (nbb_cells[i].input_prompt_number == nbb_cell_id) {\n",
       "                        if (nbb_cells[i].get_text() == nbb_unformatted_code) {\n",
       "                             nbb_cells[i].set_text(nbb_formatted_code);\n",
       "                        }\n",
       "                        break;\n",
       "                    }\n",
       "                }\n",
       "            }, 500);\n",
       "            "
      ],
      "text/plain": [
       "<IPython.core.display.Javascript object>"
      ]
     },
     "metadata": {},
     "output_type": "display_data"
    }
   ],
   "source": [
    "strong_hes_state = strongly_hes.groupby([\"state\"]).mean()\n",
    "strong_hes_state = strong_hes_state.drop(\n",
    "    columns=[\"social_vulnerability_index\", \"percent_adults_fully\"]\n",
    ")\n",
    "strong_hes_state = strong_hes_state.reset_index()\n",
    "strong_hes_state.plot(\n",
    "    x=\"state\", kind=\"bar\", stacked=True, title=\"Stacked Bar Graph of Hesitancy by State\"\n",
    ")"
   ]
  },
  {
   "cell_type": "markdown",
   "id": "6e40f8b2",
   "metadata": {},
   "source": [
    "#### Bar Graph Interpretation \n",
    "From this bar graph, we see that although this subsetted data includes the top 100 counties with the highest rate of strong hesitancy, the category of estimated hesitant or unsure makes up the largest proportion. Overall, these states still have a faily large hesitancy rate overall. "
   ]
  },
  {
   "cell_type": "code",
   "execution_count": 25,
   "id": "316f5eaa",
   "metadata": {},
   "outputs": [
    {
     "data": {
      "text/plain": [
       "Low Concern          27\n",
       "High Concern         26\n",
       "Moderate Concern     20\n",
       "Very High Concern    15\n",
       "Very Low Concern     12\n",
       "Name: cvac_category, dtype: int64"
      ]
     },
     "execution_count": 25,
     "metadata": {},
     "output_type": "execute_result"
    },
    {
     "data": {
      "application/javascript": [
       "\n",
       "            setTimeout(function() {\n",
       "                var nbb_cell_id = 25;\n",
       "                var nbb_unformatted_code = \"strongly_hes[\\\"cvac_category\\\"].value_counts()\";\n",
       "                var nbb_formatted_code = \"strongly_hes[\\\"cvac_category\\\"].value_counts()\";\n",
       "                var nbb_cells = Jupyter.notebook.get_cells();\n",
       "                for (var i = 0; i < nbb_cells.length; ++i) {\n",
       "                    if (nbb_cells[i].input_prompt_number == nbb_cell_id) {\n",
       "                        if (nbb_cells[i].get_text() == nbb_unformatted_code) {\n",
       "                             nbb_cells[i].set_text(nbb_formatted_code);\n",
       "                        }\n",
       "                        break;\n",
       "                    }\n",
       "                }\n",
       "            }, 500);\n",
       "            "
      ],
      "text/plain": [
       "<IPython.core.display.Javascript object>"
      ]
     },
     "metadata": {},
     "output_type": "display_data"
    }
   ],
   "source": [
    "strongly_hes[\"cvac_category\"].value_counts()"
   ]
  },
  {
   "cell_type": "code",
   "execution_count": 26,
   "id": "0c654e9c",
   "metadata": {},
   "outputs": [
    {
     "data": {
      "text/plain": [
       "0.45409999999999995"
      ]
     },
     "execution_count": 26,
     "metadata": {},
     "output_type": "execute_result"
    },
    {
     "data": {
      "application/javascript": [
       "\n",
       "            setTimeout(function() {\n",
       "                var nbb_cell_id = 26;\n",
       "                var nbb_unformatted_code = \"strongly_hes[\\\"social_vulnerability_index\\\"].mean()\";\n",
       "                var nbb_formatted_code = \"strongly_hes[\\\"social_vulnerability_index\\\"].mean()\";\n",
       "                var nbb_cells = Jupyter.notebook.get_cells();\n",
       "                for (var i = 0; i < nbb_cells.length; ++i) {\n",
       "                    if (nbb_cells[i].input_prompt_number == nbb_cell_id) {\n",
       "                        if (nbb_cells[i].get_text() == nbb_unformatted_code) {\n",
       "                             nbb_cells[i].set_text(nbb_formatted_code);\n",
       "                        }\n",
       "                        break;\n",
       "                    }\n",
       "                }\n",
       "            }, 500);\n",
       "            "
      ],
      "text/plain": [
       "<IPython.core.display.Javascript object>"
      ]
     },
     "metadata": {},
     "output_type": "display_data"
    }
   ],
   "source": [
    "strongly_hes[\"social_vulnerability_index\"].mean()"
   ]
  },
  {
   "cell_type": "code",
   "execution_count": 50,
   "id": "4bef2e99",
   "metadata": {},
   "outputs": [
    {
     "data": {
      "text/plain": [
       "0.43541414141414136"
      ]
     },
     "execution_count": 50,
     "metadata": {},
     "output_type": "execute_result"
    },
    {
     "data": {
      "application/javascript": [
       "\n",
       "            setTimeout(function() {\n",
       "                var nbb_cell_id = 50;\n",
       "                var nbb_unformatted_code = \"strongly_hes[\\\"percent_adults_fully\\\"].mean()\";\n",
       "                var nbb_formatted_code = \"strongly_hes[\\\"percent_adults_fully\\\"].mean()\";\n",
       "                var nbb_cells = Jupyter.notebook.get_cells();\n",
       "                for (var i = 0; i < nbb_cells.length; ++i) {\n",
       "                    if (nbb_cells[i].input_prompt_number == nbb_cell_id) {\n",
       "                        if (nbb_cells[i].get_text() == nbb_unformatted_code) {\n",
       "                             nbb_cells[i].set_text(nbb_formatted_code);\n",
       "                        }\n",
       "                        break;\n",
       "                    }\n",
       "                }\n",
       "            }, 500);\n",
       "            "
      ],
      "text/plain": [
       "<IPython.core.display.Javascript object>"
      ]
     },
     "metadata": {},
     "output_type": "display_data"
    }
   ],
   "source": [
    "strongly_hes[\"percent_adults_fully\"].mean()"
   ]
  },
  {
   "cell_type": "code",
   "execution_count": 60,
   "id": "96a1b620",
   "metadata": {},
   "outputs": [
    {
     "data": {
      "text/html": [
       "<div>\n",
       "<style scoped>\n",
       "    .dataframe tbody tr th:only-of-type {\n",
       "        vertical-align: middle;\n",
       "    }\n",
       "\n",
       "    .dataframe tbody tr th {\n",
       "        vertical-align: top;\n",
       "    }\n",
       "\n",
       "    .dataframe thead th {\n",
       "        text-align: right;\n",
       "    }\n",
       "</style>\n",
       "<table border=\"1\" class=\"dataframe\">\n",
       "  <thead>\n",
       "    <tr style=\"text-align: right;\">\n",
       "      <th></th>\n",
       "      <th>social_vulnerability_index</th>\n",
       "      <th>estimated_hesitant</th>\n",
       "      <th>estimated_hesitant_or_unsure</th>\n",
       "      <th>estimated_strongly_hesitant</th>\n",
       "      <th>percent_adults_fully</th>\n",
       "    </tr>\n",
       "  </thead>\n",
       "  <tbody>\n",
       "    <tr>\n",
       "      <th>social_vulnerability_index</th>\n",
       "      <td>1.000000</td>\n",
       "      <td>-0.244683</td>\n",
       "      <td>-0.232389</td>\n",
       "      <td>-0.264885</td>\n",
       "      <td>0.419174</td>\n",
       "    </tr>\n",
       "    <tr>\n",
       "      <th>estimated_hesitant</th>\n",
       "      <td>-0.244683</td>\n",
       "      <td>1.000000</td>\n",
       "      <td>0.791294</td>\n",
       "      <td>0.902618</td>\n",
       "      <td>0.044983</td>\n",
       "    </tr>\n",
       "    <tr>\n",
       "      <th>estimated_hesitant_or_unsure</th>\n",
       "      <td>-0.232389</td>\n",
       "      <td>0.791294</td>\n",
       "      <td>1.000000</td>\n",
       "      <td>0.855796</td>\n",
       "      <td>-0.075386</td>\n",
       "    </tr>\n",
       "    <tr>\n",
       "      <th>estimated_strongly_hesitant</th>\n",
       "      <td>-0.264885</td>\n",
       "      <td>0.902618</td>\n",
       "      <td>0.855796</td>\n",
       "      <td>1.000000</td>\n",
       "      <td>0.089891</td>\n",
       "    </tr>\n",
       "    <tr>\n",
       "      <th>percent_adults_fully</th>\n",
       "      <td>0.419174</td>\n",
       "      <td>0.044983</td>\n",
       "      <td>-0.075386</td>\n",
       "      <td>0.089891</td>\n",
       "      <td>1.000000</td>\n",
       "    </tr>\n",
       "  </tbody>\n",
       "</table>\n",
       "</div>"
      ],
      "text/plain": [
       "                              social_vulnerability_index  estimated_hesitant  \\\n",
       "social_vulnerability_index                      1.000000           -0.244683   \n",
       "estimated_hesitant                             -0.244683            1.000000   \n",
       "estimated_hesitant_or_unsure                   -0.232389            0.791294   \n",
       "estimated_strongly_hesitant                    -0.264885            0.902618   \n",
       "percent_adults_fully                            0.419174            0.044983   \n",
       "\n",
       "                              estimated_hesitant_or_unsure  \\\n",
       "social_vulnerability_index                       -0.232389   \n",
       "estimated_hesitant                                0.791294   \n",
       "estimated_hesitant_or_unsure                      1.000000   \n",
       "estimated_strongly_hesitant                       0.855796   \n",
       "percent_adults_fully                             -0.075386   \n",
       "\n",
       "                              estimated_strongly_hesitant  \\\n",
       "social_vulnerability_index                      -0.264885   \n",
       "estimated_hesitant                               0.902618   \n",
       "estimated_hesitant_or_unsure                     0.855796   \n",
       "estimated_strongly_hesitant                      1.000000   \n",
       "percent_adults_fully                             0.089891   \n",
       "\n",
       "                              percent_adults_fully  \n",
       "social_vulnerability_index                0.419174  \n",
       "estimated_hesitant                        0.044983  \n",
       "estimated_hesitant_or_unsure             -0.075386  \n",
       "estimated_strongly_hesitant               0.089891  \n",
       "percent_adults_fully                      1.000000  "
      ]
     },
     "execution_count": 60,
     "metadata": {},
     "output_type": "execute_result"
    },
    {
     "data": {
      "application/javascript": [
       "\n",
       "            setTimeout(function() {\n",
       "                var nbb_cell_id = 60;\n",
       "                var nbb_unformatted_code = \"strongly_hes.corr(method = \\\"spearman\\\")\";\n",
       "                var nbb_formatted_code = \"strongly_hes.corr(method=\\\"spearman\\\")\";\n",
       "                var nbb_cells = Jupyter.notebook.get_cells();\n",
       "                for (var i = 0; i < nbb_cells.length; ++i) {\n",
       "                    if (nbb_cells[i].input_prompt_number == nbb_cell_id) {\n",
       "                        if (nbb_cells[i].get_text() == nbb_unformatted_code) {\n",
       "                             nbb_cells[i].set_text(nbb_formatted_code);\n",
       "                        }\n",
       "                        break;\n",
       "                    }\n",
       "                }\n",
       "            }, 500);\n",
       "            "
      ],
      "text/plain": [
       "<IPython.core.display.Javascript object>"
      ]
     },
     "metadata": {},
     "output_type": "display_data"
    }
   ],
   "source": [
    "strongly_hes.corr(method=\"spearman\")"
   ]
  },
  {
   "cell_type": "markdown",
   "id": "bbc13602",
   "metadata": {},
   "source": [
    "#### Value Interpretation\n",
    "Now, I want to look into the 100 counties with the lowest vaccination rate to explore some possible reasons as to why it's the lowest. "
   ]
  },
  {
   "cell_type": "code",
   "execution_count": 28,
   "id": "07799bba",
   "metadata": {},
   "outputs": [
    {
     "data": {
      "text/html": [
       "<div>\n",
       "<style scoped>\n",
       "    .dataframe tbody tr th:only-of-type {\n",
       "        vertical-align: middle;\n",
       "    }\n",
       "\n",
       "    .dataframe tbody tr th {\n",
       "        vertical-align: top;\n",
       "    }\n",
       "\n",
       "    .dataframe thead th {\n",
       "        text-align: right;\n",
       "    }\n",
       "</style>\n",
       "<table border=\"1\" class=\"dataframe\">\n",
       "  <thead>\n",
       "    <tr style=\"text-align: right;\">\n",
       "      <th></th>\n",
       "      <th>fips_code</th>\n",
       "      <th>county_name</th>\n",
       "      <th>state</th>\n",
       "      <th>social_vulnerability_index</th>\n",
       "      <th>cvac_category</th>\n",
       "      <th>estimated_hesitant</th>\n",
       "      <th>estimated_hesitant_or_unsure</th>\n",
       "      <th>estimated_strongly_hesitant</th>\n",
       "      <th>percent_adults_fully</th>\n",
       "    </tr>\n",
       "  </thead>\n",
       "  <tbody>\n",
       "    <tr>\n",
       "      <th>0</th>\n",
       "      <td>51590</td>\n",
       "      <td>Danville city, Virginia</td>\n",
       "      <td>VIRGINIA</td>\n",
       "      <td>0.96</td>\n",
       "      <td>Moderate Concern</td>\n",
       "      <td>0.0672</td>\n",
       "      <td>0.1388</td>\n",
       "      <td>0.0461</td>\n",
       "      <td>0.001</td>\n",
       "    </tr>\n",
       "    <tr>\n",
       "      <th>1</th>\n",
       "      <td>51690</td>\n",
       "      <td>Martinsville city, Virginia</td>\n",
       "      <td>VIRGINIA</td>\n",
       "      <td>0.91</td>\n",
       "      <td>Moderate Concern</td>\n",
       "      <td>0.0672</td>\n",
       "      <td>0.1388</td>\n",
       "      <td>0.0461</td>\n",
       "      <td>0.002</td>\n",
       "    </tr>\n",
       "    <tr>\n",
       "      <th>2</th>\n",
       "      <td>51680</td>\n",
       "      <td>Lynchburg city, Virginia</td>\n",
       "      <td>VIRGINIA</td>\n",
       "      <td>0.74</td>\n",
       "      <td>Low Concern</td>\n",
       "      <td>0.0668</td>\n",
       "      <td>0.1405</td>\n",
       "      <td>0.0457</td>\n",
       "      <td>0.007</td>\n",
       "    </tr>\n",
       "    <tr>\n",
       "      <th>3</th>\n",
       "      <td>51570</td>\n",
       "      <td>Colonial Heights city, Virginia</td>\n",
       "      <td>VIRGINIA</td>\n",
       "      <td>0.57</td>\n",
       "      <td>Low Concern</td>\n",
       "      <td>0.0682</td>\n",
       "      <td>0.1444</td>\n",
       "      <td>0.0469</td>\n",
       "      <td>0.008</td>\n",
       "    </tr>\n",
       "    <tr>\n",
       "      <th>4</th>\n",
       "      <td>51820</td>\n",
       "      <td>Waynesboro city, Virginia</td>\n",
       "      <td>VIRGINIA</td>\n",
       "      <td>0.60</td>\n",
       "      <td>Low Concern</td>\n",
       "      <td>0.0678</td>\n",
       "      <td>0.1359</td>\n",
       "      <td>0.0467</td>\n",
       "      <td>0.009</td>\n",
       "    </tr>\n",
       "    <tr>\n",
       "      <th>...</th>\n",
       "      <td>...</td>\n",
       "      <td>...</td>\n",
       "      <td>...</td>\n",
       "      <td>...</td>\n",
       "      <td>...</td>\n",
       "      <td>...</td>\n",
       "      <td>...</td>\n",
       "      <td>...</td>\n",
       "      <td>...</td>\n",
       "    </tr>\n",
       "    <tr>\n",
       "      <th>95</th>\n",
       "      <td>13213</td>\n",
       "      <td>Murray County, Georgia</td>\n",
       "      <td>GEORGIA</td>\n",
       "      <td>0.71</td>\n",
       "      <td>Very High Concern</td>\n",
       "      <td>0.1688</td>\n",
       "      <td>0.2387</td>\n",
       "      <td>0.1080</td>\n",
       "      <td>0.080</td>\n",
       "    </tr>\n",
       "    <tr>\n",
       "      <th>96</th>\n",
       "      <td>54103</td>\n",
       "      <td>Wetzel County, West Virginia</td>\n",
       "      <td>WEST VIRGINIA</td>\n",
       "      <td>0.48</td>\n",
       "      <td>Moderate Concern</td>\n",
       "      <td>0.1072</td>\n",
       "      <td>0.1710</td>\n",
       "      <td>0.0822</td>\n",
       "      <td>0.082</td>\n",
       "    </tr>\n",
       "    <tr>\n",
       "      <th>97</th>\n",
       "      <td>13255</td>\n",
       "      <td>Spalding County, Georgia</td>\n",
       "      <td>GEORGIA</td>\n",
       "      <td>0.87</td>\n",
       "      <td>High Concern</td>\n",
       "      <td>0.1683</td>\n",
       "      <td>0.2448</td>\n",
       "      <td>0.1072</td>\n",
       "      <td>0.084</td>\n",
       "    </tr>\n",
       "    <tr>\n",
       "      <th>98</th>\n",
       "      <td>13099</td>\n",
       "      <td>Early County, Georgia</td>\n",
       "      <td>GEORGIA</td>\n",
       "      <td>0.92</td>\n",
       "      <td>Very High Concern</td>\n",
       "      <td>0.1784</td>\n",
       "      <td>0.2645</td>\n",
       "      <td>0.1148</td>\n",
       "      <td>0.085</td>\n",
       "    </tr>\n",
       "    <tr>\n",
       "      <th>99</th>\n",
       "      <td>13239</td>\n",
       "      <td>Quitman County, Georgia</td>\n",
       "      <td>GEORGIA</td>\n",
       "      <td>0.94</td>\n",
       "      <td>Very High Concern</td>\n",
       "      <td>0.1556</td>\n",
       "      <td>0.2329</td>\n",
       "      <td>0.0991</td>\n",
       "      <td>0.087</td>\n",
       "    </tr>\n",
       "  </tbody>\n",
       "</table>\n",
       "<p>100 rows × 9 columns</p>\n",
       "</div>"
      ],
      "text/plain": [
       "   fips_code                      county_name          state  \\\n",
       "0      51590          Danville city, Virginia       VIRGINIA   \n",
       "1      51690      Martinsville city, Virginia       VIRGINIA   \n",
       "2      51680         Lynchburg city, Virginia       VIRGINIA   \n",
       "3      51570  Colonial Heights city, Virginia       VIRGINIA   \n",
       "4      51820        Waynesboro city, Virginia       VIRGINIA   \n",
       "..       ...                              ...            ...   \n",
       "95     13213           Murray County, Georgia        GEORGIA   \n",
       "96     54103     Wetzel County, West Virginia  WEST VIRGINIA   \n",
       "97     13255         Spalding County, Georgia        GEORGIA   \n",
       "98     13099            Early County, Georgia        GEORGIA   \n",
       "99     13239          Quitman County, Georgia        GEORGIA   \n",
       "\n",
       "    social_vulnerability_index      cvac_category  estimated_hesitant  \\\n",
       "0                         0.96   Moderate Concern              0.0672   \n",
       "1                         0.91   Moderate Concern              0.0672   \n",
       "2                         0.74        Low Concern              0.0668   \n",
       "3                         0.57        Low Concern              0.0682   \n",
       "4                         0.60        Low Concern              0.0678   \n",
       "..                         ...                ...                 ...   \n",
       "95                        0.71  Very High Concern              0.1688   \n",
       "96                        0.48   Moderate Concern              0.1072   \n",
       "97                        0.87       High Concern              0.1683   \n",
       "98                        0.92  Very High Concern              0.1784   \n",
       "99                        0.94  Very High Concern              0.1556   \n",
       "\n",
       "    estimated_hesitant_or_unsure  estimated_strongly_hesitant  \\\n",
       "0                         0.1388                       0.0461   \n",
       "1                         0.1388                       0.0461   \n",
       "2                         0.1405                       0.0457   \n",
       "3                         0.1444                       0.0469   \n",
       "4                         0.1359                       0.0467   \n",
       "..                           ...                          ...   \n",
       "95                        0.2387                       0.1080   \n",
       "96                        0.1710                       0.0822   \n",
       "97                        0.2448                       0.1072   \n",
       "98                        0.2645                       0.1148   \n",
       "99                        0.2329                       0.0991   \n",
       "\n",
       "    percent_adults_fully  \n",
       "0                  0.001  \n",
       "1                  0.002  \n",
       "2                  0.007  \n",
       "3                  0.008  \n",
       "4                  0.009  \n",
       "..                   ...  \n",
       "95                 0.080  \n",
       "96                 0.082  \n",
       "97                 0.084  \n",
       "98                 0.085  \n",
       "99                 0.087  \n",
       "\n",
       "[100 rows x 9 columns]"
      ]
     },
     "execution_count": 28,
     "metadata": {},
     "output_type": "execute_result"
    },
    {
     "data": {
      "application/javascript": [
       "\n",
       "            setTimeout(function() {\n",
       "                var nbb_cell_id = 28;\n",
       "                var nbb_unformatted_code = \"lowest_vax = hes_vax_rate.nsmallest(100, \\\"percent_adults_fully\\\")\\nlowest_vax = lowest_vax.reset_index(drop=True)\\nlowest_vax\";\n",
       "                var nbb_formatted_code = \"lowest_vax = hes_vax_rate.nsmallest(100, \\\"percent_adults_fully\\\")\\nlowest_vax = lowest_vax.reset_index(drop=True)\\nlowest_vax\";\n",
       "                var nbb_cells = Jupyter.notebook.get_cells();\n",
       "                for (var i = 0; i < nbb_cells.length; ++i) {\n",
       "                    if (nbb_cells[i].input_prompt_number == nbb_cell_id) {\n",
       "                        if (nbb_cells[i].get_text() == nbb_unformatted_code) {\n",
       "                             nbb_cells[i].set_text(nbb_formatted_code);\n",
       "                        }\n",
       "                        break;\n",
       "                    }\n",
       "                }\n",
       "            }, 500);\n",
       "            "
      ],
      "text/plain": [
       "<IPython.core.display.Javascript object>"
      ]
     },
     "metadata": {},
     "output_type": "display_data"
    }
   ],
   "source": [
    "lowest_vax = hes_vax_rate.nsmallest(100, \"percent_adults_fully\")\n",
    "lowest_vax = lowest_vax.reset_index(drop=True)\n",
    "lowest_vax"
   ]
  },
  {
   "cell_type": "code",
   "execution_count": 29,
   "id": "4643ddd7",
   "metadata": {},
   "outputs": [
    {
     "data": {
      "image/png": "[encoded data removed]",
      "text/plain": [
       "<Figure size 640x480 with 1 Axes>"
      ]
     },
     "metadata": {},
     "output_type": "display_data"
    },
    {
     "data": {
      "text/plain": [
       "<ggplot: (8762658472798)>"
      ]
     },
     "execution_count": 29,
     "metadata": {},
     "output_type": "execute_result"
    },
    {
     "data": {
      "application/javascript": [
       "\n",
       "            setTimeout(function() {\n",
       "                var nbb_cell_id = 29;\n",
       "                var nbb_unformatted_code = \"gg_vax = p9.ggplot(lowest_vax)\\ngg_vax += p9.aes(\\n    x=\\\"estimated_strongly_hesitant\\\", y=\\\"percent_adults_fully\\\", color=\\\"state\\\"\\n)  # add color mapping\\ngg_vax += p9.geom_point()\\ngg_vax\";\n",
       "                var nbb_formatted_code = \"gg_vax = p9.ggplot(lowest_vax)\\ngg_vax += p9.aes(\\n    x=\\\"estimated_strongly_hesitant\\\", y=\\\"percent_adults_fully\\\", color=\\\"state\\\"\\n)  # add color mapping\\ngg_vax += p9.geom_point()\\ngg_vax\";\n",
       "                var nbb_cells = Jupyter.notebook.get_cells();\n",
       "                for (var i = 0; i < nbb_cells.length; ++i) {\n",
       "                    if (nbb_cells[i].input_prompt_number == nbb_cell_id) {\n",
       "                        if (nbb_cells[i].get_text() == nbb_unformatted_code) {\n",
       "                             nbb_cells[i].set_text(nbb_formatted_code);\n",
       "                        }\n",
       "                        break;\n",
       "                    }\n",
       "                }\n",
       "            }, 500);\n",
       "            "
      ],
      "text/plain": [
       "<IPython.core.display.Javascript object>"
      ]
     },
     "metadata": {},
     "output_type": "display_data"
    }
   ],
   "source": [
    "gg_vax = p9.ggplot(lowest_vax)\n",
    "gg_vax += p9.aes(\n",
    "    x=\"estimated_strongly_hesitant\", y=\"percent_adults_fully\", color=\"state\"\n",
    ")  # add color mapping\n",
    "gg_vax += p9.geom_point()\n",
    "gg_vax"
   ]
  },
  {
   "cell_type": "code",
   "execution_count": 30,
   "id": "51adea5d",
   "metadata": {},
   "outputs": [
    {
     "data": {
      "text/plain": [
       "Very High Concern    29\n",
       "Low Concern          21\n",
       "Moderate Concern     20\n",
       "Very Low Concern     15\n",
       "High Concern         15\n",
       "Name: cvac_category, dtype: int64"
      ]
     },
     "execution_count": 30,
     "metadata": {},
     "output_type": "execute_result"
    },
    {
     "data": {
      "application/javascript": [
       "\n",
       "            setTimeout(function() {\n",
       "                var nbb_cell_id = 30;\n",
       "                var nbb_unformatted_code = \"lowest_vax[\\\"cvac_category\\\"].value_counts()\";\n",
       "                var nbb_formatted_code = \"lowest_vax[\\\"cvac_category\\\"].value_counts()\";\n",
       "                var nbb_cells = Jupyter.notebook.get_cells();\n",
       "                for (var i = 0; i < nbb_cells.length; ++i) {\n",
       "                    if (nbb_cells[i].input_prompt_number == nbb_cell_id) {\n",
       "                        if (nbb_cells[i].get_text() == nbb_unformatted_code) {\n",
       "                             nbb_cells[i].set_text(nbb_formatted_code);\n",
       "                        }\n",
       "                        break;\n",
       "                    }\n",
       "                }\n",
       "            }, 500);\n",
       "            "
      ],
      "text/plain": [
       "<IPython.core.display.Javascript object>"
      ]
     },
     "metadata": {},
     "output_type": "display_data"
    }
   ],
   "source": [
    "lowest_vax[\"cvac_category\"].value_counts()"
   ]
  },
  {
   "cell_type": "code",
   "execution_count": 31,
   "id": "ecf75637",
   "metadata": {},
   "outputs": [
    {
     "data": {
      "text/plain": [
       "0.5841999999999999"
      ]
     },
     "execution_count": 31,
     "metadata": {},
     "output_type": "execute_result"
    },
    {
     "data": {
      "application/javascript": [
       "\n",
       "            setTimeout(function() {\n",
       "                var nbb_cell_id = 31;\n",
       "                var nbb_unformatted_code = \"lowest_vax[\\\"social_vulnerability_index\\\"].mean()\";\n",
       "                var nbb_formatted_code = \"lowest_vax[\\\"social_vulnerability_index\\\"].mean()\";\n",
       "                var nbb_cells = Jupyter.notebook.get_cells();\n",
       "                for (var i = 0; i < nbb_cells.length; ++i) {\n",
       "                    if (nbb_cells[i].input_prompt_number == nbb_cell_id) {\n",
       "                        if (nbb_cells[i].get_text() == nbb_unformatted_code) {\n",
       "                             nbb_cells[i].set_text(nbb_formatted_code);\n",
       "                        }\n",
       "                        break;\n",
       "                    }\n",
       "                }\n",
       "            }, 500);\n",
       "            "
      ],
      "text/plain": [
       "<IPython.core.display.Javascript object>"
      ]
     },
     "metadata": {},
     "output_type": "display_data"
    }
   ],
   "source": [
    "lowest_vax[\"social_vulnerability_index\"].mean()"
   ]
  },
  {
   "cell_type": "code",
   "execution_count": null,
   "id": "5e888d09",
   "metadata": {},
   "outputs": [],
   "source": []
  }
 ],
 "metadata": {
  "kernelspec": {
   "display_name": "Python 3",
   "language": "python",
   "name": "python3"
  },
  "language_info": {
   "codemirror_mode": {
    "name": "ipython",
    "version": 3
   },
   "file_extension": ".py",
   "mimetype": "text/x-python",
   "name": "python",
   "nbconvert_exporter": "python",
   "pygments_lexer": "ipython3",
   "version": "3.8.8"
  }
 },
 "nbformat": 4,
 "nbformat_minor": 5
}
