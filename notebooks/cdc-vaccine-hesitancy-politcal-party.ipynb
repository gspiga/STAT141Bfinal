{
 "cells": [
  {
   "cell_type": "code",
   "execution_count": 2,
   "id": "c7082d13",
   "metadata": {},
   "outputs": [
    {
     "data": {
      "application/javascript": [
       "\n",
       "            setTimeout(function() {\n",
       "                var nbb_cell_id = 2;\n",
       "                var nbb_unformatted_code = \"%load_ext nb_black\";\n",
       "                var nbb_formatted_code = \"%load_ext nb_black\";\n",
       "                var nbb_cells = Jupyter.notebook.get_cells();\n",
       "                for (var i = 0; i < nbb_cells.length; ++i) {\n",
       "                    if (nbb_cells[i].input_prompt_number == nbb_cell_id) {\n",
       "                        if (nbb_cells[i].get_text() == nbb_unformatted_code) {\n",
       "                             nbb_cells[i].set_text(nbb_formatted_code);\n",
       "                        }\n",
       "                        break;\n",
       "                    }\n",
       "                }\n",
       "            }, 500);\n",
       "            "
      ],
      "text/plain": [
       "<IPython.core.display.Javascript object>"
      ]
     },
     "metadata": {},
     "output_type": "display_data"
    }
   ],
   "source": [
    "%load_ext nb_black"
   ]
  },
  {
   "cell_type": "code",
   "execution_count": 3,
   "id": "41452885",
   "metadata": {},
   "outputs": [
    {
     "data": {
      "application/javascript": [
       "\n",
       "            setTimeout(function() {\n",
       "                var nbb_cell_id = 3;\n",
       "                var nbb_unformatted_code = \"import requests\\nimport pandas as pd\\nimport numpy as np\\nimport sqlalchemy as sqla\\nimport plotnine as p9\\nimport seaborn as sns\";\n",
       "                var nbb_formatted_code = \"import requests\\nimport pandas as pd\\nimport numpy as np\\nimport sqlalchemy as sqla\\nimport plotnine as p9\\nimport seaborn as sns\";\n",
       "                var nbb_cells = Jupyter.notebook.get_cells();\n",
       "                for (var i = 0; i < nbb_cells.length; ++i) {\n",
       "                    if (nbb_cells[i].input_prompt_number == nbb_cell_id) {\n",
       "                        if (nbb_cells[i].get_text() == nbb_unformatted_code) {\n",
       "                             nbb_cells[i].set_text(nbb_formatted_code);\n",
       "                        }\n",
       "                        break;\n",
       "                    }\n",
       "                }\n",
       "            }, 500);\n",
       "            "
      ],
      "text/plain": [
       "<IPython.core.display.Javascript object>"
      ]
     },
     "metadata": {},
     "output_type": "display_data"
    }
   ],
   "source": [
    "import requests\n",
    "import pandas as pd\n",
    "import numpy as np\n",
    "import sqlalchemy as sqla\n",
    "import plotnine as p9\n",
    "import seaborn as sns"
   ]
  },
  {
   "cell_type": "code",
   "execution_count": 12,
   "id": "6da1569c",
   "metadata": {},
   "outputs": [
    {
     "name": "stdout",
     "output_type": "stream",
     "text": [
      "<class 'pandas.core.frame.DataFrame'>\n",
      "RangeIndex: 3142 entries, 0 to 3141\n",
      "Data columns (total 23 columns):\n",
      " #   Column                         Non-Null Count  Dtype \n",
      "---  ------                         --------------  ----- \n",
      " 0   fips_code                      3142 non-null   object\n",
      " 1   county_name                    3142 non-null   object\n",
      " 2   state                          3142 non-null   object\n",
      " 3   estimated_hesitant             3142 non-null   object\n",
      " 4   estimated_hesitant_or_unsure   3142 non-null   object\n",
      " 5   estimated_strongly_hesitant    3142 non-null   object\n",
      " 6   social_vulnerability_index     3141 non-null   object\n",
      " 7   svi_category                   3141 non-null   object\n",
      " 8   ability_to_handle_a_covid      3142 non-null   object\n",
      " 9   cvac_category                  3142 non-null   object\n",
      " 10  percent_adults_fully           2864 non-null   object\n",
      " 11  percent_hispanic               3142 non-null   object\n",
      " 12  percent_non_hispanic_american  3142 non-null   object\n",
      " 13  percent_non_hispanic_asian     3142 non-null   object\n",
      " 14  percent_non_hispanic_black     3142 non-null   object\n",
      " 15  percent_non_hispanic_native    3142 non-null   object\n",
      " 16  percent_non_hispanic_white     3142 non-null   object\n",
      " 17  geographical_point             3142 non-null   object\n",
      " 18  state_code                     3142 non-null   object\n",
      " 19  county_boundary                3141 non-null   object\n",
      " 20  state_boundary                 3141 non-null   object\n",
      " 21  :@computed_region_hjsp_umg2    3142 non-null   object\n",
      " 22  :@computed_region_skr5_azej    3142 non-null   object\n",
      "dtypes: object(23)\n",
      "memory usage: 564.7+ KB\n"
     ]
    },
    {
     "data": {
      "application/javascript": [
       "\n",
       "            setTimeout(function() {\n",
       "                var nbb_cell_id = 12;\n",
       "                var nbb_unformatted_code = \"# Request hesitancy data\\nhesitancy_endpoint = \\\"https://data.cdc.gov/resource/q9mh-h2tw.json?$limit=4000\\\"\\nr = requests.get(hesitancy_endpoint)\\nhesitancy_df = pd.DataFrame(r.json())\\nhesitancy_df.info()\";\n",
       "                var nbb_formatted_code = \"# Request hesitancy data\\nhesitancy_endpoint = \\\"https://data.cdc.gov/resource/q9mh-h2tw.json?$limit=4000\\\"\\nr = requests.get(hesitancy_endpoint)\\nhesitancy_df = pd.DataFrame(r.json())\\nhesitancy_df.info()\";\n",
       "                var nbb_cells = Jupyter.notebook.get_cells();\n",
       "                for (var i = 0; i < nbb_cells.length; ++i) {\n",
       "                    if (nbb_cells[i].input_prompt_number == nbb_cell_id) {\n",
       "                        if (nbb_cells[i].get_text() == nbb_unformatted_code) {\n",
       "                             nbb_cells[i].set_text(nbb_formatted_code);\n",
       "                        }\n",
       "                        break;\n",
       "                    }\n",
       "                }\n",
       "            }, 500);\n",
       "            "
      ],
      "text/plain": [
       "<IPython.core.display.Javascript object>"
      ]
     },
     "metadata": {},
     "output_type": "display_data"
    }
   ],
   "source": [
    "# Request hesitancy data\n",
    "hesitancy_endpoint = \"https://data.cdc.gov/resource/q9mh-h2tw.json?$limit=4000\"\n",
    "r = requests.get(hesitancy_endpoint)\n",
    "hesitancy_df = pd.DataFrame(r.json())\n",
    "hesitancy_df.info()"
   ]
  },
  {
   "cell_type": "code",
   "execution_count": 5,
   "id": "8a56bdfc",
   "metadata": {},
   "outputs": [
    {
     "data": {
      "text/plain": [
       "(3142, 23)"
      ]
     },
     "execution_count": 5,
     "metadata": {},
     "output_type": "execute_result"
    },
    {
     "data": {
      "application/javascript": [
       "\n",
       "            setTimeout(function() {\n",
       "                var nbb_cell_id = 5;\n",
       "                var nbb_unformatted_code = \"# Lets see the size of our dataframe\\nhesitancy_df.shape\";\n",
       "                var nbb_formatted_code = \"# Lets see the size of our dataframe\\nhesitancy_df.shape\";\n",
       "                var nbb_cells = Jupyter.notebook.get_cells();\n",
       "                for (var i = 0; i < nbb_cells.length; ++i) {\n",
       "                    if (nbb_cells[i].input_prompt_number == nbb_cell_id) {\n",
       "                        if (nbb_cells[i].get_text() == nbb_unformatted_code) {\n",
       "                             nbb_cells[i].set_text(nbb_formatted_code);\n",
       "                        }\n",
       "                        break;\n",
       "                    }\n",
       "                }\n",
       "            }, 500);\n",
       "            "
      ],
      "text/plain": [
       "<IPython.core.display.Javascript object>"
      ]
     },
     "metadata": {},
     "output_type": "display_data"
    }
   ],
   "source": [
    "# Lets see the size of our dataframe\n",
    "hesitancy_df.shape"
   ]
  },
  {
   "cell_type": "code",
   "execution_count": 6,
   "id": "436efd24",
   "metadata": {},
   "outputs": [
    {
     "data": {
      "text/html": [
       "<div>\n",
       "<style scoped>\n",
       "    .dataframe tbody tr th:only-of-type {\n",
       "        vertical-align: middle;\n",
       "    }\n",
       "\n",
       "    .dataframe tbody tr th {\n",
       "        vertical-align: top;\n",
       "    }\n",
       "\n",
       "    .dataframe thead th {\n",
       "        text-align: right;\n",
       "    }\n",
       "</style>\n",
       "<table border=\"1\" class=\"dataframe\">\n",
       "  <thead>\n",
       "    <tr style=\"text-align: right;\">\n",
       "      <th></th>\n",
       "      <th>Location</th>\n",
       "      <th>Governor Political Affiliation</th>\n",
       "      <th>State Senate Majority Political Affiliation</th>\n",
       "      <th>State House Majority Political Affiliation</th>\n",
       "      <th>State Attorney General Political Affiliation</th>\n",
       "      <th>State Insurance Commissioner Political Affiliation</th>\n",
       "      <th>Footnotes</th>\n",
       "    </tr>\n",
       "  </thead>\n",
       "  <tbody>\n",
       "    <tr>\n",
       "      <th>0</th>\n",
       "      <td>Alabama</td>\n",
       "      <td>Republican</td>\n",
       "      <td>Republican</td>\n",
       "      <td>Republican</td>\n",
       "      <td>Republican</td>\n",
       "      <td>Appointed</td>\n",
       "      <td>NaN</td>\n",
       "    </tr>\n",
       "    <tr>\n",
       "      <th>1</th>\n",
       "      <td>Alaska</td>\n",
       "      <td>Republican</td>\n",
       "      <td>Republican</td>\n",
       "      <td>Republican</td>\n",
       "      <td>Appointed</td>\n",
       "      <td>Appointed</td>\n",
       "      <td>NaN</td>\n",
       "    </tr>\n",
       "    <tr>\n",
       "      <th>2</th>\n",
       "      <td>Arizona</td>\n",
       "      <td>Republican</td>\n",
       "      <td>Republican</td>\n",
       "      <td>Republican</td>\n",
       "      <td>Republican</td>\n",
       "      <td>Appointed</td>\n",
       "      <td>NaN</td>\n",
       "    </tr>\n",
       "    <tr>\n",
       "      <th>3</th>\n",
       "      <td>Arkansas</td>\n",
       "      <td>Republican</td>\n",
       "      <td>Republican</td>\n",
       "      <td>Republican</td>\n",
       "      <td>Republican</td>\n",
       "      <td>Appointed</td>\n",
       "      <td>NaN</td>\n",
       "    </tr>\n",
       "    <tr>\n",
       "      <th>4</th>\n",
       "      <td>California</td>\n",
       "      <td>Democrat</td>\n",
       "      <td>Democrat</td>\n",
       "      <td>Democrat</td>\n",
       "      <td>Democrat</td>\n",
       "      <td>Democrat</td>\n",
       "      <td>NaN</td>\n",
       "    </tr>\n",
       "  </tbody>\n",
       "</table>\n",
       "</div>"
      ],
      "text/plain": [
       "     Location Governor Political Affiliation  \\\n",
       "0     Alabama                     Republican   \n",
       "1      Alaska                     Republican   \n",
       "2     Arizona                     Republican   \n",
       "3    Arkansas                     Republican   \n",
       "4  California                       Democrat   \n",
       "\n",
       "  State Senate Majority Political Affiliation  \\\n",
       "0                                  Republican   \n",
       "1                                  Republican   \n",
       "2                                  Republican   \n",
       "3                                  Republican   \n",
       "4                                    Democrat   \n",
       "\n",
       "  State House Majority Political Affiliation  \\\n",
       "0                                 Republican   \n",
       "1                                 Republican   \n",
       "2                                 Republican   \n",
       "3                                 Republican   \n",
       "4                                   Democrat   \n",
       "\n",
       "  State Attorney General Political Affiliation  \\\n",
       "0                                   Republican   \n",
       "1                                    Appointed   \n",
       "2                                   Republican   \n",
       "3                                   Republican   \n",
       "4                                     Democrat   \n",
       "\n",
       "  State Insurance Commissioner Political Affiliation  Footnotes  \n",
       "0                                          Appointed        NaN  \n",
       "1                                          Appointed        NaN  \n",
       "2                                          Appointed        NaN  \n",
       "3                                          Appointed        NaN  \n",
       "4                                           Democrat        NaN  "
      ]
     },
     "execution_count": 6,
     "metadata": {},
     "output_type": "execute_result"
    },
    {
     "data": {
      "application/javascript": [
       "\n",
       "            setTimeout(function() {\n",
       "                var nbb_cell_id = 6;\n",
       "                var nbb_unformatted_code = \"# Extracting political party data from our public github\\nurl = \\\"https://raw.githubusercontent.com/gspiga/STAT141Bfinal/main/data/raw_data.csv\\\"\\npoli_df = pd.read_csv(url)\\npoli_df.head()\";\n",
       "                var nbb_formatted_code = \"# Extracting political party data from our public github\\nurl = \\\"https://raw.githubusercontent.com/gspiga/STAT141Bfinal/main/data/raw_data.csv\\\"\\npoli_df = pd.read_csv(url)\\npoli_df.head()\";\n",
       "                var nbb_cells = Jupyter.notebook.get_cells();\n",
       "                for (var i = 0; i < nbb_cells.length; ++i) {\n",
       "                    if (nbb_cells[i].input_prompt_number == nbb_cell_id) {\n",
       "                        if (nbb_cells[i].get_text() == nbb_unformatted_code) {\n",
       "                             nbb_cells[i].set_text(nbb_formatted_code);\n",
       "                        }\n",
       "                        break;\n",
       "                    }\n",
       "                }\n",
       "            }, 500);\n",
       "            "
      ],
      "text/plain": [
       "<IPython.core.display.Javascript object>"
      ]
     },
     "metadata": {},
     "output_type": "display_data"
    }
   ],
   "source": [
    "# Extracting political party data from our public github\n",
    "url = \"https://raw.githubusercontent.com/gspiga/STAT141Bfinal/main/data/raw_data.csv\"\n",
    "poli_df = pd.read_csv(url)\n",
    "poli_df.head()"
   ]
  },
  {
   "cell_type": "code",
   "execution_count": 7,
   "id": "e620c705",
   "metadata": {},
   "outputs": [
    {
     "data": {
      "text/html": [
       "<div>\n",
       "<style scoped>\n",
       "    .dataframe tbody tr th:only-of-type {\n",
       "        vertical-align: middle;\n",
       "    }\n",
       "\n",
       "    .dataframe tbody tr th {\n",
       "        vertical-align: top;\n",
       "    }\n",
       "\n",
       "    .dataframe thead th {\n",
       "        text-align: right;\n",
       "    }\n",
       "</style>\n",
       "<table border=\"1\" class=\"dataframe\">\n",
       "  <thead>\n",
       "    <tr style=\"text-align: right;\">\n",
       "      <th></th>\n",
       "      <th>Location</th>\n",
       "      <th>Governor Political Affiliation</th>\n",
       "      <th>State Senate Majority Political Affiliation</th>\n",
       "      <th>State House Majority Political Affiliation</th>\n",
       "      <th>State Attorney General Political Affiliation</th>\n",
       "      <th>State Insurance Commissioner Political Affiliation</th>\n",
       "      <th>Footnotes</th>\n",
       "    </tr>\n",
       "  </thead>\n",
       "  <tbody>\n",
       "    <tr>\n",
       "      <th>0</th>\n",
       "      <td>ALABAMA</td>\n",
       "      <td>Republican</td>\n",
       "      <td>Republican</td>\n",
       "      <td>Republican</td>\n",
       "      <td>Republican</td>\n",
       "      <td>Appointed</td>\n",
       "      <td>NaN</td>\n",
       "    </tr>\n",
       "    <tr>\n",
       "      <th>1</th>\n",
       "      <td>ALASKA</td>\n",
       "      <td>Republican</td>\n",
       "      <td>Republican</td>\n",
       "      <td>Republican</td>\n",
       "      <td>Appointed</td>\n",
       "      <td>Appointed</td>\n",
       "      <td>NaN</td>\n",
       "    </tr>\n",
       "    <tr>\n",
       "      <th>2</th>\n",
       "      <td>ARIZONA</td>\n",
       "      <td>Republican</td>\n",
       "      <td>Republican</td>\n",
       "      <td>Republican</td>\n",
       "      <td>Republican</td>\n",
       "      <td>Appointed</td>\n",
       "      <td>NaN</td>\n",
       "    </tr>\n",
       "    <tr>\n",
       "      <th>3</th>\n",
       "      <td>ARKANSAS</td>\n",
       "      <td>Republican</td>\n",
       "      <td>Republican</td>\n",
       "      <td>Republican</td>\n",
       "      <td>Republican</td>\n",
       "      <td>Appointed</td>\n",
       "      <td>NaN</td>\n",
       "    </tr>\n",
       "    <tr>\n",
       "      <th>4</th>\n",
       "      <td>CALIFORNIA</td>\n",
       "      <td>Democrat</td>\n",
       "      <td>Democrat</td>\n",
       "      <td>Democrat</td>\n",
       "      <td>Democrat</td>\n",
       "      <td>Democrat</td>\n",
       "      <td>NaN</td>\n",
       "    </tr>\n",
       "  </tbody>\n",
       "</table>\n",
       "</div>"
      ],
      "text/plain": [
       "     Location Governor Political Affiliation  \\\n",
       "0     ALABAMA                     Republican   \n",
       "1      ALASKA                     Republican   \n",
       "2     ARIZONA                     Republican   \n",
       "3    ARKANSAS                     Republican   \n",
       "4  CALIFORNIA                       Democrat   \n",
       "\n",
       "  State Senate Majority Political Affiliation  \\\n",
       "0                                  Republican   \n",
       "1                                  Republican   \n",
       "2                                  Republican   \n",
       "3                                  Republican   \n",
       "4                                    Democrat   \n",
       "\n",
       "  State House Majority Political Affiliation  \\\n",
       "0                                 Republican   \n",
       "1                                 Republican   \n",
       "2                                 Republican   \n",
       "3                                 Republican   \n",
       "4                                   Democrat   \n",
       "\n",
       "  State Attorney General Political Affiliation  \\\n",
       "0                                   Republican   \n",
       "1                                    Appointed   \n",
       "2                                   Republican   \n",
       "3                                   Republican   \n",
       "4                                     Democrat   \n",
       "\n",
       "  State Insurance Commissioner Political Affiliation  Footnotes  \n",
       "0                                          Appointed        NaN  \n",
       "1                                          Appointed        NaN  \n",
       "2                                          Appointed        NaN  \n",
       "3                                          Appointed        NaN  \n",
       "4                                           Democrat        NaN  "
      ]
     },
     "execution_count": 7,
     "metadata": {},
     "output_type": "execute_result"
    },
    {
     "data": {
      "application/javascript": [
       "\n",
       "            setTimeout(function() {\n",
       "                var nbb_cell_id = 7;\n",
       "                var nbb_unformatted_code = \"# Changing one column in poli_df to upper case so that we may join them (pandas is case sensitive).\\npoli_df[\\\"Location\\\"] = poli_df[\\\"Location\\\"].apply(\\n    lambda x: x.upper()  # Uppercase all state names\\n)\\npoli_df.head()\";\n",
       "                var nbb_formatted_code = \"# Changing one column in poli_df to upper case so that we may join them (pandas is case sensitive).\\npoli_df[\\\"Location\\\"] = poli_df[\\\"Location\\\"].apply(\\n    lambda x: x.upper()  # Uppercase all state names\\n)\\npoli_df.head()\";\n",
       "                var nbb_cells = Jupyter.notebook.get_cells();\n",
       "                for (var i = 0; i < nbb_cells.length; ++i) {\n",
       "                    if (nbb_cells[i].input_prompt_number == nbb_cell_id) {\n",
       "                        if (nbb_cells[i].get_text() == nbb_unformatted_code) {\n",
       "                             nbb_cells[i].set_text(nbb_formatted_code);\n",
       "                        }\n",
       "                        break;\n",
       "                    }\n",
       "                }\n",
       "            }, 500);\n",
       "            "
      ],
      "text/plain": [
       "<IPython.core.display.Javascript object>"
      ]
     },
     "metadata": {},
     "output_type": "display_data"
    }
   ],
   "source": [
    "# Changing one column in poli_df to upper case so that we may join them (pandas is case sensitive).\n",
    "poli_df[\"Location\"] = poli_df[\"Location\"].apply(\n",
    "    lambda x: x.upper()  # Uppercase all state names\n",
    ")\n",
    "poli_df.head()"
   ]
  },
  {
   "cell_type": "code",
   "execution_count": 8,
   "id": "81aac9ae",
   "metadata": {},
   "outputs": [
    {
     "data": {
      "application/javascript": [
       "\n",
       "            setTimeout(function() {\n",
       "                var nbb_cell_id = 8;\n",
       "                var nbb_unformatted_code = \"# We join the dataframe\\npolihes_df = hesitancy_df.merge(poli_df, left_on=\\\"state\\\", right_on=\\\"Location\\\")\\n\\n# Have to change decimal values from string to numeric\\ncols = [\\n    \\\"estimated_hesitant\\\",\\n    \\\"estimated_hesitant_or_unsure\\\",\\n    \\\"estimated_strongly_hesitant\\\",\\n    \\\"estimated_strongly_hesitant\\\",\\n    \\\"social_vulnerability_index\\\",\\n    \\\"ability_to_handle_a_covid\\\",\\n    \\\"percent_hispanic\\\",\\n    \\\"percent_non_hispanic_asian\\\",\\n    \\\"percent_non_hispanic_black\\\",\\n    \\\"percent_non_hispanic_native\\\",\\n    \\\"percent_non_hispanic_white\\\",\\n]\\npolihes_df[cols] = polihes_df[cols].apply(pd.to_numeric, errors=\\\"coerce\\\", axis=1)\";\n",
       "                var nbb_formatted_code = \"# We join the dataframe\\npolihes_df = hesitancy_df.merge(poli_df, left_on=\\\"state\\\", right_on=\\\"Location\\\")\\n\\n# Have to change decimal values from string to numeric\\ncols = [\\n    \\\"estimated_hesitant\\\",\\n    \\\"estimated_hesitant_or_unsure\\\",\\n    \\\"estimated_strongly_hesitant\\\",\\n    \\\"estimated_strongly_hesitant\\\",\\n    \\\"social_vulnerability_index\\\",\\n    \\\"ability_to_handle_a_covid\\\",\\n    \\\"percent_hispanic\\\",\\n    \\\"percent_non_hispanic_asian\\\",\\n    \\\"percent_non_hispanic_black\\\",\\n    \\\"percent_non_hispanic_native\\\",\\n    \\\"percent_non_hispanic_white\\\",\\n]\\npolihes_df[cols] = polihes_df[cols].apply(pd.to_numeric, errors=\\\"coerce\\\", axis=1)\";\n",
       "                var nbb_cells = Jupyter.notebook.get_cells();\n",
       "                for (var i = 0; i < nbb_cells.length; ++i) {\n",
       "                    if (nbb_cells[i].input_prompt_number == nbb_cell_id) {\n",
       "                        if (nbb_cells[i].get_text() == nbb_unformatted_code) {\n",
       "                             nbb_cells[i].set_text(nbb_formatted_code);\n",
       "                        }\n",
       "                        break;\n",
       "                    }\n",
       "                }\n",
       "            }, 500);\n",
       "            "
      ],
      "text/plain": [
       "<IPython.core.display.Javascript object>"
      ]
     },
     "metadata": {},
     "output_type": "display_data"
    }
   ],
   "source": [
    "# We join the dataframe\n",
    "polihes_df = hesitancy_df.merge(poli_df, left_on=\"state\", right_on=\"Location\")\n",
    "\n",
    "# Have to change decimal values from string to numeric\n",
    "cols = [\n",
    "    \"estimated_hesitant\",\n",
    "    \"estimated_hesitant_or_unsure\",\n",
    "    \"estimated_strongly_hesitant\",\n",
    "    \"estimated_strongly_hesitant\",\n",
    "    \"social_vulnerability_index\",\n",
    "    \"ability_to_handle_a_covid\",\n",
    "    \"percent_hispanic\",\n",
    "    \"percent_non_hispanic_asian\",\n",
    "    \"percent_non_hispanic_black\",\n",
    "    \"percent_non_hispanic_native\",\n",
    "    \"percent_non_hispanic_white\",\n",
    "]\n",
    "polihes_df[cols] = polihes_df[cols].apply(pd.to_numeric, errors=\"coerce\", axis=1)"
   ]
  },
  {
   "cell_type": "code",
   "execution_count": 9,
   "id": "2d2f1515",
   "metadata": {},
   "outputs": [
    {
     "data": {
      "text/plain": [
       "<seaborn.axisgrid.FacetGrid at 0x20f8a3981c0>"
      ]
     },
     "execution_count": 9,
     "metadata": {},
     "output_type": "execute_result"
    },
    {
     "data": {
      "image/png": "[encoded data removed]",
      "text/plain": [
       "<Figure size 506.75x360 with 1 Axes>"
      ]
     },
     "metadata": {
      "needs_background": "light"
     },
     "output_type": "display_data"
    },
    {
     "data": {
      "application/javascript": [
       "\n",
       "            setTimeout(function() {\n",
       "                var nbb_cell_id = 9;\n",
       "                var nbb_unformatted_code = \"# Lets look at the distributions of over all hesitancy\\n# p9.ggplot(polihes_df, p9.aes(x = 'estimated_hesitant', y = ..density.., fill = 'Governor Political Affiliation', color = 'Governor Political Affiliation' )) + p9.geom_density(alpha = 0.3)\\n# Creating custom color pallete\\ncolors = [\\\"#FF0B04\\\", \\\"#4374B3\\\"]\\nsns.set_palette(sns.color_palette(colors))\\n\\npoli_dens = sns.displot(\\n    data=polihes_df,\\n    x=\\\"estimated_hesitant\\\",\\n    hue=\\\"Governor Political Affiliation\\\",\\n    fill=True,\\n    kind=\\\"kde\\\",\\n)\\npoli_dens.set(xlabel=\\\"Estimated Hesitancy\\\")\";\n",
       "                var nbb_formatted_code = \"# Lets look at the distributions of over all hesitancy\\n# p9.ggplot(polihes_df, p9.aes(x = 'estimated_hesitant', y = ..density.., fill = 'Governor Political Affiliation', color = 'Governor Political Affiliation' )) + p9.geom_density(alpha = 0.3)\\n# Creating custom color pallete\\ncolors = [\\\"#FF0B04\\\", \\\"#4374B3\\\"]\\nsns.set_palette(sns.color_palette(colors))\\n\\npoli_dens = sns.displot(\\n    data=polihes_df,\\n    x=\\\"estimated_hesitant\\\",\\n    hue=\\\"Governor Political Affiliation\\\",\\n    fill=True,\\n    kind=\\\"kde\\\",\\n)\\npoli_dens.set(xlabel=\\\"Estimated Hesitancy\\\")\";\n",
       "                var nbb_cells = Jupyter.notebook.get_cells();\n",
       "                for (var i = 0; i < nbb_cells.length; ++i) {\n",
       "                    if (nbb_cells[i].input_prompt_number == nbb_cell_id) {\n",
       "                        if (nbb_cells[i].get_text() == nbb_unformatted_code) {\n",
       "                             nbb_cells[i].set_text(nbb_formatted_code);\n",
       "                        }\n",
       "                        break;\n",
       "                    }\n",
       "                }\n",
       "            }, 500);\n",
       "            "
      ],
      "text/plain": [
       "<IPython.core.display.Javascript object>"
      ]
     },
     "metadata": {},
     "output_type": "display_data"
    }
   ],
   "source": [
    "# Lets look at the distributions of over all hesitancy\n",
    "# p9.ggplot(polihes_df, p9.aes(x = 'estimated_hesitant', y = ..density.., fill = 'Governor Political Affiliation', color = 'Governor Political Affiliation' )) + p9.geom_density(alpha = 0.3)\n",
    "# Creating custom color pallete\n",
    "colors = [\"#FF0B04\", \"#4374B3\"]\n",
    "sns.set_palette(sns.color_palette(colors))\n",
    "\n",
    "poli_dens = sns.displot(\n",
    "    data=polihes_df,\n",
    "    x=\"estimated_hesitant\",\n",
    "    hue=\"Governor Political Affiliation\",\n",
    "    fill=True,\n",
    "    kind=\"kde\",\n",
    ")\n",
    "poli_dens.set(xlabel=\"Estimated Hesitancy\")"
   ]
  },
  {
   "cell_type": "markdown",
   "id": "159fed68",
   "metadata": {},
   "source": [
    "Looking at the distributions of overall estimated hesitancy, we can see that the distribution of democratic led states has a more right skewed distribution while the distribution of Republican led states has a more roughly symmetric distribtuion. Lets observe the means of these groups. "
   ]
  },
  {
   "cell_type": "code",
   "execution_count": 10,
   "id": "5da7da5b",
   "metadata": {},
   "outputs": [
    {
     "data": {
      "text/html": [
       "<div>\n",
       "<style scoped>\n",
       "    .dataframe tbody tr th:only-of-type {\n",
       "        vertical-align: middle;\n",
       "    }\n",
       "\n",
       "    .dataframe tbody tr th {\n",
       "        vertical-align: top;\n",
       "    }\n",
       "\n",
       "    .dataframe thead th {\n",
       "        text-align: right;\n",
       "    }\n",
       "</style>\n",
       "<table border=\"1\" class=\"dataframe\">\n",
       "  <thead>\n",
       "    <tr style=\"text-align: right;\">\n",
       "      <th></th>\n",
       "      <th>estimated_hesitant</th>\n",
       "      <th>estimated_hesitant_or_unsure</th>\n",
       "      <th>estimated_strongly_hesitant</th>\n",
       "      <th>social_vulnerability_index</th>\n",
       "      <th>ability_to_handle_a_covid</th>\n",
       "      <th>percent_hispanic</th>\n",
       "      <th>percent_non_hispanic_asian</th>\n",
       "      <th>percent_non_hispanic_black</th>\n",
       "      <th>percent_non_hispanic_native</th>\n",
       "      <th>percent_non_hispanic_white</th>\n",
       "      <th>Footnotes</th>\n",
       "    </tr>\n",
       "    <tr>\n",
       "      <th>Governor Political Affiliation</th>\n",
       "      <th></th>\n",
       "      <th></th>\n",
       "      <th></th>\n",
       "      <th></th>\n",
       "      <th></th>\n",
       "      <th></th>\n",
       "      <th></th>\n",
       "      <th></th>\n",
       "      <th></th>\n",
       "      <th></th>\n",
       "      <th></th>\n",
       "    </tr>\n",
       "  </thead>\n",
       "  <tbody>\n",
       "    <tr>\n",
       "      <th>Democrat</th>\n",
       "      <td>0.112877</td>\n",
       "      <td>0.169319</td>\n",
       "      <td>0.072663</td>\n",
       "      <td>0.469469</td>\n",
       "      <td>0.395411</td>\n",
       "      <td>0.091480</td>\n",
       "      <td>0.018552</td>\n",
       "      <td>0.074884</td>\n",
       "      <td>0.001201</td>\n",
       "      <td>0.780671</td>\n",
       "      <td>NaN</td>\n",
       "    </tr>\n",
       "    <tr>\n",
       "      <th>Republican</th>\n",
       "      <td>0.146538</td>\n",
       "      <td>0.207053</td>\n",
       "      <td>0.096539</td>\n",
       "      <td>0.521559</td>\n",
       "      <td>0.573851</td>\n",
       "      <td>0.096094</td>\n",
       "      <td>0.010136</td>\n",
       "      <td>0.099417</td>\n",
       "      <td>0.000720</td>\n",
       "      <td>0.749658</td>\n",
       "      <td>NaN</td>\n",
       "    </tr>\n",
       "  </tbody>\n",
       "</table>\n",
       "</div>"
      ],
      "text/plain": [
       "                                estimated_hesitant  \\\n",
       "Governor Political Affiliation                       \n",
       "Democrat                                  0.112877   \n",
       "Republican                                0.146538   \n",
       "\n",
       "                                estimated_hesitant_or_unsure  \\\n",
       "Governor Political Affiliation                                 \n",
       "Democrat                                            0.169319   \n",
       "Republican                                          0.207053   \n",
       "\n",
       "                                estimated_strongly_hesitant  \\\n",
       "Governor Political Affiliation                                \n",
       "Democrat                                           0.072663   \n",
       "Republican                                         0.096539   \n",
       "\n",
       "                                social_vulnerability_index  \\\n",
       "Governor Political Affiliation                               \n",
       "Democrat                                          0.469469   \n",
       "Republican                                        0.521559   \n",
       "\n",
       "                                ability_to_handle_a_covid  percent_hispanic  \\\n",
       "Governor Political Affiliation                                                \n",
       "Democrat                                         0.395411          0.091480   \n",
       "Republican                                       0.573851          0.096094   \n",
       "\n",
       "                                percent_non_hispanic_asian  \\\n",
       "Governor Political Affiliation                               \n",
       "Democrat                                          0.018552   \n",
       "Republican                                        0.010136   \n",
       "\n",
       "                                percent_non_hispanic_black  \\\n",
       "Governor Political Affiliation                               \n",
       "Democrat                                          0.074884   \n",
       "Republican                                        0.099417   \n",
       "\n",
       "                                percent_non_hispanic_native  \\\n",
       "Governor Political Affiliation                                \n",
       "Democrat                                           0.001201   \n",
       "Republican                                         0.000720   \n",
       "\n",
       "                                percent_non_hispanic_white  Footnotes  \n",
       "Governor Political Affiliation                                         \n",
       "Democrat                                          0.780671        NaN  \n",
       "Republican                                        0.749658        NaN  "
      ]
     },
     "execution_count": 10,
     "metadata": {},
     "output_type": "execute_result"
    },
    {
     "data": {
      "application/javascript": [
       "\n",
       "            setTimeout(function() {\n",
       "                var nbb_cell_id = 10;\n",
       "                var nbb_unformatted_code = \"polihes_df.groupby([\\\"Governor Political Affiliation\\\"]).mean()\";\n",
       "                var nbb_formatted_code = \"polihes_df.groupby([\\\"Governor Political Affiliation\\\"]).mean()\";\n",
       "                var nbb_cells = Jupyter.notebook.get_cells();\n",
       "                for (var i = 0; i < nbb_cells.length; ++i) {\n",
       "                    if (nbb_cells[i].input_prompt_number == nbb_cell_id) {\n",
       "                        if (nbb_cells[i].get_text() == nbb_unformatted_code) {\n",
       "                             nbb_cells[i].set_text(nbb_formatted_code);\n",
       "                        }\n",
       "                        break;\n",
       "                    }\n",
       "                }\n",
       "            }, 500);\n",
       "            "
      ],
      "text/plain": [
       "<IPython.core.display.Javascript object>"
      ]
     },
     "metadata": {},
     "output_type": "display_data"
    }
   ],
   "source": [
    "polihes_df.groupby([\"Governor Political Affiliation\"]).mean()"
   ]
  },
  {
   "cell_type": "code",
   "execution_count": 11,
   "id": "e685b480",
   "metadata": {},
   "outputs": [
    {
     "data": {
      "application/javascript": [
       "\n",
       "            setTimeout(function() {\n",
       "                var nbb_cell_id = 11;\n",
       "                var nbb_unformatted_code = \"# Lets compare the means of republican states and democratic states via a one-way anova, lets check our assumptions\\n#Normality\";\n",
       "                var nbb_formatted_code = \"# Lets compare the means of republican states and democratic states via a one-way anova, lets check our assumptions\\n# Normality\";\n",
       "                var nbb_cells = Jupyter.notebook.get_cells();\n",
       "                for (var i = 0; i < nbb_cells.length; ++i) {\n",
       "                    if (nbb_cells[i].input_prompt_number == nbb_cell_id) {\n",
       "                        if (nbb_cells[i].get_text() == nbb_unformatted_code) {\n",
       "                             nbb_cells[i].set_text(nbb_formatted_code);\n",
       "                        }\n",
       "                        break;\n",
       "                    }\n",
       "                }\n",
       "            }, 500);\n",
       "            "
      ],
      "text/plain": [
       "<IPython.core.display.Javascript object>"
      ]
     },
     "metadata": {},
     "output_type": "display_data"
    }
   ],
   "source": [
    "# Lets compare the means of republican states and democratic states via a one-way anova, lets check our assumptions\n",
    "# Normality"
   ]
  }
 ],
 "metadata": {
  "kernelspec": {
   "display_name": "Python 3",
   "language": "python",
   "name": "python3"
  },
  "language_info": {
   "codemirror_mode": {
    "name": "ipython",
    "version": 3
   },
   "file_extension": ".py",
   "mimetype": "text/x-python",
   "name": "python",
   "nbconvert_exporter": "python",
   "pygments_lexer": "ipython3",
   "version": "3.8.8"
  }
 },
 "nbformat": 4,
 "nbformat_minor": 5
}
