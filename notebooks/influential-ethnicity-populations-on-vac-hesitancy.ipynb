{
 "cells": [
  {
   "cell_type": "markdown",
   "id": "14d99027",
   "metadata": {},
   "source": [
    "### Influential Ethicity Populations on Estimated Vaccine Hesitancy in American Counties"
   ]
  },
  {
   "cell_type": "code",
   "execution_count": 1,
   "id": "e51b71d3",
   "metadata": {},
   "outputs": [
    {
     "data": {
      "application/javascript": [
       "\n",
       "            setTimeout(function() {\n",
       "                var nbb_cell_id = 1;\n",
       "                var nbb_unformatted_code = \"%load_ext nb_black\";\n",
       "                var nbb_formatted_code = \"%load_ext nb_black\";\n",
       "                var nbb_cells = Jupyter.notebook.get_cells();\n",
       "                for (var i = 0; i < nbb_cells.length; ++i) {\n",
       "                    if (nbb_cells[i].input_prompt_number == nbb_cell_id) {\n",
       "                        if (nbb_cells[i].get_text() == nbb_unformatted_code) {\n",
       "                             nbb_cells[i].set_text(nbb_formatted_code);\n",
       "                        }\n",
       "                        break;\n",
       "                    }\n",
       "                }\n",
       "            }, 500);\n",
       "            "
      ],
      "text/plain": [
       "<IPython.core.display.Javascript object>"
      ]
     },
     "metadata": {},
     "output_type": "display_data"
    }
   ],
   "source": [
    "%load_ext nb_black"
   ]
  },
  {
   "cell_type": "markdown",
   "id": "ad922740",
   "metadata": {},
   "source": [
    "Our goal for this notebook is to build a model to predict estimated hesitancy of a county based on the ethnic/racial makeup of said county. We will make a county in the following form:\n",
    "$y_{esthes} = \\beta_0 + \\beta_1x_{nhamer}+ \\beta_2x_{asian} + \\beta_3x_{hispan} + \\beta_4x_{black} + \\beta_5x_{natam} + \\beta_6x_{white}$\n",
    "\n",
    "We hope that with this model we examine the relationship between multiple ethnicities and vaccination hesitancy to evaluate if certain communities have a greater hesistancy than others. "
   ]
  },
  {
   "cell_type": "code",
   "execution_count": 2,
   "id": "49ac3570",
   "metadata": {},
   "outputs": [
    {
     "data": {
      "application/javascript": [
       "\n",
       "            setTimeout(function() {\n",
       "                var nbb_cell_id = 2;\n",
       "                var nbb_unformatted_code = \"import requests\\nimport pandas as pd\\nimport numpy as np\\nimport statsmodels.api as sm\";\n",
       "                var nbb_formatted_code = \"import requests\\nimport pandas as pd\\nimport numpy as np\\nimport statsmodels.api as sm\";\n",
       "                var nbb_cells = Jupyter.notebook.get_cells();\n",
       "                for (var i = 0; i < nbb_cells.length; ++i) {\n",
       "                    if (nbb_cells[i].input_prompt_number == nbb_cell_id) {\n",
       "                        if (nbb_cells[i].get_text() == nbb_unformatted_code) {\n",
       "                             nbb_cells[i].set_text(nbb_formatted_code);\n",
       "                        }\n",
       "                        break;\n",
       "                    }\n",
       "                }\n",
       "            }, 500);\n",
       "            "
      ],
      "text/plain": [
       "<IPython.core.display.Javascript object>"
      ]
     },
     "metadata": {},
     "output_type": "display_data"
    }
   ],
   "source": [
    "import requests\n",
    "import pandas as pd\n",
    "import numpy as np\n",
    "import statsmodels.api as sm"
   ]
  },
  {
   "cell_type": "code",
   "execution_count": 3,
   "id": "02b6faeb",
   "metadata": {},
   "outputs": [
    {
     "data": {
      "application/javascript": [
       "\n",
       "            setTimeout(function() {\n",
       "                var nbb_cell_id = 3;\n",
       "                var nbb_unformatted_code = \"# Request hesitancy data\\nhesitancy_endpoint = \\\"https://data.cdc.gov/resource/q9mh-h2tw.json?$limit=4000\\\"\\nr = requests.get(hesitancy_endpoint)\\nhesitancy_df = pd.DataFrame(r.json())\\n#hesitancy_df.head()\";\n",
       "                var nbb_formatted_code = \"# Request hesitancy data\\nhesitancy_endpoint = \\\"https://data.cdc.gov/resource/q9mh-h2tw.json?$limit=4000\\\"\\nr = requests.get(hesitancy_endpoint)\\nhesitancy_df = pd.DataFrame(r.json())\\n# hesitancy_df.head()\";\n",
       "                var nbb_cells = Jupyter.notebook.get_cells();\n",
       "                for (var i = 0; i < nbb_cells.length; ++i) {\n",
       "                    if (nbb_cells[i].input_prompt_number == nbb_cell_id) {\n",
       "                        if (nbb_cells[i].get_text() == nbb_unformatted_code) {\n",
       "                             nbb_cells[i].set_text(nbb_formatted_code);\n",
       "                        }\n",
       "                        break;\n",
       "                    }\n",
       "                }\n",
       "            }, 500);\n",
       "            "
      ],
      "text/plain": [
       "<IPython.core.display.Javascript object>"
      ]
     },
     "metadata": {},
     "output_type": "display_data"
    }
   ],
   "source": [
    "# Request hesitancy data\n",
    "hesitancy_endpoint = \"https://data.cdc.gov/resource/q9mh-h2tw.json?$limit=4000\"\n",
    "r = requests.get(hesitancy_endpoint)\n",
    "hesitancy_df = pd.DataFrame(r.json())\n",
    "# hesitancy_df.head()"
   ]
  },
  {
   "cell_type": "code",
   "execution_count": 4,
   "id": "cf04d7d0",
   "metadata": {},
   "outputs": [
    {
     "data": {
      "text/html": [
       "<div>\n",
       "<style scoped>\n",
       "    .dataframe tbody tr th:only-of-type {\n",
       "        vertical-align: middle;\n",
       "    }\n",
       "\n",
       "    .dataframe tbody tr th {\n",
       "        vertical-align: top;\n",
       "    }\n",
       "\n",
       "    .dataframe thead th {\n",
       "        text-align: right;\n",
       "    }\n",
       "</style>\n",
       "<table border=\"1\" class=\"dataframe\">\n",
       "  <thead>\n",
       "    <tr style=\"text-align: right;\">\n",
       "      <th></th>\n",
       "      <th>Location</th>\n",
       "      <th>Governor Political Affiliation</th>\n",
       "      <th>State Senate Majority Political Affiliation</th>\n",
       "      <th>State House Majority Political Affiliation</th>\n",
       "      <th>State Attorney General Political Affiliation</th>\n",
       "      <th>State Insurance Commissioner Political Affiliation</th>\n",
       "      <th>Footnotes</th>\n",
       "    </tr>\n",
       "  </thead>\n",
       "  <tbody>\n",
       "    <tr>\n",
       "      <th>0</th>\n",
       "      <td>Alabama</td>\n",
       "      <td>Republican</td>\n",
       "      <td>Republican</td>\n",
       "      <td>Republican</td>\n",
       "      <td>Republican</td>\n",
       "      <td>Appointed</td>\n",
       "      <td>NaN</td>\n",
       "    </tr>\n",
       "    <tr>\n",
       "      <th>1</th>\n",
       "      <td>Alaska</td>\n",
       "      <td>Republican</td>\n",
       "      <td>Republican</td>\n",
       "      <td>Republican</td>\n",
       "      <td>Appointed</td>\n",
       "      <td>Appointed</td>\n",
       "      <td>NaN</td>\n",
       "    </tr>\n",
       "    <tr>\n",
       "      <th>2</th>\n",
       "      <td>Arizona</td>\n",
       "      <td>Republican</td>\n",
       "      <td>Republican</td>\n",
       "      <td>Republican</td>\n",
       "      <td>Republican</td>\n",
       "      <td>Appointed</td>\n",
       "      <td>NaN</td>\n",
       "    </tr>\n",
       "    <tr>\n",
       "      <th>3</th>\n",
       "      <td>Arkansas</td>\n",
       "      <td>Republican</td>\n",
       "      <td>Republican</td>\n",
       "      <td>Republican</td>\n",
       "      <td>Republican</td>\n",
       "      <td>Appointed</td>\n",
       "      <td>NaN</td>\n",
       "    </tr>\n",
       "    <tr>\n",
       "      <th>4</th>\n",
       "      <td>California</td>\n",
       "      <td>Democrat</td>\n",
       "      <td>Democrat</td>\n",
       "      <td>Democrat</td>\n",
       "      <td>Democrat</td>\n",
       "      <td>Democrat</td>\n",
       "      <td>NaN</td>\n",
       "    </tr>\n",
       "  </tbody>\n",
       "</table>\n",
       "</div>"
      ],
      "text/plain": [
       "     Location Governor Political Affiliation  \\\n",
       "0     Alabama                     Republican   \n",
       "1      Alaska                     Republican   \n",
       "2     Arizona                     Republican   \n",
       "3    Arkansas                     Republican   \n",
       "4  California                       Democrat   \n",
       "\n",
       "  State Senate Majority Political Affiliation  \\\n",
       "0                                  Republican   \n",
       "1                                  Republican   \n",
       "2                                  Republican   \n",
       "3                                  Republican   \n",
       "4                                    Democrat   \n",
       "\n",
       "  State House Majority Political Affiliation  \\\n",
       "0                                 Republican   \n",
       "1                                 Republican   \n",
       "2                                 Republican   \n",
       "3                                 Republican   \n",
       "4                                   Democrat   \n",
       "\n",
       "  State Attorney General Political Affiliation  \\\n",
       "0                                   Republican   \n",
       "1                                    Appointed   \n",
       "2                                   Republican   \n",
       "3                                   Republican   \n",
       "4                                     Democrat   \n",
       "\n",
       "  State Insurance Commissioner Political Affiliation  Footnotes  \n",
       "0                                          Appointed        NaN  \n",
       "1                                          Appointed        NaN  \n",
       "2                                          Appointed        NaN  \n",
       "3                                          Appointed        NaN  \n",
       "4                                           Democrat        NaN  "
      ]
     },
     "execution_count": 4,
     "metadata": {},
     "output_type": "execute_result"
    },
    {
     "data": {
      "application/javascript": [
       "\n",
       "            setTimeout(function() {\n",
       "                var nbb_cell_id = 4;\n",
       "                var nbb_unformatted_code = \"# Extracting political party data from our public github\\nurl = \\\"https://raw.githubusercontent.com/gspiga/STAT141Bfinal/main/data/raw_data.csv\\\"\\npoli_df = pd.read_csv(url)\\npoli_df.head()\";\n",
       "                var nbb_formatted_code = \"# Extracting political party data from our public github\\nurl = \\\"https://raw.githubusercontent.com/gspiga/STAT141Bfinal/main/data/raw_data.csv\\\"\\npoli_df = pd.read_csv(url)\\npoli_df.head()\";\n",
       "                var nbb_cells = Jupyter.notebook.get_cells();\n",
       "                for (var i = 0; i < nbb_cells.length; ++i) {\n",
       "                    if (nbb_cells[i].input_prompt_number == nbb_cell_id) {\n",
       "                        if (nbb_cells[i].get_text() == nbb_unformatted_code) {\n",
       "                             nbb_cells[i].set_text(nbb_formatted_code);\n",
       "                        }\n",
       "                        break;\n",
       "                    }\n",
       "                }\n",
       "            }, 500);\n",
       "            "
      ],
      "text/plain": [
       "<IPython.core.display.Javascript object>"
      ]
     },
     "metadata": {},
     "output_type": "display_data"
    }
   ],
   "source": [
    "# Extracting political party data from our public github\n",
    "url = \"https://raw.githubusercontent.com/gspiga/STAT141Bfinal/main/data/raw_data.csv\"\n",
    "poli_df = pd.read_csv(url)\n",
    "poli_df.head()"
   ]
  },
  {
   "cell_type": "code",
   "execution_count": 5,
   "id": "d6119a78",
   "metadata": {},
   "outputs": [
    {
     "data": {
      "text/html": [
       "<div>\n",
       "<style scoped>\n",
       "    .dataframe tbody tr th:only-of-type {\n",
       "        vertical-align: middle;\n",
       "    }\n",
       "\n",
       "    .dataframe tbody tr th {\n",
       "        vertical-align: top;\n",
       "    }\n",
       "\n",
       "    .dataframe thead th {\n",
       "        text-align: right;\n",
       "    }\n",
       "</style>\n",
       "<table border=\"1\" class=\"dataframe\">\n",
       "  <thead>\n",
       "    <tr style=\"text-align: right;\">\n",
       "      <th></th>\n",
       "      <th>Location</th>\n",
       "      <th>Governor Political Affiliation</th>\n",
       "      <th>State Senate Majority Political Affiliation</th>\n",
       "      <th>State House Majority Political Affiliation</th>\n",
       "      <th>State Attorney General Political Affiliation</th>\n",
       "      <th>State Insurance Commissioner Political Affiliation</th>\n",
       "      <th>Footnotes</th>\n",
       "    </tr>\n",
       "  </thead>\n",
       "  <tbody>\n",
       "    <tr>\n",
       "      <th>0</th>\n",
       "      <td>ALABAMA</td>\n",
       "      <td>Republican</td>\n",
       "      <td>Republican</td>\n",
       "      <td>Republican</td>\n",
       "      <td>Republican</td>\n",
       "      <td>Appointed</td>\n",
       "      <td>NaN</td>\n",
       "    </tr>\n",
       "    <tr>\n",
       "      <th>1</th>\n",
       "      <td>ALASKA</td>\n",
       "      <td>Republican</td>\n",
       "      <td>Republican</td>\n",
       "      <td>Republican</td>\n",
       "      <td>Appointed</td>\n",
       "      <td>Appointed</td>\n",
       "      <td>NaN</td>\n",
       "    </tr>\n",
       "    <tr>\n",
       "      <th>2</th>\n",
       "      <td>ARIZONA</td>\n",
       "      <td>Republican</td>\n",
       "      <td>Republican</td>\n",
       "      <td>Republican</td>\n",
       "      <td>Republican</td>\n",
       "      <td>Appointed</td>\n",
       "      <td>NaN</td>\n",
       "    </tr>\n",
       "    <tr>\n",
       "      <th>3</th>\n",
       "      <td>ARKANSAS</td>\n",
       "      <td>Republican</td>\n",
       "      <td>Republican</td>\n",
       "      <td>Republican</td>\n",
       "      <td>Republican</td>\n",
       "      <td>Appointed</td>\n",
       "      <td>NaN</td>\n",
       "    </tr>\n",
       "    <tr>\n",
       "      <th>4</th>\n",
       "      <td>CALIFORNIA</td>\n",
       "      <td>Democrat</td>\n",
       "      <td>Democrat</td>\n",
       "      <td>Democrat</td>\n",
       "      <td>Democrat</td>\n",
       "      <td>Democrat</td>\n",
       "      <td>NaN</td>\n",
       "    </tr>\n",
       "  </tbody>\n",
       "</table>\n",
       "</div>"
      ],
      "text/plain": [
       "     Location Governor Political Affiliation  \\\n",
       "0     ALABAMA                     Republican   \n",
       "1      ALASKA                     Republican   \n",
       "2     ARIZONA                     Republican   \n",
       "3    ARKANSAS                     Republican   \n",
       "4  CALIFORNIA                       Democrat   \n",
       "\n",
       "  State Senate Majority Political Affiliation  \\\n",
       "0                                  Republican   \n",
       "1                                  Republican   \n",
       "2                                  Republican   \n",
       "3                                  Republican   \n",
       "4                                    Democrat   \n",
       "\n",
       "  State House Majority Political Affiliation  \\\n",
       "0                                 Republican   \n",
       "1                                 Republican   \n",
       "2                                 Republican   \n",
       "3                                 Republican   \n",
       "4                                   Democrat   \n",
       "\n",
       "  State Attorney General Political Affiliation  \\\n",
       "0                                   Republican   \n",
       "1                                    Appointed   \n",
       "2                                   Republican   \n",
       "3                                   Republican   \n",
       "4                                     Democrat   \n",
       "\n",
       "  State Insurance Commissioner Political Affiliation  Footnotes  \n",
       "0                                          Appointed        NaN  \n",
       "1                                          Appointed        NaN  \n",
       "2                                          Appointed        NaN  \n",
       "3                                          Appointed        NaN  \n",
       "4                                           Democrat        NaN  "
      ]
     },
     "execution_count": 5,
     "metadata": {},
     "output_type": "execute_result"
    },
    {
     "data": {
      "application/javascript": [
       "\n",
       "            setTimeout(function() {\n",
       "                var nbb_cell_id = 5;\n",
       "                var nbb_unformatted_code = \"# Changing one column in poli_df to upper case so that we may join them (pandas is case sensitive).\\npoli_df[\\\"Location\\\"] = poli_df[\\\"Location\\\"].apply(\\n    lambda x: x.upper()  # Uppercase all state names\\n)\\npoli_df.head()\";\n",
       "                var nbb_formatted_code = \"# Changing one column in poli_df to upper case so that we may join them (pandas is case sensitive).\\npoli_df[\\\"Location\\\"] = poli_df[\\\"Location\\\"].apply(\\n    lambda x: x.upper()  # Uppercase all state names\\n)\\npoli_df.head()\";\n",
       "                var nbb_cells = Jupyter.notebook.get_cells();\n",
       "                for (var i = 0; i < nbb_cells.length; ++i) {\n",
       "                    if (nbb_cells[i].input_prompt_number == nbb_cell_id) {\n",
       "                        if (nbb_cells[i].get_text() == nbb_unformatted_code) {\n",
       "                             nbb_cells[i].set_text(nbb_formatted_code);\n",
       "                        }\n",
       "                        break;\n",
       "                    }\n",
       "                }\n",
       "            }, 500);\n",
       "            "
      ],
      "text/plain": [
       "<IPython.core.display.Javascript object>"
      ]
     },
     "metadata": {},
     "output_type": "display_data"
    }
   ],
   "source": [
    "# Changing one column in poli_df to upper case so that we may join them (pandas is case sensitive).\n",
    "poli_df[\"Location\"] = poli_df[\"Location\"].apply(\n",
    "    lambda x: x.upper()  # Uppercase all state names\n",
    ")\n",
    "poli_df.head()"
   ]
  },
  {
   "cell_type": "code",
   "execution_count": 6,
   "id": "ffc175c1",
   "metadata": {},
   "outputs": [
    {
     "data": {
      "application/javascript": [
       "\n",
       "            setTimeout(function() {\n",
       "                var nbb_cell_id = 6;\n",
       "                var nbb_unformatted_code = \"# We join the dataframe\\npolihes_df = hesitancy_df.merge(poli_df, left_on=\\\"state\\\", right_on=\\\"Location\\\")\\n\\n# Have to change decimal values from string to numeric\\ncols = [\\n    \\\"estimated_hesitant\\\",\\n    \\\"estimated_hesitant_or_unsure\\\",\\n    \\\"estimated_strongly_hesitant\\\",\\n    \\\"estimated_strongly_hesitant\\\",\\n    \\\"social_vulnerability_index\\\",\\n    \\\"ability_to_handle_a_covid\\\",\\n    \\\"percent_hispanic\\\",\\n    \\\"percent_non_hispanic_american\\\",\\n    \\\"percent_non_hispanic_asian\\\",\\n    \\\"percent_non_hispanic_black\\\",\\n    \\\"percent_non_hispanic_native\\\",\\n    \\\"percent_non_hispanic_white\\\",\\n]\\npolihes_df[cols] = polihes_df[cols].apply(pd.to_numeric, errors=\\\"coerce\\\", axis=1)\";\n",
       "                var nbb_formatted_code = \"# We join the dataframe\\npolihes_df = hesitancy_df.merge(poli_df, left_on=\\\"state\\\", right_on=\\\"Location\\\")\\n\\n# Have to change decimal values from string to numeric\\ncols = [\\n    \\\"estimated_hesitant\\\",\\n    \\\"estimated_hesitant_or_unsure\\\",\\n    \\\"estimated_strongly_hesitant\\\",\\n    \\\"estimated_strongly_hesitant\\\",\\n    \\\"social_vulnerability_index\\\",\\n    \\\"ability_to_handle_a_covid\\\",\\n    \\\"percent_hispanic\\\",\\n    \\\"percent_non_hispanic_american\\\",\\n    \\\"percent_non_hispanic_asian\\\",\\n    \\\"percent_non_hispanic_black\\\",\\n    \\\"percent_non_hispanic_native\\\",\\n    \\\"percent_non_hispanic_white\\\",\\n]\\npolihes_df[cols] = polihes_df[cols].apply(pd.to_numeric, errors=\\\"coerce\\\", axis=1)\";\n",
       "                var nbb_cells = Jupyter.notebook.get_cells();\n",
       "                for (var i = 0; i < nbb_cells.length; ++i) {\n",
       "                    if (nbb_cells[i].input_prompt_number == nbb_cell_id) {\n",
       "                        if (nbb_cells[i].get_text() == nbb_unformatted_code) {\n",
       "                             nbb_cells[i].set_text(nbb_formatted_code);\n",
       "                        }\n",
       "                        break;\n",
       "                    }\n",
       "                }\n",
       "            }, 500);\n",
       "            "
      ],
      "text/plain": [
       "<IPython.core.display.Javascript object>"
      ]
     },
     "metadata": {},
     "output_type": "display_data"
    }
   ],
   "source": [
    "# We join the dataframe\n",
    "polihes_df = hesitancy_df.merge(poli_df, left_on=\"state\", right_on=\"Location\")\n",
    "\n",
    "# Have to change decimal values from string to numeric\n",
    "cols = [\n",
    "    \"estimated_hesitant\",\n",
    "    \"estimated_hesitant_or_unsure\",\n",
    "    \"estimated_strongly_hesitant\",\n",
    "    \"estimated_strongly_hesitant\",\n",
    "    \"social_vulnerability_index\",\n",
    "    \"ability_to_handle_a_covid\",\n",
    "    \"percent_hispanic\",\n",
    "    \"percent_non_hispanic_american\",\n",
    "    \"percent_non_hispanic_asian\",\n",
    "    \"percent_non_hispanic_black\",\n",
    "    \"percent_non_hispanic_native\",\n",
    "    \"percent_non_hispanic_white\",\n",
    "]\n",
    "polihes_df[cols] = polihes_df[cols].apply(pd.to_numeric, errors=\"coerce\", axis=1)"
   ]
  },
  {
   "cell_type": "markdown",
   "id": "0e9323d3",
   "metadata": {},
   "source": [
    "We will now form a linear regression model based on SVI, Death rate, ability to handle a covid outbreak, and governor political affiliation to predict hesistancy. "
   ]
  },
  {
   "cell_type": "code",
   "execution_count": 7,
   "id": "0f80417f",
   "metadata": {},
   "outputs": [
    {
     "data": {
      "text/html": [
       "<table class=\"simpletable\">\n",
       "<caption>OLS Regression Results</caption>\n",
       "<tr>\n",
       "  <th>Dep. Variable:</th>    <td>estimated_hesitant</td> <th>  R-squared:         </th>  <td>   0.165</td> \n",
       "</tr>\n",
       "<tr>\n",
       "  <th>Model:</th>                    <td>OLS</td>        <th>  Adj. R-squared:    </th>  <td>   0.164</td> \n",
       "</tr>\n",
       "<tr>\n",
       "  <th>Method:</th>              <td>Least Squares</td>   <th>  F-statistic:       </th>  <td>   103.5</td> \n",
       "</tr>\n",
       "<tr>\n",
       "  <th>Date:</th>              <td>Wed, 08 Dec 2021</td>  <th>  Prob (F-statistic):</th>  <td>2.86e-119</td>\n",
       "</tr>\n",
       "<tr>\n",
       "  <th>Time:</th>                  <td>23:53:24</td>      <th>  Log-Likelihood:    </th>  <td>  5477.9</td> \n",
       "</tr>\n",
       "<tr>\n",
       "  <th>No. Observations:</th>       <td>  3142</td>       <th>  AIC:               </th> <td>-1.094e+04</td>\n",
       "</tr>\n",
       "<tr>\n",
       "  <th>Df Residuals:</th>           <td>  3135</td>       <th>  BIC:               </th> <td>-1.090e+04</td>\n",
       "</tr>\n",
       "<tr>\n",
       "  <th>Df Model:</th>               <td>     6</td>       <th>                     </th>      <td> </td>    \n",
       "</tr>\n",
       "<tr>\n",
       "  <th>Covariance Type:</th>       <td>nonrobust</td>     <th>                     </th>      <td> </td>    \n",
       "</tr>\n",
       "</table>\n",
       "<table class=\"simpletable\">\n",
       "<tr>\n",
       "                <td></td>                   <th>coef</th>     <th>std err</th>      <th>t</th>      <th>P>|t|</th>  <th>[0.025</th>    <th>0.975]</th>  \n",
       "</tr>\n",
       "<tr>\n",
       "  <th>const</th>                         <td>    0.3897</td> <td>    0.051</td> <td>    7.702</td> <td> 0.000</td> <td>    0.290</td> <td>    0.489</td>\n",
       "</tr>\n",
       "<tr>\n",
       "  <th>percent_non_hispanic_american</th> <td>   -0.1629</td> <td>    0.055</td> <td>   -2.962</td> <td> 0.003</td> <td>   -0.271</td> <td>   -0.055</td>\n",
       "</tr>\n",
       "<tr>\n",
       "  <th>percent_non_hispanic_asian</th>    <td>   -0.7552</td> <td>    0.067</td> <td>  -11.246</td> <td> 0.000</td> <td>   -0.887</td> <td>   -0.624</td>\n",
       "</tr>\n",
       "<tr>\n",
       "  <th>percent_hispanic</th>              <td>   -0.3045</td> <td>    0.051</td> <td>   -5.944</td> <td> 0.000</td> <td>   -0.405</td> <td>   -0.204</td>\n",
       "</tr>\n",
       "<tr>\n",
       "  <th>percent_non_hispanic_black</th>    <td>   -0.2031</td> <td>    0.052</td> <td>   -3.942</td> <td> 0.000</td> <td>   -0.304</td> <td>   -0.102</td>\n",
       "</tr>\n",
       "<tr>\n",
       "  <th>percent_non_hispanic_native</th>   <td>   -0.0342</td> <td>    0.163</td> <td>   -0.210</td> <td> 0.833</td> <td>   -0.353</td> <td>    0.285</td>\n",
       "</tr>\n",
       "<tr>\n",
       "  <th>percent_non_hispanic_white</th>    <td>   -0.2583</td> <td>    0.052</td> <td>   -5.011</td> <td> 0.000</td> <td>   -0.359</td> <td>   -0.157</td>\n",
       "</tr>\n",
       "</table>\n",
       "<table class=\"simpletable\">\n",
       "<tr>\n",
       "  <th>Omnibus:</th>       <td>113.032</td> <th>  Durbin-Watson:     </th> <td>   0.296</td>\n",
       "</tr>\n",
       "<tr>\n",
       "  <th>Prob(Omnibus):</th> <td> 0.000</td>  <th>  Jarque-Bera (JB):  </th> <td> 152.412</td>\n",
       "</tr>\n",
       "<tr>\n",
       "  <th>Skew:</th>          <td> 0.377</td>  <th>  Prob(JB):          </th> <td>8.02e-34</td>\n",
       "</tr>\n",
       "<tr>\n",
       "  <th>Kurtosis:</th>      <td> 3.772</td>  <th>  Cond. No.          </th> <td>    312.</td>\n",
       "</tr>\n",
       "</table><br/><br/>Notes:<br/>[1] Standard Errors assume that the covariance matrix of the errors is correctly specified."
      ],
      "text/plain": [
       "<class 'statsmodels.iolib.summary.Summary'>\n",
       "\"\"\"\n",
       "                            OLS Regression Results                            \n",
       "==============================================================================\n",
       "Dep. Variable:     estimated_hesitant   R-squared:                       0.165\n",
       "Model:                            OLS   Adj. R-squared:                  0.164\n",
       "Method:                 Least Squares   F-statistic:                     103.5\n",
       "Date:                Wed, 08 Dec 2021   Prob (F-statistic):          2.86e-119\n",
       "Time:                        23:53:24   Log-Likelihood:                 5477.9\n",
       "No. Observations:                3142   AIC:                        -1.094e+04\n",
       "Df Residuals:                    3135   BIC:                        -1.090e+04\n",
       "Df Model:                           6                                         \n",
       "Covariance Type:            nonrobust                                         \n",
       "=================================================================================================\n",
       "                                    coef    std err          t      P>|t|      [0.025      0.975]\n",
       "-------------------------------------------------------------------------------------------------\n",
       "const                             0.3897      0.051      7.702      0.000       0.290       0.489\n",
       "percent_non_hispanic_american    -0.1629      0.055     -2.962      0.003      -0.271      -0.055\n",
       "percent_non_hispanic_asian       -0.7552      0.067    -11.246      0.000      -0.887      -0.624\n",
       "percent_hispanic                 -0.3045      0.051     -5.944      0.000      -0.405      -0.204\n",
       "percent_non_hispanic_black       -0.2031      0.052     -3.942      0.000      -0.304      -0.102\n",
       "percent_non_hispanic_native      -0.0342      0.163     -0.210      0.833      -0.353       0.285\n",
       "percent_non_hispanic_white       -0.2583      0.052     -5.011      0.000      -0.359      -0.157\n",
       "==============================================================================\n",
       "Omnibus:                      113.032   Durbin-Watson:                   0.296\n",
       "Prob(Omnibus):                  0.000   Jarque-Bera (JB):              152.412\n",
       "Skew:                           0.377   Prob(JB):                     8.02e-34\n",
       "Kurtosis:                       3.772   Cond. No.                         312.\n",
       "==============================================================================\n",
       "\n",
       "Notes:\n",
       "[1] Standard Errors assume that the covariance matrix of the errors is correctly specified.\n",
       "\"\"\""
      ]
     },
     "execution_count": 7,
     "metadata": {},
     "output_type": "execute_result"
    },
    {
     "data": {
      "application/javascript": [
       "\n",
       "            setTimeout(function() {\n",
       "                var nbb_cell_id = 7;\n",
       "                var nbb_unformatted_code = \"X_eth = polihes_df[\\n    [\\n        \\\"percent_non_hispanic_american\\\",\\n        \\\"percent_non_hispanic_asian\\\",\\n        \\\"percent_hispanic\\\",\\n        \\\"percent_non_hispanic_black\\\",\\n        \\\"percent_non_hispanic_native\\\",\\n        \\\"percent_non_hispanic_white\\\",\\n    ]\\n]\\nX_eth = sm.add_constant(X_eth)\\nY = polihes_df[\\\"estimated_hesitant\\\"]\\n\\nmodel = sm.OLS(Y, X_eth).fit()\\npredictions = model.predict(X_eth)\\n\\nmodel.summary()\";\n",
       "                var nbb_formatted_code = \"X_eth = polihes_df[\\n    [\\n        \\\"percent_non_hispanic_american\\\",\\n        \\\"percent_non_hispanic_asian\\\",\\n        \\\"percent_hispanic\\\",\\n        \\\"percent_non_hispanic_black\\\",\\n        \\\"percent_non_hispanic_native\\\",\\n        \\\"percent_non_hispanic_white\\\",\\n    ]\\n]\\nX_eth = sm.add_constant(X_eth)\\nY = polihes_df[\\\"estimated_hesitant\\\"]\\n\\nmodel = sm.OLS(Y, X_eth).fit()\\npredictions = model.predict(X_eth)\\n\\nmodel.summary()\";\n",
       "                var nbb_cells = Jupyter.notebook.get_cells();\n",
       "                for (var i = 0; i < nbb_cells.length; ++i) {\n",
       "                    if (nbb_cells[i].input_prompt_number == nbb_cell_id) {\n",
       "                        if (nbb_cells[i].get_text() == nbb_unformatted_code) {\n",
       "                             nbb_cells[i].set_text(nbb_formatted_code);\n",
       "                        }\n",
       "                        break;\n",
       "                    }\n",
       "                }\n",
       "            }, 500);\n",
       "            "
      ],
      "text/plain": [
       "<IPython.core.display.Javascript object>"
      ]
     },
     "metadata": {},
     "output_type": "display_data"
    }
   ],
   "source": [
    "X_eth = polihes_df[\n",
    "    [\n",
    "        \"percent_non_hispanic_american\",\n",
    "        \"percent_non_hispanic_asian\",\n",
    "        \"percent_hispanic\",\n",
    "        \"percent_non_hispanic_black\",\n",
    "        \"percent_non_hispanic_native\",\n",
    "        \"percent_non_hispanic_white\",\n",
    "    ]\n",
    "]\n",
    "X_eth = sm.add_constant(X_eth)\n",
    "Y = polihes_df[\"estimated_hesitant\"]\n",
    "\n",
    "model = sm.OLS(Y, X_eth).fit()\n",
    "predictions = model.predict(X_eth)\n",
    "\n",
    "model.summary()"
   ]
  },
  {
   "cell_type": "code",
   "execution_count": 8,
   "id": "5aa0df88",
   "metadata": {},
   "outputs": [
    {
     "data": {
      "application/javascript": [
       "\n",
       "            setTimeout(function() {\n",
       "                var nbb_cell_id = 8;\n",
       "                var nbb_unformatted_code = \"# Y_sh = polihes_df[\\\"estimated_strongly_hesitant\\\"]\\n\\n# model2 = sm.OLS(Y_sh, X_eth).fit()\\n# predictions = model2.predict(X_eth)\\n\\n# model2.summary()\";\n",
       "                var nbb_formatted_code = \"# Y_sh = polihes_df[\\\"estimated_strongly_hesitant\\\"]\\n\\n# model2 = sm.OLS(Y_sh, X_eth).fit()\\n# predictions = model2.predict(X_eth)\\n\\n# model2.summary()\";\n",
       "                var nbb_cells = Jupyter.notebook.get_cells();\n",
       "                for (var i = 0; i < nbb_cells.length; ++i) {\n",
       "                    if (nbb_cells[i].input_prompt_number == nbb_cell_id) {\n",
       "                        if (nbb_cells[i].get_text() == nbb_unformatted_code) {\n",
       "                             nbb_cells[i].set_text(nbb_formatted_code);\n",
       "                        }\n",
       "                        break;\n",
       "                    }\n",
       "                }\n",
       "            }, 500);\n",
       "            "
      ],
      "text/plain": [
       "<IPython.core.display.Javascript object>"
      ]
     },
     "metadata": {},
     "output_type": "display_data"
    }
   ],
   "source": [
    "# Y_sh = polihes_df[\"estimated_strongly_hesitant\"]\n",
    "\n",
    "# model2 = sm.OLS(Y_sh, X_eth).fit()\n",
    "# predictions = model2.predict(X_eth)\n",
    "\n",
    "# model2.summary()"
   ]
  },
  {
   "cell_type": "markdown",
   "id": "af79a0e8",
   "metadata": {},
   "source": [
    "From our model summary we can see that we get a model for predicting hesistancy with equation:\n",
    "$y_{esthes} = 0.3897 - 0.1629x_{nhamer}- 0.7552x_{asian} - 0.3045x_{hispan} - 0.2031x_{black} - 0.0342x_{natam} - 0.2583x_{white}$\n",
    "We can see that the ethnicity population with the largest influence on vaccine hesitancy is non-hispanic asians with a coefficient of -0.7552. As with all the coefficients in this model, the negative values represent a relationship corresponding to the increase in population of a certain ethnicity/race lowers the estimated hesitancy of a population. Out of the ethnicities listed, only one is not significant to our model, the population of native americans. We can understand that this is probably due to the extremely low population of Native Americans in most counties.\n",
    "\n",
    "If we look at the other lower-coefficient ethnicities such as non-hispanic americans and non-hispanic black, we can see that these communities have the lesser influence on hesitancy. So while an increase in non-hispanic blacks and non-hispanic americans may overall decrease hesitancy, it does so at a much slower rate than ethnicities such as Asian and Hispanic. This leads us to question if there larger proportions of the populations of blacks and non-hispanic Americans that tend to be more hesitant.  \n",
    "\n",
    "Another factor to notice in the model is our adjusted R-squared value, which is only 0.164. We can understand by this that the explanatory power of ethnicity on vaccine hesiancy is low. \n",
    "\n",
    "\n",
    "In conclusion we can see that the ethnicity make up of a population can be used to predict the estimated hesitancy of a county. However, we should not expect ethnicity to have a high explanatory power as to why there might be a certain level of hesistancy in a given county. "
   ]
  }
 ],
 "metadata": {
  "kernelspec": {
   "display_name": "Python 3",
   "language": "python",
   "name": "python3"
  },
  "language_info": {
   "codemirror_mode": {
    "name": "ipython",
    "version": 3
   },
   "file_extension": ".py",
   "mimetype": "text/x-python",
   "name": "python",
   "nbconvert_exporter": "python",
   "pygments_lexer": "ipython3",
   "version": "3.8.8"
  }
 },
 "nbformat": 4,
 "nbformat_minor": 5
}
