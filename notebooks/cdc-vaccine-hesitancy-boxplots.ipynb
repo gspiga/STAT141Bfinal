{
 "cells": [
  {
   "cell_type": "markdown",
   "metadata": {},
   "source": [
    "## What is the hesitancy of vaccines by state and government party?\n",
    "\n",
    "We will explore this data on the state level and construct a box plot to show proportion of residents who fall into three categories:\n",
    "\n",
    "- **Hesitant**\n",
    "- **Hesitant or Unsure**\n",
    "- **Strongly Hesitant**\n",
    "\n",
    "### Data used\n",
    "* CDC Vaccine Hesitancy\n",
    "* State Political Parties"
   ]
  },
  {
   "cell_type": "code",
   "execution_count": 16,
   "metadata": {},
   "outputs": [],
   "source": [
    "# Load libraries and data\n",
    "import pandas as pd\n",
    "import numpy as np\n",
    "\n",
    "state_hesitancy_df = pd.read_csv('../data/cdc-vaccine-hesitancy.csv')\n",
    "state_parties_df = pd.read_csv('../data/state-political-parties.csv')"
   ]
  },
  {
   "cell_type": "code",
   "execution_count": 17,
   "metadata": {},
   "outputs": [
    {
     "data": {
      "text/html": [
       "<div>\n",
       "<style scoped>\n",
       "    .dataframe tbody tr th:only-of-type {\n",
       "        vertical-align: middle;\n",
       "    }\n",
       "\n",
       "    .dataframe tbody tr th {\n",
       "        vertical-align: top;\n",
       "    }\n",
       "\n",
       "    .dataframe thead th {\n",
       "        text-align: right;\n",
       "    }\n",
       "</style>\n",
       "<table border=\"1\" class=\"dataframe\">\n",
       "  <thead>\n",
       "    <tr style=\"text-align: right;\">\n",
       "      <th></th>\n",
       "      <th>Estimated hesitant</th>\n",
       "      <th>Estimated hesitant or unsure</th>\n",
       "      <th>Estimated strongly hesitant</th>\n",
       "    </tr>\n",
       "    <tr>\n",
       "      <th>State</th>\n",
       "      <th></th>\n",
       "      <th></th>\n",
       "      <th></th>\n",
       "    </tr>\n",
       "  </thead>\n",
       "  <tbody>\n",
       "    <tr>\n",
       "      <th>ALABAMA</th>\n",
       "      <td>0.173507</td>\n",
       "      <td>0.231512</td>\n",
       "      <td>0.132409</td>\n",
       "    </tr>\n",
       "    <tr>\n",
       "      <th>ALASKA</th>\n",
       "      <td>0.217386</td>\n",
       "      <td>0.264245</td>\n",
       "      <td>0.156907</td>\n",
       "    </tr>\n",
       "    <tr>\n",
       "      <th>ARIZONA</th>\n",
       "      <td>0.159240</td>\n",
       "      <td>0.242547</td>\n",
       "      <td>0.121353</td>\n",
       "    </tr>\n",
       "    <tr>\n",
       "      <th>ARKANSAS</th>\n",
       "      <td>0.212123</td>\n",
       "      <td>0.261232</td>\n",
       "      <td>0.139901</td>\n",
       "    </tr>\n",
       "    <tr>\n",
       "      <th>CALIFORNIA</th>\n",
       "      <td>0.072274</td>\n",
       "      <td>0.111041</td>\n",
       "      <td>0.035807</td>\n",
       "    </tr>\n",
       "  </tbody>\n",
       "</table>\n",
       "</div>"
      ],
      "text/plain": [
       "            Estimated hesitant  Estimated hesitant or unsure  \\\n",
       "State                                                          \n",
       "ALABAMA               0.173507                      0.231512   \n",
       "ALASKA                0.217386                      0.264245   \n",
       "ARIZONA               0.159240                      0.242547   \n",
       "ARKANSAS              0.212123                      0.261232   \n",
       "CALIFORNIA            0.072274                      0.111041   \n",
       "\n",
       "            Estimated strongly hesitant  \n",
       "State                                    \n",
       "ALABAMA                        0.132409  \n",
       "ALASKA                         0.156907  \n",
       "ARIZONA                        0.121353  \n",
       "ARKANSAS                       0.139901  \n",
       "CALIFORNIA                     0.035807  "
      ]
     },
     "execution_count": 17,
     "metadata": {},
     "output_type": "execute_result"
    }
   ],
   "source": [
    "# Group hesitancy data by state\n",
    "state_hesitancy_df = state_hesitancy_df.filter(\n",
    "    [\n",
    "        'State', \n",
    "        'Estimated hesitant', \n",
    "        'Estimated hesitant or unsure', \n",
    "        'Estimated strongly hesitant'\n",
    "    ]\n",
    ")\n",
    "\n",
    "state_hesitancy_df = state_hesitancy_df.groupby('State').mean()\n",
    "state_hesitancy_df.head()"
   ]
  },
  {
   "cell_type": "code",
   "execution_count": 18,
   "metadata": {},
   "outputs": [
    {
     "data": {
      "text/html": [
       "<div>\n",
       "<style scoped>\n",
       "    .dataframe tbody tr th:only-of-type {\n",
       "        vertical-align: middle;\n",
       "    }\n",
       "\n",
       "    .dataframe tbody tr th {\n",
       "        vertical-align: top;\n",
       "    }\n",
       "\n",
       "    .dataframe thead th {\n",
       "        text-align: right;\n",
       "    }\n",
       "</style>\n",
       "<table border=\"1\" class=\"dataframe\">\n",
       "  <thead>\n",
       "    <tr style=\"text-align: right;\">\n",
       "      <th></th>\n",
       "      <th>Estimated hesitant</th>\n",
       "      <th>Estimated hesitant or unsure</th>\n",
       "      <th>Estimated strongly hesitant</th>\n",
       "      <th>Governor Political Affiliation</th>\n",
       "    </tr>\n",
       "    <tr>\n",
       "      <th>State</th>\n",
       "      <th></th>\n",
       "      <th></th>\n",
       "      <th></th>\n",
       "      <th></th>\n",
       "    </tr>\n",
       "  </thead>\n",
       "  <tbody>\n",
       "    <tr>\n",
       "      <th>ALABAMA</th>\n",
       "      <td>0.173507</td>\n",
       "      <td>0.231512</td>\n",
       "      <td>0.132409</td>\n",
       "      <td>Republican</td>\n",
       "    </tr>\n",
       "    <tr>\n",
       "      <th>ALASKA</th>\n",
       "      <td>0.217386</td>\n",
       "      <td>0.264245</td>\n",
       "      <td>0.156907</td>\n",
       "      <td>Republican</td>\n",
       "    </tr>\n",
       "    <tr>\n",
       "      <th>ARIZONA</th>\n",
       "      <td>0.159240</td>\n",
       "      <td>0.242547</td>\n",
       "      <td>0.121353</td>\n",
       "      <td>Republican</td>\n",
       "    </tr>\n",
       "    <tr>\n",
       "      <th>ARKANSAS</th>\n",
       "      <td>0.212123</td>\n",
       "      <td>0.261232</td>\n",
       "      <td>0.139901</td>\n",
       "      <td>Republican</td>\n",
       "    </tr>\n",
       "    <tr>\n",
       "      <th>CALIFORNIA</th>\n",
       "      <td>0.072274</td>\n",
       "      <td>0.111041</td>\n",
       "      <td>0.035807</td>\n",
       "      <td>Democrat</td>\n",
       "    </tr>\n",
       "  </tbody>\n",
       "</table>\n",
       "</div>"
      ],
      "text/plain": [
       "            Estimated hesitant  Estimated hesitant or unsure  \\\n",
       "State                                                          \n",
       "ALABAMA               0.173507                      0.231512   \n",
       "ALASKA                0.217386                      0.264245   \n",
       "ARIZONA               0.159240                      0.242547   \n",
       "ARKANSAS              0.212123                      0.261232   \n",
       "CALIFORNIA            0.072274                      0.111041   \n",
       "\n",
       "            Estimated strongly hesitant Governor Political Affiliation  \n",
       "State                                                                   \n",
       "ALABAMA                        0.132409                     Republican  \n",
       "ALASKA                         0.156907                     Republican  \n",
       "ARIZONA                        0.121353                     Republican  \n",
       "ARKANSAS                       0.139901                     Republican  \n",
       "CALIFORNIA                     0.035807                       Democrat  "
      ]
     },
     "execution_count": 18,
     "metadata": {},
     "output_type": "execute_result"
    }
   ],
   "source": [
    "# Attatch state Governer's party\n",
    "state_parties_df['State'] = state_parties_df['Location'].apply(\n",
    "    lambda x: x.upper() # Uppercase all state names\n",
    ")\n",
    "state_parties_df.drop(columns=['Location'], inplace=True) \n",
    "state_parties_df.set_index('State', inplace=True)\n",
    "\n",
    "state_hesitancy_df = state_hesitancy_df.merge(state_parties_df, left_index=True, right_index=True)\n",
    "\n",
    "state_hesitancy_df.head()"
   ]
  },
  {
   "cell_type": "code",
   "execution_count": 19,
   "metadata": {},
   "outputs": [
    {
     "data": {
      "text/plain": [
       "array([[<AxesSubplot:title={'center':'Estimated hesitant'}, xlabel='Governor Political Affiliation'>,\n",
       "        <AxesSubplot:title={'center':'Estimated hesitant or unsure'}, xlabel='Governor Political Affiliation'>],\n",
       "       [<AxesSubplot:title={'center':'Estimated strongly hesitant'}, xlabel='Governor Political Affiliation'>,\n",
       "        <AxesSubplot:>]], dtype=object)"
      ]
     },
     "execution_count": 19,
     "metadata": {},
     "output_type": "execute_result"
    },
    {
     "data": {
      "image/png": "[encoded data removed]",
      "text/plain": [
       "<Figure size 720x432 with 4 Axes>"
      ]
     },
     "metadata": {
      "needs_background": "light"
     },
     "output_type": "display_data"
    }
   ],
   "source": [
    "# Boxplot of hesitancy estimates by political party \n",
    "state_hesitancy_df.boxplot(\n",
    "    column=[\n",
    "        'Estimated hesitant', \n",
    "        'Estimated hesitant or unsure', \n",
    "        'Estimated strongly hesitant'\n",
    "    ], \n",
    "    by='Governor Political Affiliation',\n",
    "    figsize=(10, 6)\n",
    ")"
   ]
  },
  {
   "cell_type": "markdown",
   "metadata": {},
   "source": [
    "## Conclusion:\n",
    "\n",
    "These boxplots show that Republicans are much more likely to be hesitant towards the COVID-19 vaccine than Democrats.\n",
    "In other notebooks we look into death proportions by state and political party to see if there is a difference in proportion of deaths due to COVID-19. It would make sense to see a higher proportion of COVID-19 deaths in Republican governed states due to the hesitancy and lack of vaccinations."
   ]
  }
 ],
 "metadata": {
  "interpreter": {
   "hash": "7ae0514691a5b49222545b101e2df06a3723addc9b601c1e00239e4c76c308f2"
  },
  "kernelspec": {
   "display_name": "Python 3.8.8 64-bit ('base': conda)",
   "language": "python",
   "name": "python3"
  },
  "language_info": {
   "codemirror_mode": {
    "name": "ipython",
    "version": 3
   },
   "file_extension": ".py",
   "mimetype": "text/x-python",
   "name": "python",
   "nbconvert_exporter": "python",
   "pygments_lexer": "ipython3",
   "version": "3.8.8"
  },
  "orig_nbformat": 4
 },
 "nbformat": 4,
 "nbformat_minor": 2
}
